{
 "cells": [
  {
   "cell_type": "code",
   "execution_count": 1,
   "id": "d51d4c53",
   "metadata": {},
   "outputs": [],
   "source": [
    "import pandas as pd\n",
    "import numpy as np\n",
    "import seaborn as sns\n",
    "import matplotlib.pyplot as plt\n",
    "import statsmodels.api as sm\n",
    "from statsmodels.stats.stattools import durbin_watson\n",
    "from scipy.stats import levene, bartlett\n",
    "from scipy.stats import boxcox\n"
   ]
  },
  {
   "cell_type": "code",
   "execution_count": 2,
   "id": "ab9a17ea",
   "metadata": {},
   "outputs": [],
   "source": [
    "df = pd.read_csv(\"Marketing_Data.csv\")"
   ]
  },
  {
   "cell_type": "code",
   "execution_count": 3,
   "id": "3aa3fa97",
   "metadata": {},
   "outputs": [
    {
     "data": {
      "text/html": [
       "<div>\n",
       "<style scoped>\n",
       "    .dataframe tbody tr th:only-of-type {\n",
       "        vertical-align: middle;\n",
       "    }\n",
       "\n",
       "    .dataframe tbody tr th {\n",
       "        vertical-align: top;\n",
       "    }\n",
       "\n",
       "    .dataframe thead th {\n",
       "        text-align: right;\n",
       "    }\n",
       "</style>\n",
       "<table border=\"1\" class=\"dataframe\">\n",
       "  <thead>\n",
       "    <tr style=\"text-align: right;\">\n",
       "      <th></th>\n",
       "      <th>youtube</th>\n",
       "      <th>facebook</th>\n",
       "      <th>newspaper</th>\n",
       "      <th>sales</th>\n",
       "    </tr>\n",
       "  </thead>\n",
       "  <tbody>\n",
       "    <tr>\n",
       "      <th>0</th>\n",
       "      <td>84.72</td>\n",
       "      <td>19.20</td>\n",
       "      <td>48.96</td>\n",
       "      <td>12.60</td>\n",
       "    </tr>\n",
       "    <tr>\n",
       "      <th>1</th>\n",
       "      <td>351.48</td>\n",
       "      <td>33.96</td>\n",
       "      <td>51.84</td>\n",
       "      <td>25.68</td>\n",
       "    </tr>\n",
       "    <tr>\n",
       "      <th>2</th>\n",
       "      <td>135.48</td>\n",
       "      <td>20.88</td>\n",
       "      <td>46.32</td>\n",
       "      <td>14.28</td>\n",
       "    </tr>\n",
       "    <tr>\n",
       "      <th>3</th>\n",
       "      <td>116.64</td>\n",
       "      <td>1.80</td>\n",
       "      <td>36.00</td>\n",
       "      <td>11.52</td>\n",
       "    </tr>\n",
       "    <tr>\n",
       "      <th>4</th>\n",
       "      <td>318.72</td>\n",
       "      <td>24.00</td>\n",
       "      <td>0.36</td>\n",
       "      <td>20.88</td>\n",
       "    </tr>\n",
       "  </tbody>\n",
       "</table>\n",
       "</div>"
      ],
      "text/plain": [
       "   youtube  facebook  newspaper  sales\n",
       "0    84.72     19.20      48.96  12.60\n",
       "1   351.48     33.96      51.84  25.68\n",
       "2   135.48     20.88      46.32  14.28\n",
       "3   116.64      1.80      36.00  11.52\n",
       "4   318.72     24.00       0.36  20.88"
      ]
     },
     "execution_count": 3,
     "metadata": {},
     "output_type": "execute_result"
    }
   ],
   "source": [
    "df.head()"
   ]
  },
  {
   "cell_type": "code",
   "execution_count": 4,
   "id": "6330c2a4",
   "metadata": {},
   "outputs": [
    {
     "data": {
      "text/plain": [
       "(171, 4)"
      ]
     },
     "execution_count": 4,
     "metadata": {},
     "output_type": "execute_result"
    }
   ],
   "source": [
    "df.shape"
   ]
  },
  {
   "cell_type": "code",
   "execution_count": 5,
   "id": "dbd147ec",
   "metadata": {},
   "outputs": [
    {
     "name": "stdout",
     "output_type": "stream",
     "text": [
      "<class 'pandas.core.frame.DataFrame'>\n",
      "RangeIndex: 171 entries, 0 to 170\n",
      "Data columns (total 4 columns):\n",
      " #   Column     Non-Null Count  Dtype  \n",
      "---  ------     --------------  -----  \n",
      " 0   youtube    171 non-null    float64\n",
      " 1   facebook   171 non-null    float64\n",
      " 2   newspaper  171 non-null    float64\n",
      " 3   sales      171 non-null    float64\n",
      "dtypes: float64(4)\n",
      "memory usage: 5.5 KB\n"
     ]
    }
   ],
   "source": [
    "df.info()"
   ]
  },
  {
   "cell_type": "code",
   "execution_count": 6,
   "id": "85353ebc",
   "metadata": {},
   "outputs": [
    {
     "data": {
      "text/plain": [
       "youtube      0\n",
       "facebook     0\n",
       "newspaper    0\n",
       "sales        0\n",
       "dtype: int64"
      ]
     },
     "execution_count": 6,
     "metadata": {},
     "output_type": "execute_result"
    }
   ],
   "source": [
    "df.isnull().sum()"
   ]
  },
  {
   "cell_type": "markdown",
   "id": "cc110ab2",
   "metadata": {},
   "source": [
    "<h1 style=\"background-color:#3b5998;font-family:newtimeroman;font-size:250%;text-align:center;color:#FFFFFF\">3) Homojen Varyans Varsayımı \n",
    "</h1>"
   ]
  },
  {
   "cell_type": "markdown",
   "id": "9a63a6cf",
   "metadata": {},
   "source": [
    "<h1 style=\"background-color:#3b5998;font-family:newtimeroman;font-size:200%;text-align:left;color:#FFFFFF\">Homojen Varyans Varsayımını Sağlayıp Sağlamadığını Nasıl Anlarız ? \n",
    "</h1>"
   ]
  },
  {
   "cell_type": "code",
   "execution_count": 7,
   "id": "4de92835",
   "metadata": {},
   "outputs": [],
   "source": [
    "X = sm.add_constant(df[['youtube', 'facebook', 'newspaper']])\n",
    "y = df['sales']\n",
    "model = sm.OLS(y, X).fit()\n",
    "residuals = model.resid"
   ]
  },
  {
   "cell_type": "markdown",
   "id": "97f07534",
   "metadata": {},
   "source": [
    "\n",
    "<h1 style=\"background-color:#FFA500;font-family:newtimeroman;font-size:200%;text-align:left;color:#FFFFFF\">1-Grafik Yöntemi\n",
    "</h1>\n"
   ]
  },
  {
   "cell_type": "code",
   "execution_count": 8,
   "id": "42fb5351",
   "metadata": {},
   "outputs": [
    {
     "data": {
      "image/png": "[encoded data removed]",
      "text/plain": [
       "<Figure size 640x480 with 1 Axes>"
      ]
     },
     "metadata": {},
     "output_type": "display_data"
    }
   ],
   "source": [
    "plt.scatter(model.fittedvalues, residuals)\n",
    "plt.axhline(y=0, color='r', linestyle='--', linewidth=2)  # Sıfır çizgisi ekleyerek homojenliği kontrol et\n",
    "plt.xlabel('Tahmin Edilen Değerler')\n",
    "plt.ylabel('Hata Terimleri')\n",
    "plt.title('Residual Plot')\n",
    "plt.show()"
   ]
  },
  {
   "cell_type": "markdown",
   "id": "7a10b5c2",
   "metadata": {},
   "source": [
    "\n",
    "<h1 style=\"background-color:#FFA500;font-family:newtimeroman;font-size:200%;text-align:left;color:#FFFFFF\">2-İstatistiksel Testler\n",
    "</h1>\n"
   ]
  },
  {
   "cell_type": "code",
   "execution_count": 9,
   "id": "f4615e7f",
   "metadata": {
    "scrolled": true
   },
   "outputs": [],
   "source": [
    "X = df[['youtube', 'facebook', 'newspaper']]\n",
    "y = df['sales']\n",
    "model = sm.OLS(y, sm.add_constant(X)).fit()\n",
    "residuals = model.resid"
   ]
  },
  {
   "cell_type": "code",
   "execution_count": 10,
   "id": "66e12912",
   "metadata": {},
   "outputs": [
    {
     "name": "stdout",
     "output_type": "stream",
     "text": [
      "Levene Test İstatistiği: 357.65675377890085\n",
      "p-value: 2.4108293571492655e-139\n",
      "Bartlett Test İstatistiği: 1136.4888102861225\n",
      "p-value: 4.412601938667403e-246\n"
     ]
    }
   ],
   "source": [
    "# Levene testi\n",
    "levene_test_stat, levene_p_value = levene(df['youtube'], df['facebook'], df['newspaper'], df['sales'])\n",
    "print(f'Levene Test İstatistiği: {levene_test_stat}\\np-value: {levene_p_value}')\n",
    "\n",
    "# Bartlett testi\n",
    "bartlett_test_stat, bartlett_p_value = bartlett(df['youtube'], df['facebook'], df['newspaper'], df['sales'])\n",
    "print(f'Bartlett Test İstatistiği: {bartlett_test_stat}\\np-value: {bartlett_p_value}')"
   ]
  },
  {
   "cell_type": "markdown",
   "id": "aaccdff7",
   "metadata": {},
   "source": [
    "<h1 style=\"background-color:#FF00F7;font-family:newtimeroman;font-size:180%;text-align:left;color:#FFFFFF\">Levene Testi\n",
    "</h1>\n",
    "\n"
   ]
  },
  {
   "cell_type": "code",
   "execution_count": 11,
   "id": "532f6e37",
   "metadata": {},
   "outputs": [
    {
     "name": "stdout",
     "output_type": "stream",
     "text": [
      "Levene Test İstatistiği: 357.65675377890085\n",
      "Levene Test p-değeri: 2.4108293571492655e-139\n",
      "Grupların varyansları eşit değildir. (homojen varyans yoktur).\n"
     ]
    }
   ],
   "source": [
    "levene_statistic, levene_p_value = levene(df['youtube'], df['facebook'], df['newspaper'], df['sales'])\n",
    "\n",
    "if levene_p_value < 0.05:\n",
    "    print(f'Levene Test İstatistiği: {levene_statistic}')\n",
    "    print(f'Levene Test p-değeri: {levene_p_value}')\n",
    "    print('Grupların varyansları eşit değildir. (homojen varyans yoktur).')\n",
    "else:\n",
    "    print(f'Levene Test İstatistiği: {levene_statistic}')\n",
    "    print(f'Levene Test p-değeri: {levene_p_value}')\n",
    "    print('Grupların varyansları eşittir. (homojen varyans vardır).')"
   ]
  },
  {
   "cell_type": "markdown",
   "id": "f0ea1aa2",
   "metadata": {},
   "source": [
    "<h1 style=\"background-color:#FF00F7;font-family:newtimeroman;font-size:180%;text-align:left;color:#FFFFFF\">Bartlett Testi\n",
    "</h1>\n",
    "\n"
   ]
  },
  {
   "cell_type": "code",
   "execution_count": 12,
   "id": "8ccdcbe1",
   "metadata": {
    "scrolled": true
   },
   "outputs": [
    {
     "name": "stdout",
     "output_type": "stream",
     "text": [
      "Bartlett Test İstatistiği: 1136.4888102861225\n",
      "Bartlett Test p-değeri: 4.412601938667403e-246\n",
      "Grupların varyansları eşit değildir. (homojen varyans yoktur).\n"
     ]
    }
   ],
   "source": [
    "bartlett_statistic, bartlett_p_value = bartlett(df['youtube'], df['facebook'], df['newspaper'], df['sales'])\n",
    "\n",
    "alpha = 0.05 \n",
    "if bartlett_p_value < alpha:\n",
    "    print(f'Bartlett Test İstatistiği: {bartlett_statistic}')\n",
    "    print(f'Bartlett Test p-değeri: {bartlett_p_value}')\n",
    "    print('Grupların varyansları eşit değildir. (homojen varyans yoktur).')\n",
    "else:\n",
    "    print(f'Bartlett Test İstatistiği: {bartlett_statistic}')\n",
    "    print(f'Bartlett Test p-değeri: {bartlett_p_value}')\n",
    "    print('Grupların varyansları eşittir. (homojen varyans vardır).')"
   ]
  },
  {
   "cell_type": "markdown",
   "id": "50916cf2",
   "metadata": {},
   "source": [
    "<h1 style=\"background-color:#3b5998;font-family:newtimeroman;font-size:200%;text-align:left;color:#FFFFFF\">Homojen Varyans Varsayımı Bozulduğunda Nasıl Düzeltilir ? \n",
    "</h1>"
   ]
  },
  {
   "cell_type": "markdown",
   "id": "d9f87cd3",
   "metadata": {},
   "source": [
    "<h1 style=\"background-color:#FFA500;font-family:newtimeroman;font-size:200%;text-align:left;color:#FFFFFF\">1)DÖNÜŞÜMLER\n",
    "</h1>\n"
   ]
  },
  {
   "cell_type": "markdown",
   "id": "501d5bde",
   "metadata": {},
   "source": [
    "<h1 style=\"background-color:#FF00F7;font-family:newtimeroman;font-size:180%;text-align:left;color:#FFFFFF\">Logaritmik Dönüşüm\n",
    "</h1>\n",
    "\n"
   ]
  },
  {
   "cell_type": "code",
   "execution_count": 13,
   "id": "97d98204",
   "metadata": {},
   "outputs": [],
   "source": [
    "epsilon = 1e-10\n",
    "df_log = df.copy()\n",
    "df_log['youtube'] = np.log(df['youtube']+epsilon)\n",
    "df_log['facebook'] = np.log(df['facebook']+epsilon)\n",
    "df_log['newspaper'] = np.log(df['newspaper']+epsilon)\n",
    "df_log['sales'] = np.log(df['sales']+epsilon)\n"
   ]
  },
  {
   "cell_type": "markdown",
   "id": "cc07c11d",
   "metadata": {},
   "source": [
    "###### Logaritmik dönüşüm yaptıktan sonra tekrardan test edelim"
   ]
  },
  {
   "cell_type": "markdown",
   "id": "40ffe42e",
   "metadata": {},
   "source": [
    "<h1 style=\"background-color:#FF00F7;font-family:newtimeroman;font-size:180%;text-align:left;color:#FFFFFF\">Levene Testi\n",
    "</h1>\n"
   ]
  },
  {
   "cell_type": "code",
   "execution_count": 14,
   "id": "de43c588",
   "metadata": {},
   "outputs": [
    {
     "name": "stdout",
     "output_type": "stream",
     "text": [
      "Levene Test İstatistiği: 8.17184481333151\n",
      "Levene Test p-değeri: 2.3789130864989898e-05\n",
      "Grupların varyansları eşit değildir. (homojen varyans yoktur).\n"
     ]
    }
   ],
   "source": [
    "levene_statistic, levene_p_value = levene(df_log['youtube'], df_log['facebook'], df_log['newspaper'], df_log['sales'])\n",
    "\n",
    "if levene_p_value < 0.05:\n",
    "    print(f'Levene Test İstatistiği: {levene_statistic}')\n",
    "    print(f'Levene Test p-değeri: {levene_p_value}')\n",
    "    print('Grupların varyansları eşit değildir. (homojen varyans yoktur).')\n",
    "else:\n",
    "    print(f'Levene Test İstatistiği: {levene_statistic}')\n",
    "    print(f'Levene Test p-değeri: {levene_p_value}')\n",
    "    print('Grupların varyansları eşittir. (homojen varyans vardır).')"
   ]
  },
  {
   "cell_type": "markdown",
   "id": "c277b38c",
   "metadata": {},
   "source": [
    "<h1 style=\"background-color:#FF00F7;font-family:newtimeroman;font-size:180%;text-align:left;color:#FFFFFF\">Bartlett Testi\n",
    "</h1>\n",
    "\n"
   ]
  },
  {
   "cell_type": "code",
   "execution_count": 15,
   "id": "cd954011",
   "metadata": {},
   "outputs": [
    {
     "name": "stdout",
     "output_type": "stream",
     "text": [
      "Bartlett Test İstatistiği: 427.57951577127454\n",
      "Bartlett Test p-değeri: 2.3482727317469958e-92\n",
      "Grupların varyansları eşit değildir. (homojen varyans yoktur).\n"
     ]
    }
   ],
   "source": [
    "bartlett_statistic, bartlett_p_value = bartlett(df_log['youtube'], df_log['facebook'], df_log['newspaper'], df_log['sales'])\n",
    "\n",
    "alpha = 0.05 \n",
    "if bartlett_p_value < alpha:\n",
    "    print(f'Bartlett Test İstatistiği: {bartlett_statistic}')\n",
    "    print(f'Bartlett Test p-değeri: {bartlett_p_value}')\n",
    "    print('Grupların varyansları eşit değildir. (homojen varyans yoktur).')\n",
    "else:\n",
    "    print(f'Bartlett Test İstatistiği: {bartlett_statistic}')\n",
    "    print(f'Bartlett Test p-değeri: {bartlett_p_value}')\n",
    "    print('Grupların varyansları eşittir. (homojen varyans vardır).')"
   ]
  },
  {
   "cell_type": "markdown",
   "id": "1b9d9c70",
   "metadata": {},
   "source": [
    "<h1 style=\"background-color:#FF00F7;font-family:newtimeroman;font-size:180%;text-align:left;color:#FFFFFF\">Log1p Dönüşüm\n",
    "</h1>"
   ]
  },
  {
   "cell_type": "code",
   "execution_count": 16,
   "id": "df6c037f",
   "metadata": {},
   "outputs": [],
   "source": [
    "epsilon = 1e-10\n",
    "df_log = df.copy()\n",
    "df_log['youtube'] = np.log1p(df['youtube']+epsilon)\n",
    "df_log['facebook'] = np.log1p(df['facebook']+epsilon)\n",
    "df_log['newspaper'] = np.log1p(df['newspaper']+epsilon)\n",
    "df_log['sales'] = np.log1p(df['sales']+epsilon)\n"
   ]
  },
  {
   "cell_type": "markdown",
   "id": "36cc5566",
   "metadata": {},
   "source": [
    "<h1 style=\"background-color:#FF00F7;font-family:newtimeroman;font-size:180%;text-align:left;color:#FFFFFF\">Levene Testi\n",
    "</h1>\n"
   ]
  },
  {
   "cell_type": "code",
   "execution_count": 17,
   "id": "8c986e05",
   "metadata": {},
   "outputs": [
    {
     "name": "stdout",
     "output_type": "stream",
     "text": [
      "Levene Test İstatistiği: 20.900062285866305\n",
      "Levene Test p-değeri: 5.822085305725142e-13\n",
      "Grupların varyansları eşit değildir. (homojen varyans yoktur).\n"
     ]
    }
   ],
   "source": [
    "levene_statistic, levene_p_value = levene(df_log['youtube'], df_log['facebook'], df_log['newspaper'], df_log['sales'])\n",
    "\n",
    "if levene_p_value < 0.05:\n",
    "    print(f'Levene Test İstatistiği: {levene_statistic}')\n",
    "    print(f'Levene Test p-değeri: {levene_p_value}')\n",
    "    print('Grupların varyansları eşit değildir. (homojen varyans yoktur).')\n",
    "else:\n",
    "    print(f'Levene Test İstatistiği: {levene_statistic}')\n",
    "    print(f'Levene Test p-değeri: {levene_p_value}')\n",
    "    print('Grupların varyansları eşittir. (homojen varyans vardır).')"
   ]
  },
  {
   "cell_type": "markdown",
   "id": "afe24cb9",
   "metadata": {},
   "source": [
    "<h1 style=\"background-color:#FF00F7;font-family:newtimeroman;font-size:180%;text-align:left;color:#FFFFFF\">Bartlett Testi\n",
    "</h1>\n",
    "\n"
   ]
  },
  {
   "cell_type": "code",
   "execution_count": 18,
   "id": "7347406d",
   "metadata": {},
   "outputs": [
    {
     "name": "stdout",
     "output_type": "stream",
     "text": [
      "Bartlett Test İstatistiği: 142.63301405984515\n",
      "Bartlett Test p-değeri: 1.0225818161192663e-30\n",
      "Grupların varyansları eşit değildir. (homojen varyans yoktur).\n"
     ]
    }
   ],
   "source": [
    "bartlett_statistic, bartlett_p_value = bartlett(df_log['youtube'], df_log['facebook'], df_log['newspaper'], df_log['sales'])\n",
    "\n",
    "alpha = 0.05 \n",
    "if bartlett_p_value < alpha:\n",
    "    print(f'Bartlett Test İstatistiği: {bartlett_statistic}')\n",
    "    print(f'Bartlett Test p-değeri: {bartlett_p_value}')\n",
    "    print('Grupların varyansları eşit değildir. (homojen varyans yoktur).')\n",
    "else:\n",
    "    print(f'Bartlett Test İstatistiği: {bartlett_statistic}')\n",
    "    print(f'Bartlett Test p-değeri: {bartlett_p_value}')\n",
    "    print('Grupların varyansları eşittir. (homojen varyans vardır).')\n"
   ]
  },
  {
   "cell_type": "markdown",
   "id": "dc1c8335",
   "metadata": {},
   "source": [
    "<h1 style=\"background-color:#FF00F7;font-family:newtimeroman;font-size:180%;text-align:left;color:#FFFFFF\">np.log2 Dönüşüm\n",
    "</h1>"
   ]
  },
  {
   "cell_type": "code",
   "execution_count": 19,
   "id": "8f70ff91",
   "metadata": {},
   "outputs": [],
   "source": [
    "epsilon = 1e-10\n",
    "df_log = df.copy()\n",
    "df_log['youtube'] = np.log2(df['youtube']+epsilon)\n",
    "df_log['facebook'] = np.log2(df['facebook']+epsilon)\n",
    "df_log['newspaper'] = np.log2(df['newspaper']+epsilon)\n",
    "df_log['sales'] = np.log2(df['sales']+epsilon)"
   ]
  },
  {
   "cell_type": "markdown",
   "id": "7b95380c",
   "metadata": {},
   "source": [
    "<h1 style=\"background-color:#FF00F7;font-family:newtimeroman;font-size:180%;text-align:left;color:#FFFFFF\">Levene Testi\n",
    "</h1>\n"
   ]
  },
  {
   "cell_type": "code",
   "execution_count": 20,
   "id": "491ba6f4",
   "metadata": {},
   "outputs": [
    {
     "name": "stdout",
     "output_type": "stream",
     "text": [
      "Levene Test İstatistiği: 8.17184481333151\n",
      "Levene Test p-değeri: 2.3789130864989898e-05\n",
      "Grupların varyansları eşit değildir. (homojen varyans yoktur).\n"
     ]
    }
   ],
   "source": [
    "levene_statistic, levene_p_value = levene(df_log['youtube'], df_log['facebook'], df_log['newspaper'], df_log['sales'])\n",
    "\n",
    "if levene_p_value < 0.05:\n",
    "    print(f'Levene Test İstatistiği: {levene_statistic}')\n",
    "    print(f'Levene Test p-değeri: {levene_p_value}')\n",
    "    print('Grupların varyansları eşit değildir. (homojen varyans yoktur).')\n",
    "else:\n",
    "    print(f'Levene Test İstatistiği: {levene_statistic}')\n",
    "    print(f'Levene Test p-değeri: {levene_p_value}')\n",
    "    print('Grupların varyansları eşittir. (homojen varyans vardır).')\n"
   ]
  },
  {
   "cell_type": "markdown",
   "id": "b2865485",
   "metadata": {},
   "source": [
    "<h1 style=\"background-color:#FF00F7;font-family:newtimeroman;font-size:180%;text-align:left;color:#FFFFFF\">Bartlett Testi\n",
    "</h1>\n",
    "\n"
   ]
  },
  {
   "cell_type": "code",
   "execution_count": 21,
   "id": "7b35b7d1",
   "metadata": {},
   "outputs": [
    {
     "name": "stdout",
     "output_type": "stream",
     "text": [
      "Bartlett Test İstatistiği: 427.5795157712747\n",
      "Bartlett Test p-değeri: 2.348272731746795e-92\n",
      "Grupların varyansları eşit değildir. (homojen varyans yoktur).\n"
     ]
    }
   ],
   "source": [
    "bartlett_statistic, bartlett_p_value = bartlett(df_log['youtube'], df_log['facebook'], df_log['newspaper'], df_log['sales'])\n",
    "\n",
    "alpha = 0.05 \n",
    "if bartlett_p_value < alpha:\n",
    "    print(f'Bartlett Test İstatistiği: {bartlett_statistic}')\n",
    "    print(f'Bartlett Test p-değeri: {bartlett_p_value}')\n",
    "    print('Grupların varyansları eşit değildir. (homojen varyans yoktur).')\n",
    "else:\n",
    "    print(f'Bartlett Test İstatistiği: {bartlett_statistic}')\n",
    "    print(f'Bartlett Test p-değeri: {bartlett_p_value}')\n",
    "    print('Grupların varyansları eşittir. (homojen varyans vardır).')\n"
   ]
  },
  {
   "cell_type": "markdown",
   "id": "15d26a2b",
   "metadata": {},
   "source": [
    "<h1 style=\"background-color:#FF00F7;font-family:newtimeroman;font-size:180%;text-align:left;color:#FFFFFF\">np.log10 Dönüşüm\n",
    "</h1>"
   ]
  },
  {
   "cell_type": "code",
   "execution_count": 22,
   "id": "2305a97c",
   "metadata": {},
   "outputs": [],
   "source": [
    "epsilon = 1e-10\n",
    "df_log = df.copy()\n",
    "df_log['youtube'] = np.log10 (df['youtube']+epsilon)\n",
    "df_log['facebook'] = np.log10 (df['facebook']+epsilon)\n",
    "df_log['newspaper'] = np.log10 (df['newspaper']+epsilon)\n",
    "df_log['sales'] = np.log10 (df['sales']+epsilon)"
   ]
  },
  {
   "cell_type": "markdown",
   "id": "8c5dffc0",
   "metadata": {},
   "source": [
    "<h1 style=\"background-color:#FF00F7;font-family:newtimeroman;font-size:180%;text-align:left;color:#FFFFFF\">Levene Testi\n",
    "</h1>\n"
   ]
  },
  {
   "cell_type": "code",
   "execution_count": 23,
   "id": "193f1915",
   "metadata": {},
   "outputs": [
    {
     "name": "stdout",
     "output_type": "stream",
     "text": [
      "Levene Test İstatistiği: 8.171844813331504\n",
      "Levene Test p-değeri: 2.3789130864989898e-05\n",
      "Grupların varyansları eşit değildir. (homojen varyans yoktur).\n"
     ]
    }
   ],
   "source": [
    "levene_statistic, levene_p_value = levene(df_log['youtube'], df_log['facebook'], df_log['newspaper'], df_log['sales'])\n",
    "\n",
    "if levene_p_value < 0.05:\n",
    "    print(f'Levene Test İstatistiği: {levene_statistic}')\n",
    "    print(f'Levene Test p-değeri: {levene_p_value}')\n",
    "    print('Grupların varyansları eşit değildir. (homojen varyans yoktur).')\n",
    "else:\n",
    "    print(f'Levene Test İstatistiği: {levene_statistic}')\n",
    "    print(f'Levene Test p-değeri: {levene_p_value}')\n",
    "    print('Grupların varyansları eşittir. (homojen varyans vardır).')\n"
   ]
  },
  {
   "cell_type": "markdown",
   "id": "2f28b1f6",
   "metadata": {},
   "source": [
    "<h1 style=\"background-color:#FF00F7;font-family:newtimeroman;font-size:180%;text-align:left;color:#FFFFFF\">Bartlett Testi\n",
    "</h1>\n",
    "\n"
   ]
  },
  {
   "cell_type": "code",
   "execution_count": 24,
   "id": "e3999186",
   "metadata": {},
   "outputs": [
    {
     "name": "stdout",
     "output_type": "stream",
     "text": [
      "Bartlett Test İstatistiği: 427.57951577127415\n",
      "Bartlett Test p-değeri: 2.348272731747465e-92\n",
      "Grupların varyansları eşit değilidr. (homojen varyans yoktur).\n"
     ]
    }
   ],
   "source": [
    "bartlett_statistic, bartlett_p_value = bartlett(df_log['youtube'], df_log['facebook'], df_log['newspaper'], df_log['sales'])\n",
    "\n",
    "alpha = 0.05 \n",
    "if bartlett_p_value < alpha:\n",
    "    print(f'Bartlett Test İstatistiği: {bartlett_statistic}')\n",
    "    print(f'Bartlett Test p-değeri: {bartlett_p_value}')\n",
    "    print('Grupların varyansları eşit değilidr. (homojen varyans yoktur).')\n",
    "else:\n",
    "    print(f'Bartlett Test İstatistiği: {bartlett_statistic}')\n",
    "    print(f'Bartlett Test p-değeri: {bartlett_p_value}')\n",
    "    print('Grupların varyansları eşittir. (homojen varyans vardır).')\n"
   ]
  },
  {
   "cell_type": "markdown",
   "id": "96076778",
   "metadata": {},
   "source": [
    "<h1 style=\"background-color:#FF00F7;font-family:newtimeroman;font-size:180%;text-align:left;color:#FFFFFF\">Karekök Dönüşüm\n",
    "</h1>"
   ]
  },
  {
   "cell_type": "code",
   "execution_count": 25,
   "id": "3804550e",
   "metadata": {},
   "outputs": [],
   "source": [
    "df_sqrt = df.copy()\n",
    "df_sqrt['youtube'] = np.sqrt(df['youtube'])\n",
    "df_sqrt['facebook'] = np.sqrt(df['facebook'])\n",
    "df_sqrt['newspaper'] = np.sqrt(df['newspaper'])\n",
    "df_sqrt['sales'] = np.sqrt(df['sales'])"
   ]
  },
  {
   "cell_type": "markdown",
   "id": "3f0acccf",
   "metadata": {},
   "source": [
    "<h1 style=\"background-color:#FF00F7;font-family:newtimeroman;font-size:180%;text-align:left;color:#FFFFFF\">Levene Testi\n",
    "</h1>\n"
   ]
  },
  {
   "cell_type": "code",
   "execution_count": 26,
   "id": "e43178a7",
   "metadata": {},
   "outputs": [
    {
     "name": "stdout",
     "output_type": "stream",
     "text": [
      "Levene Test İstatistiği: 115.81668987350814\n",
      "Levene Test p-değeri: 1.3767762668605611e-60\n",
      "Grupların varyansları eşit değilidr. (homojen varyans yoktur).\n"
     ]
    }
   ],
   "source": [
    "levene_statistic, levene_p_value = levene(df_sqrt['youtube'], df_sqrt['facebook'], df_sqrt['newspaper'], df_sqrt['sales'])\n",
    "\n",
    "if levene_p_value < 0.05:\n",
    "    print(f'Levene Test İstatistiği: {levene_statistic}')\n",
    "    print(f'Levene Test p-değeri: {levene_p_value}')\n",
    "    print('Grupların varyansları eşit değilidr. (homojen varyans yoktur).')\n",
    "else:\n",
    "    print(f'Levene Test İstatistiği: {levene_statistic}')\n",
    "    print(f'Levene Test p-değeri: {levene_p_value}')\n",
    "    print('Grupların varyansları eşittir. (homojen varyans vardır).')\n"
   ]
  },
  {
   "cell_type": "markdown",
   "id": "8e25a40f",
   "metadata": {},
   "source": [
    "<h1 style=\"background-color:#FF00F7;font-family:newtimeroman;font-size:180%;text-align:left;color:#FFFFFF\">Bartlett Testi\n",
    "</h1>\n",
    "\n"
   ]
  },
  {
   "cell_type": "code",
   "execution_count": 27,
   "id": "ca70ef7a",
   "metadata": {},
   "outputs": [
    {
     "name": "stdout",
     "output_type": "stream",
     "text": [
      "Bartlett Test İstatistiği: 431.31634734533435\n",
      "Bartlett Test p-değeri: 3.6407146693983503e-93\n",
      "Grupların varyansları eşit değildir. (homojen varyans yoktur).\n"
     ]
    }
   ],
   "source": [
    "bartlett_statistic, bartlett_p_value = bartlett(df_sqrt['youtube'], df_sqrt['facebook'], df_sqrt['newspaper'], df_sqrt['sales'])\n",
    "\n",
    "alpha = 0.05 \n",
    "if bartlett_p_value < alpha:\n",
    "    print(f'Bartlett Test İstatistiği: {bartlett_statistic}')\n",
    "    print(f'Bartlett Test p-değeri: {bartlett_p_value}')\n",
    "    print('Grupların varyansları eşit değildir. (homojen varyans yoktur).')\n",
    "else:\n",
    "    print(f'Bartlett Test İstatistiği: {bartlett_statistic}')\n",
    "    print(f'Bartlett Test p-değeri: {bartlett_p_value}')\n",
    "    print('Grupların varyansları eşittir. (homojen varyans vardır).')\n"
   ]
  },
  {
   "cell_type": "markdown",
   "id": "21896e67",
   "metadata": {},
   "source": [
    "<h1 style=\"background-color:#FFA500;font-family:newtimeroman;font-size:200%;text-align:left;color:#FFFFFF\">2)Ağırlıklı En Küçük Kareler (Weighted Least Squares - WLS)\n",
    "</h1>\n"
   ]
  },
  {
   "cell_type": "code",
   "execution_count": 28,
   "id": "dbb009a3",
   "metadata": {},
   "outputs": [],
   "source": [
    "df = df.copy()"
   ]
  },
  {
   "cell_type": "code",
   "execution_count": 29,
   "id": "9a237a5c",
   "metadata": {
    "scrolled": true
   },
   "outputs": [],
   "source": [
    "X = df[['youtube', 'facebook', 'newspaper']]\n",
    "y = df['sales']\n",
    "model = sm.OLS(y, sm.add_constant(X)).fit()\n",
    "residuals = model.resid\n",
    "variance_estimate = np.var(residuals)\n",
    "\n",
    "#Varyanslarla ters orantılı olarak ağırlıklar belirlendi.\n",
    "weights = 1 / variance_estimate\n",
    "\n",
    "model_wls = sm.WLS(y, X, weights=weights).fit()\n"
   ]
  },
  {
   "cell_type": "code",
   "execution_count": 30,
   "id": "c76e076c",
   "metadata": {},
   "outputs": [
    {
     "name": "stdout",
     "output_type": "stream",
     "text": [
      "Hata terimi varyansları homojen değildir (reddedilir).\n"
     ]
    }
   ],
   "source": [
    "residuals = model_wls.resid\n",
    "\n",
    "statistic, p_value = bartlett(residuals, X['youtube'], X['facebook'], X['newspaper'])\n",
    "alpha = 0.05\n",
    "if p_value > alpha:\n",
    "    print(\"Hata terimi varyansları homojendir (kabul edilir).\")\n",
    "else:\n",
    "    print(\"Hata terimi varyansları homojen değildir (reddedilir).\")"
   ]
  },
  {
   "cell_type": "code",
   "execution_count": 31,
   "id": "72f9afe9",
   "metadata": {
    "scrolled": true
   },
   "outputs": [
    {
     "data": {
      "text/html": [
       "<table class=\"simpletable\">\n",
       "<caption>WLS Regression Results</caption>\n",
       "<tr>\n",
       "  <th>Dep. Variable:</th>          <td>sales</td>      <th>  R-squared (uncentered):</th>      <td>   0.982</td> \n",
       "</tr>\n",
       "<tr>\n",
       "  <th>Model:</th>                   <td>WLS</td>       <th>  Adj. R-squared (uncentered):</th> <td>   0.982</td> \n",
       "</tr>\n",
       "<tr>\n",
       "  <th>Method:</th>             <td>Least Squares</td>  <th>  F-statistic:       </th>          <td>   3112.</td> \n",
       "</tr>\n",
       "<tr>\n",
       "  <th>Date:</th>             <td>Mon, 22 Jan 2024</td> <th>  Prob (F-statistic):</th>          <td>6.25e-147</td>\n",
       "</tr>\n",
       "<tr>\n",
       "  <th>Time:</th>                 <td>22:19:33</td>     <th>  Log-Likelihood:    </th>          <td> -392.39</td> \n",
       "</tr>\n",
       "<tr>\n",
       "  <th>No. Observations:</th>      <td>   171</td>      <th>  AIC:               </th>          <td>   790.8</td> \n",
       "</tr>\n",
       "<tr>\n",
       "  <th>Df Residuals:</th>          <td>   168</td>      <th>  BIC:               </th>          <td>   800.2</td> \n",
       "</tr>\n",
       "<tr>\n",
       "  <th>Df Model:</th>              <td>     3</td>      <th>                     </th>              <td> </td>    \n",
       "</tr>\n",
       "<tr>\n",
       "  <th>Covariance Type:</th>      <td>nonrobust</td>    <th>                     </th>              <td> </td>    \n",
       "</tr>\n",
       "</table>\n",
       "<table class=\"simpletable\">\n",
       "<tr>\n",
       "      <td></td>         <th>coef</th>     <th>std err</th>      <th>t</th>      <th>P>|t|</th>  <th>[0.025</th>    <th>0.975]</th>  \n",
       "</tr>\n",
       "<tr>\n",
       "  <th>youtube</th>   <td>    0.0531</td> <td>    0.001</td> <td>   35.921</td> <td> 0.000</td> <td>    0.050</td> <td>    0.056</td>\n",
       "</tr>\n",
       "<tr>\n",
       "  <th>facebook</th>  <td>    0.2217</td> <td>    0.010</td> <td>   22.506</td> <td> 0.000</td> <td>    0.202</td> <td>    0.241</td>\n",
       "</tr>\n",
       "<tr>\n",
       "  <th>newspaper</th> <td>    0.0233</td> <td>    0.007</td> <td>    3.157</td> <td> 0.002</td> <td>    0.009</td> <td>    0.038</td>\n",
       "</tr>\n",
       "</table>\n",
       "<table class=\"simpletable\">\n",
       "<tr>\n",
       "  <th>Omnibus:</th>       <td> 5.638</td> <th>  Durbin-Watson:     </th> <td>   2.013</td>\n",
       "</tr>\n",
       "<tr>\n",
       "  <th>Prob(Omnibus):</th> <td> 0.060</td> <th>  Jarque-Bera (JB):  </th> <td>   6.461</td>\n",
       "</tr>\n",
       "<tr>\n",
       "  <th>Skew:</th>          <td>-0.242</td> <th>  Prob(JB):          </th> <td>  0.0395</td>\n",
       "</tr>\n",
       "<tr>\n",
       "  <th>Kurtosis:</th>      <td> 3.820</td> <th>  Cond. No.          </th> <td>    12.3</td>\n",
       "</tr>\n",
       "</table><br/><br/>Notes:<br/>[1] R² is computed without centering (uncentered) since the model does not contain a constant.<br/>[2] Standard Errors assume that the covariance matrix of the errors is correctly specified."
      ],
      "text/latex": [
       "\\begin{center}\n",
       "\\begin{tabular}{lclc}\n",
       "\\toprule\n",
       "\\textbf{Dep. Variable:}    &      sales       & \\textbf{  R-squared (uncentered):}      &     0.982   \\\\\n",
       "\\textbf{Model:}            &       WLS        & \\textbf{  Adj. R-squared (uncentered):} &     0.982   \\\\\n",
       "\\textbf{Method:}           &  Least Squares   & \\textbf{  F-statistic:       }          &     3112.   \\\\\n",
       "\\textbf{Date:}             & Mon, 22 Jan 2024 & \\textbf{  Prob (F-statistic):}          & 6.25e-147   \\\\\n",
       "\\textbf{Time:}             &     22:19:33     & \\textbf{  Log-Likelihood:    }          &   -392.39   \\\\\n",
       "\\textbf{No. Observations:} &         171      & \\textbf{  AIC:               }          &     790.8   \\\\\n",
       "\\textbf{Df Residuals:}     &         168      & \\textbf{  BIC:               }          &     800.2   \\\\\n",
       "\\textbf{Df Model:}         &           3      & \\textbf{                     }          &             \\\\\n",
       "\\textbf{Covariance Type:}  &    nonrobust     & \\textbf{                     }          &             \\\\\n",
       "\\bottomrule\n",
       "\\end{tabular}\n",
       "\\begin{tabular}{lcccccc}\n",
       "                   & \\textbf{coef} & \\textbf{std err} & \\textbf{t} & \\textbf{P$> |$t$|$} & \\textbf{[0.025} & \\textbf{0.975]}  \\\\\n",
       "\\midrule\n",
       "\\textbf{youtube}   &       0.0531  &        0.001     &    35.921  &         0.000        &        0.050    &        0.056     \\\\\n",
       "\\textbf{facebook}  &       0.2217  &        0.010     &    22.506  &         0.000        &        0.202    &        0.241     \\\\\n",
       "\\textbf{newspaper} &       0.0233  &        0.007     &     3.157  &         0.002        &        0.009    &        0.038     \\\\\n",
       "\\bottomrule\n",
       "\\end{tabular}\n",
       "\\begin{tabular}{lclc}\n",
       "\\textbf{Omnibus:}       &  5.638 & \\textbf{  Durbin-Watson:     } &    2.013  \\\\\n",
       "\\textbf{Prob(Omnibus):} &  0.060 & \\textbf{  Jarque-Bera (JB):  } &    6.461  \\\\\n",
       "\\textbf{Skew:}          & -0.242 & \\textbf{  Prob(JB):          } &   0.0395  \\\\\n",
       "\\textbf{Kurtosis:}      &  3.820 & \\textbf{  Cond. No.          } &     12.3  \\\\\n",
       "\\bottomrule\n",
       "\\end{tabular}\n",
       "%\\caption{WLS Regression Results}\n",
       "\\end{center}\n",
       "\n",
       "Notes: \\newline\n",
       " [1] R² is computed without centering (uncentered) since the model does not contain a constant. \\newline\n",
       " [2] Standard Errors assume that the covariance matrix of the errors is correctly specified."
      ],
      "text/plain": [
       "<class 'statsmodels.iolib.summary.Summary'>\n",
       "\"\"\"\n",
       "                                 WLS Regression Results                                \n",
       "=======================================================================================\n",
       "Dep. Variable:                  sales   R-squared (uncentered):                   0.982\n",
       "Model:                            WLS   Adj. R-squared (uncentered):              0.982\n",
       "Method:                 Least Squares   F-statistic:                              3112.\n",
       "Date:                Mon, 22 Jan 2024   Prob (F-statistic):                   6.25e-147\n",
       "Time:                        22:19:33   Log-Likelihood:                         -392.39\n",
       "No. Observations:                 171   AIC:                                      790.8\n",
       "Df Residuals:                     168   BIC:                                      800.2\n",
       "Df Model:                           3                                                  \n",
       "Covariance Type:            nonrobust                                                  \n",
       "==============================================================================\n",
       "                 coef    std err          t      P>|t|      [0.025      0.975]\n",
       "------------------------------------------------------------------------------\n",
       "youtube        0.0531      0.001     35.921      0.000       0.050       0.056\n",
       "facebook       0.2217      0.010     22.506      0.000       0.202       0.241\n",
       "newspaper      0.0233      0.007      3.157      0.002       0.009       0.038\n",
       "==============================================================================\n",
       "Omnibus:                        5.638   Durbin-Watson:                   2.013\n",
       "Prob(Omnibus):                  0.060   Jarque-Bera (JB):                6.461\n",
       "Skew:                          -0.242   Prob(JB):                       0.0395\n",
       "Kurtosis:                       3.820   Cond. No.                         12.3\n",
       "==============================================================================\n",
       "\n",
       "Notes:\n",
       "[1] R² is computed without centering (uncentered) since the model does not contain a constant.\n",
       "[2] Standard Errors assume that the covariance matrix of the errors is correctly specified.\n",
       "\"\"\""
      ]
     },
     "execution_count": 31,
     "metadata": {},
     "output_type": "execute_result"
    }
   ],
   "source": [
    "model_wls.summary()"
   ]
  },
  {
   "cell_type": "markdown",
   "id": "a5f470a3",
   "metadata": {},
   "source": [
    "<h1 style=\"background-color:#FFA500;font-family:newtimeroman;font-size:200%;text-align:left;color:#FFFFFF\">3)Robust Standart Hata Estimasyonu: \n",
    "</h1>\n"
   ]
  },
  {
   "cell_type": "code",
   "execution_count": 32,
   "id": "d3159273",
   "metadata": {},
   "outputs": [],
   "source": [
    "df = df.copy()"
   ]
  },
  {
   "cell_type": "code",
   "execution_count": 33,
   "id": "9c9ef2d3",
   "metadata": {
    "scrolled": true
   },
   "outputs": [],
   "source": [
    "X = df[['youtube', 'facebook', 'newspaper']]\n",
    "y = df['sales']\n",
    "model_robust = sm.RLM(y, X).fit()\n",
    "\n",
    "residual = model_robust.resid\n"
   ]
  },
  {
   "cell_type": "code",
   "execution_count": 34,
   "id": "87173013",
   "metadata": {},
   "outputs": [
    {
     "name": "stdout",
     "output_type": "stream",
     "text": [
      "Hata terimi varyansları homojen değildir (reddedilir).\n"
     ]
    }
   ],
   "source": [
    "residuals = model_robust.resid\n",
    "\n",
    "statistic, p_value = bartlett(residuals, X['youtube'], X['facebook'], X['newspaper'])\n",
    "alpha = 0.05\n",
    "if p_value > alpha:\n",
    "    print(\"Hata terimi varyansları homojendir (kabul edilir).\")\n",
    "else:\n",
    "    print(\"Hata terimi varyansları homojen değildir (reddedilir).\")"
   ]
  },
  {
   "cell_type": "code",
   "execution_count": 35,
   "id": "2c400ba7",
   "metadata": {},
   "outputs": [
    {
     "data": {
      "text/html": [
       "<table class=\"simpletable\">\n",
       "<caption>Robust linear Model Regression Results</caption>\n",
       "<tr>\n",
       "  <th>Dep. Variable:</th>        <td>sales</td>      <th>  No. Observations:  </th> <td>   171</td>\n",
       "</tr>\n",
       "<tr>\n",
       "  <th>Model:</th>                 <td>RLM</td>       <th>  Df Residuals:      </th> <td>   168</td>\n",
       "</tr>\n",
       "<tr>\n",
       "  <th>Method:</th>               <td>IRLS</td>       <th>  Df Model:          </th> <td>     2</td>\n",
       "</tr>\n",
       "<tr>\n",
       "  <th>Norm:</th>                <td>HuberT</td>      <th>                     </th>    <td> </td>  \n",
       "</tr>\n",
       "<tr>\n",
       "  <th>Scale Est.:</th>            <td>mad</td>       <th>                     </th>    <td> </td>  \n",
       "</tr>\n",
       "<tr>\n",
       "  <th>Cov Type:</th>              <td>H1</td>        <th>                     </th>    <td> </td>  \n",
       "</tr>\n",
       "<tr>\n",
       "  <th>Date:</th>           <td>Mon, 22 Jan 2024</td> <th>                     </th>    <td> </td>  \n",
       "</tr>\n",
       "<tr>\n",
       "  <th>Time:</th>               <td>22:19:34</td>     <th>                     </th>    <td> </td>  \n",
       "</tr>\n",
       "<tr>\n",
       "  <th>No. Iterations:</th>        <td>17</td>        <th>                     </th>    <td> </td>  \n",
       "</tr>\n",
       "</table>\n",
       "<table class=\"simpletable\">\n",
       "<tr>\n",
       "      <td></td>         <th>coef</th>     <th>std err</th>      <th>z</th>      <th>P>|z|</th>  <th>[0.025</th>    <th>0.975]</th>  \n",
       "</tr>\n",
       "<tr>\n",
       "  <th>youtube</th>   <td>    0.0525</td> <td>    0.001</td> <td>   35.138</td> <td> 0.000</td> <td>    0.050</td> <td>    0.055</td>\n",
       "</tr>\n",
       "<tr>\n",
       "  <th>facebook</th>  <td>    0.2312</td> <td>    0.010</td> <td>   23.184</td> <td> 0.000</td> <td>    0.212</td> <td>    0.251</td>\n",
       "</tr>\n",
       "<tr>\n",
       "  <th>newspaper</th> <td>    0.0181</td> <td>    0.007</td> <td>    2.420</td> <td> 0.016</td> <td>    0.003</td> <td>    0.033</td>\n",
       "</tr>\n",
       "</table><br/><br/>If the model instance has been used for another fit with different fit parameters, then the fit options might not be the correct ones anymore ."
      ],
      "text/latex": [
       "\\begin{center}\n",
       "\\begin{tabular}{lclc}\n",
       "\\toprule\n",
       "\\textbf{Dep. Variable:}  &      sales       & \\textbf{  No. Observations:  } &      171    \\\\\n",
       "\\textbf{Model:}          &       RLM        & \\textbf{  Df Residuals:      } &      168    \\\\\n",
       "\\textbf{Method:}         &       IRLS       & \\textbf{  Df Model:          } &        2    \\\\\n",
       "\\textbf{Norm:}           &      HuberT      & \\textbf{                     } &             \\\\\n",
       "\\textbf{Scale Est.:}     &       mad        & \\textbf{                     } &             \\\\\n",
       "\\textbf{Cov Type:}       &        H1        & \\textbf{                     } &             \\\\\n",
       "\\textbf{Date:}           & Mon, 22 Jan 2024 & \\textbf{                     } &             \\\\\n",
       "\\textbf{Time:}           &     22:19:34     & \\textbf{                     } &             \\\\\n",
       "\\textbf{No. Iterations:} &        17        & \\textbf{                     } &             \\\\\n",
       "\\bottomrule\n",
       "\\end{tabular}\n",
       "\\begin{tabular}{lcccccc}\n",
       "                   & \\textbf{coef} & \\textbf{std err} & \\textbf{z} & \\textbf{P$> |$z$|$} & \\textbf{[0.025} & \\textbf{0.975]}  \\\\\n",
       "\\midrule\n",
       "\\textbf{youtube}   &       0.0525  &        0.001     &    35.138  &         0.000        &        0.050    &        0.055     \\\\\n",
       "\\textbf{facebook}  &       0.2312  &        0.010     &    23.184  &         0.000        &        0.212    &        0.251     \\\\\n",
       "\\textbf{newspaper} &       0.0181  &        0.007     &     2.420  &         0.016        &        0.003    &        0.033     \\\\\n",
       "\\bottomrule\n",
       "\\end{tabular}\n",
       "%\\caption{Robust linear Model Regression Results}\n",
       "\\end{center}\n",
       "\n",
       "If the model instance has been used for another fit with different fit parameters, then the fit options might not be the correct ones anymore ."
      ],
      "text/plain": [
       "<class 'statsmodels.iolib.summary.Summary'>\n",
       "\"\"\"\n",
       "                    Robust linear Model Regression Results                    \n",
       "==============================================================================\n",
       "Dep. Variable:                  sales   No. Observations:                  171\n",
       "Model:                            RLM   Df Residuals:                      168\n",
       "Method:                          IRLS   Df Model:                            2\n",
       "Norm:                          HuberT                                         \n",
       "Scale Est.:                       mad                                         \n",
       "Cov Type:                          H1                                         \n",
       "Date:                Mon, 22 Jan 2024                                         \n",
       "Time:                        22:19:34                                         \n",
       "No. Iterations:                    17                                         \n",
       "==============================================================================\n",
       "                 coef    std err          z      P>|z|      [0.025      0.975]\n",
       "------------------------------------------------------------------------------\n",
       "youtube        0.0525      0.001     35.138      0.000       0.050       0.055\n",
       "facebook       0.2312      0.010     23.184      0.000       0.212       0.251\n",
       "newspaper      0.0181      0.007      2.420      0.016       0.003       0.033\n",
       "==============================================================================\n",
       "\n",
       "If the model instance has been used for another fit with different fit parameters, then the fit options might not be the correct ones anymore .\n",
       "\"\"\""
      ]
     },
     "execution_count": 35,
     "metadata": {},
     "output_type": "execute_result"
    }
   ],
   "source": [
    "model_robust.summary()"
   ]
  },
  {
   "cell_type": "code",
   "execution_count": null,
   "id": "a1d7c4f7",
   "metadata": {},
   "outputs": [],
   "source": []
  }
 ],
 "metadata": {
  "kernelspec": {
   "display_name": "Python 3 (ipykernel)",
   "language": "python",
   "name": "python3"
  },
  "language_info": {
   "codemirror_mode": {
    "name": "ipython",
    "version": 3
   },
   "file_extension": ".py",
   "mimetype": "text/x-python",
   "name": "python",
   "nbconvert_exporter": "python",
   "pygments_lexer": "ipython3",
   "version": "3.11.5"
  }
 },
 "nbformat": 4,
 "nbformat_minor": 5
}
