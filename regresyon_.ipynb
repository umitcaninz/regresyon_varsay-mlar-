{
 "cells": [
  {
   "cell_type": "markdown",
   "id": "cd79a6f7",
   "metadata": {},
   "source": [
    "<h1 style=\"background-color:#3b5998;font-family:newtimeroman;font-size:300%;text-align:center;color:#FFFFFF\">REGRESYON VARSAYIMLARI\n",
    "</h1>\n"
   ]
  },
  {
   "cell_type": "markdown",
   "id": "073c2822",
   "metadata": {},
   "source": [
    "<h1 style=\"background-color:#3b5998;font-family:newtimeroman;font-size:250%;text-align:center;color:#FFFFFF\">1) Normal Dağılım Varsayımı\n",
    "</h1>"
   ]
  },
  {
   "cell_type": "markdown",
   "id": "1609515e",
   "metadata": {},
   "source": [
    "###### Normal dağılım varsayımı, bir veri setinin dağılımının normal (Gaussian) bir formda olduğunu öne sürer. Normal dağılıma sahip bir veri seti, ortalaması etrafında simetrik bir şekilde dağılmıştır ve çoğu değer ortalamaya yakındır, daha az değer ise uç noktalara doğru seyreder."
   ]
  },
  {
   "cell_type": "markdown",
   "id": "05dae44c",
   "metadata": {},
   "source": [
    "<h1 style=\"background-color:#3b5998;font-family:newtimeroman;font-size:200%;text-align:left;color:#FFFFFF\">Neden Kullanılır?\n",
    "</h1>"
   ]
  },
  {
   "cell_type": "markdown",
   "id": "f92e8baf",
   "metadata": {},
   "source": [
    "###### 1-Parametrik Testlerin Temelidir.\n",
    "- Parametrik istatistiksel testler, örneğin t-testi, ANOVA, regresyon analizi gibi testler, normal dağılım varsayımını temel alır. Bu testler, veri setinin normal dağılıma sahip olduğunu varsayar."
   ]
  },
  {
   "cell_type": "markdown",
   "id": "afa3264e",
   "metadata": {},
   "source": [
    "###### 2-İstatistiksel Sonuçların Güvenilirliği:\n",
    "-  Normal dağılım, istatistiksel sonuçların güvenilirliğini ve doğruluğunu artırır. Normal dağılım varsayımının sağlanması, parametre tahminlerinin ve hipotez testlerinin daha güvenilir olmasını sağlar."
   ]
  },
  {
   "cell_type": "markdown",
   "id": "674d957e",
   "metadata": {},
   "source": [
    "###### 3-Hipotez Testleri ve Güven Aralıkları:\n",
    "-  Hipotez testleri ve güven aralıkları, parametrik testlerin temelini oluşturur. Normal dağılım varsayımı, bu testlerin ve - aralıkların güvenilir olmasını sağlar.\n"
   ]
  },
  {
   "cell_type": "markdown",
   "id": "245cf8a8",
   "metadata": {},
   "source": [
    "<h1 style=\"background-color:#3b5998;font-family:newtimeroman;font-size:200%;text-align:left;color:#FFFFFF\">Önemi Nedir?\n",
    "</h1>"
   ]
  },
  {
   "cell_type": "markdown",
   "id": "d342460c",
   "metadata": {},
   "source": [
    "###### Doğru Parametre Tahminleri:\n",
    "-  Normal dağılım varsayımı sağlandığında, parametre tahminleri (örneğin, ortalama ve standart sapma) daha doğru ve güvenilir olur.\n",
    "\n"
   ]
  },
  {
   "cell_type": "markdown",
   "id": "27944b9c",
   "metadata": {},
   "source": [
    "###### Hipotez Testlerinin Güvenilirliği:\n",
    "-  Parametrik hipotez testleri , normal dağılım varsayımına dayanır. Bu varsayımların sağlanması test sonuçlarının güvenirliliğini arttırır.\n"
   ]
  },
  {
   "cell_type": "markdown",
   "id": "3c7b266e",
   "metadata": {},
   "source": [
    "###### Güven Aralığı Hassasiyeti:\n",
    "-  Güven aralığı bir parametrenin belirli bir aralık içinde olma olasılığını belirtir. Normal dağılım varsayımının sağlanması , güven aralıklarının daha hassas ve güvenilir olmasını sağlar"
   ]
  },
  {
   "cell_type": "markdown",
   "id": "2faf2642",
   "metadata": {},
   "source": [
    "###### Genelleme Yeteneği: \n",
    "- Normal dağılım varsayımının sağlanması, regresyon modelinin daha genel bir popülasyona genellenmesini kolaylaştırır. Modelin bir popülasyon içindeki genel eğilimleri temsil etmesi daha olasıdır."
   ]
  },
  {
   "cell_type": "markdown",
   "id": "2b37fa57",
   "metadata": {},
   "source": [
    "<h1 style=\"background-color:#3b5998;font-family:newtimeroman;font-size:200%;text-align:left;color:#FFFFFF\">Ne İşimize Yarar ?\n",
    "</h1>"
   ]
  },
  {
   "cell_type": "markdown",
   "id": "3d3bbcb9",
   "metadata": {},
   "source": [
    "###### Doğru Kararlar Almamıza Yardımcı Olur:\n",
    "- Normal dağılım varsayımı parametrik testlerle ilgili doğru kararlar almamımza yardıımcı olur . Yanlış varsayımlar , hatalı sonuçlara ve yanıltıcı yorumlara yol açabiilir."
   ]
  },
  {
   "cell_type": "markdown",
   "id": "967cf6c5",
   "metadata": {},
   "source": [
    "###### Sonuçların Güvenilirliğini Artırır:\n",
    "- Normal dağılım varsayımının sağlanması istatistikesl sonucların güvenilirliğini artırır . Bu da araştımacılara ve karar vericilere daha güçlü ve güvenilir sonuclar sunar. "
   ]
  },
  {
   "cell_type": "markdown",
   "id": "3fe9e0f9",
   "metadata": {},
   "source": [
    "<h1 style=\"background-color:#3b5998;font-family:newtimeroman;font-size:200%;text-align:left;color:#FFFFFF\">Normal Dağılımın Bozulma Nedenleri Nelerdir ?\n",
    "</h1>"
   ]
  },
  {
   "cell_type": "markdown",
   "id": "db4b8c9c",
   "metadata": {},
   "source": [
    "<h1 style=\"background-color:#FFA500;font-family:newtimeroman;font-size:200%;text-align:left;color:#FFFFFF\"> Örneklem Büyüklüğü: \n",
    "</h1>"
   ]
  },
  {
   "cell_type": "markdown",
   "id": "d9dfa525",
   "metadata": {},
   "source": [
    " Küçük örneklem büyüklükleri, hata terimlerinin normal bir dağılıma sahip olmasını zorlaştırabilir. Büyük örneklem büyüklükleri, bu varsayımın sağlanmasını daha olası kılar."
   ]
  },
  {
   "cell_type": "markdown",
   "id": "03da3d3d",
   "metadata": {},
   "source": [
    "<h1 style=\"background-color:#FF00F7;font-family:newtimeroman;font-size:150%;text-align:left;color:#FFFFFF\">Küçük Örneklem\n",
    "</h1>\n"
   ]
  },
  {
   "cell_type": "markdown",
   "id": "f336c719",
   "metadata": {},
   "source": [
    "-  Bir veri setinde 30 veri noktasından az varsa, bu küçük bir örneklemdir.\n",
    "\n",
    "- Küçük örnekklem hata terimlerinin normal bir dağılıma sahip olmasını zorlaştırabilir. Bu durum parametrik testlerde örneğin t-testi veya ANOVA gibi parametrik testlerin güvenilirliği azalabilir. \n",
    "\n",
    "- Küçük örneklemlerde non-parametrik testlere yönelmek daha mantıklıdır."
   ]
  },
  {
   "cell_type": "markdown",
   "id": "80eb4ece",
   "metadata": {},
   "source": [
    "<h1 style=\"background-color:#FF00F7;font-family:newtimeroman;font-size:150%;text-align:left;color:#FFFFFF\">Büyük Örneklem\n",
    "</h1>\n"
   ]
  },
  {
   "cell_type": "markdown",
   "id": "cdf12e6b",
   "metadata": {},
   "source": [
    "-  Büyük örneklemler , Merkezi Limit Teoreminden yararlanarak örneklemin normal dağılıma yaklaşmasını sağlar .\n",
    " \n",
    "-  Büyük örneklemlerde veriyi dönüştürerek normallik varsayımı yapabiliriz."
   ]
  },
  {
   "cell_type": "markdown",
   "id": "419689f3",
   "metadata": {},
   "source": [
    "<h1 style=\"background-color:#FFA500;font-family:newtimeroman;font-size:200%;text-align:left;color:#FFFFFF\"> Aykırı Değerlerin Normal Dağılım Varsayımına Etkisi:\n",
    "</h1>\n"
   ]
  },
  {
   "cell_type": "markdown",
   "id": "da3306d9",
   "metadata": {},
   "source": [
    "- Aykırı değerler bir veri setindeki genel trendden farklı olan değerlerdir . Bu değerler normal dağılım varsayımını bozabilir.\n",
    "\n",
    "- Aykırı değerler regresyon modelinin katsayılarını ve tahminlerini yanıltabilir. Regresyon analizinde hata terimlerinin normal dağılıma sahip olması önemlidir.\n",
    "\n",
    "- Parametrik testler normal dağılıma sahip olduğu için aykırı değerlerin varlığında analizimizin sonuçları güvenilir olmaz."
   ]
  },
  {
   "cell_type": "markdown",
   "id": "b1743805",
   "metadata": {},
   "source": [
    "\n",
    "<h1 style=\"background-color:#FFA500;font-family:newtimeroman;font-size:200%;text-align:left;color:#FFFFFF\">Doğrusal Olmayan Modellerin Normal Dağılım Varsayımına Etkisi\n",
    "</h1>"
   ]
  },
  {
   "cell_type": "markdown",
   "id": "048adfba",
   "metadata": {},
   "source": [
    " - Doğrusal olmayan modeller, bağımsız değişkenlerle bağımlı değişken arasındaki ilişkiyi doğrusal olmayan şekilde ifade eden modellerdir. \n",
    "\n",
    "- Doğrusal olmayan modellerde hata terimleri genellikle asimetrik olarak dağılır . Bu durum normal dağılım varsayımını zorlaştırır.Çünkü normal dağılım varsayımı simetrik bir yapıyı gerektirir.\n",
    "\n",
    "- Doğrusal olmayan modellerde asimetrik hata terimleri güvenirliğini etkiler"
   ]
  },
  {
   "cell_type": "markdown",
   "id": "7922da0c",
   "metadata": {},
   "source": [
    "<h1 style=\"background-color:#3b5998;font-family:newtimeroman;font-size:200%;text-align:left;color:#FFFFFF\">Normal Dağılım Varsayımını Sağlayıp Sağlamadığını Nasıl Anlarız ? \n",
    "</h1>"
   ]
  },
  {
   "cell_type": "markdown",
   "id": "8bcb9c62",
   "metadata": {},
   "source": [
    "\n",
    "<h1 style=\"background-color:#FFA500;font-family:newtimeroman;font-size:200%;text-align:left;color:#FFFFFF\">1-Grafik Yöntemi\n",
    "</h1>\n"
   ]
  },
  {
   "cell_type": "markdown",
   "id": "c8aaa02b",
   "metadata": {},
   "source": [
    "###### 1.1-Histogram Analizi : Hata terimlerinin histogramları çizilerek dağılımın simetrik olup , olmadığı incelenir.\n",
    "\n",
    "###### 1.2-Q-Q Plot Analizi : Gözlem değerleri ile normal dağılımın teorik değerlerini karşılaştırır . Eğer plotun üstünde sapmalar var ise normal dağılımın bozulduğunu söyleyebilirz.\n",
    "\n",
    "###### 1.3-Residual Plot Analizi : Bağımsız değişkenlerin düzeyleri ile hata terimlerinin varyansının değişip değişmediğini gösterir. Heteroscedasticity durumları görsel olarak değerlendirilir."
   ]
  },
  {
   "cell_type": "markdown",
   "id": "63a4635a",
   "metadata": {},
   "source": [
    "<h1 style=\"background-color:#FFA500;font-family:newtimeroman;font-size:200%;text-align:left;color:#FFFFFF\">2-İstatistiksel Testler \n",
    "</h1>"
   ]
  },
  {
   "cell_type": "markdown",
   "id": "f4512017",
   "metadata": {},
   "source": [
    "<h1 style=\"background-color:#FF00F7;font-family:newtimeroman;font-size:150%;text-align:left;color:#FFFFFF\">2.1- Shapiro-Wilk Testi \n",
    "</h1>\n"
   ]
  },
  {
   "cell_type": "markdown",
   "id": "ac76d3dc",
   "metadata": {},
   "source": [
    " $H_0$:Hata terimleri normal dağılır.\n",
    " \n",
    " $H_1$ : Hata terimleri normal dağılıma uymaz\n",
    " Eğer p-value 0.05'den küçük ise H0 hipotezi red edilir , yani hata terimleri normal dağılıma uymaz sonucuna varabiliriz."
   ]
  },
  {
   "cell_type": "markdown",
   "id": "222463fc",
   "metadata": {},
   "source": [
    "<h1 style=\"background-color:#FF00F7;font-family:newtimeroman;font-size:150%;text-align:left;color:#FFFFFF\">2.2-Kolmogorov-Smirnov Testi :\n",
    "</h1>\n"
   ]
  },
  {
   "cell_type": "markdown",
   "id": "3299f38b",
   "metadata": {},
   "source": [
    "$H_0$ : Hata terimleri norrmal dağılıma uyar.\n",
    " \n",
    " $H_1$: Hata terimleri normal dağılıma uymaz .\n",
    " Eğer p-value 0.05'den küçük ise H0 hipotezi red edilir , yani hata terimleri normal dağılıma uymaz sonucuna varabiliriz. "
   ]
  },
  {
   "cell_type": "markdown",
   "id": "43f8541d",
   "metadata": {},
   "source": [
    "<h1 style=\"background-color:#FF00F7;font-family:newtimeroman;font-size:150%;text-align:left;color:#FFFFFF\">2.3-Jarque-Bera Testi\n",
    "</h1>\n"
   ]
  },
  {
   "cell_type": "markdown",
   "id": "5f257018",
   "metadata": {},
   "source": [
    " $H_0$ : Örnek dağılımı normaldir.\n",
    "\n",
    " $H_1$ : Örnek dağılımı normal değildir."
   ]
  },
  {
   "cell_type": "markdown",
   "id": "bfba000a",
   "metadata": {},
   "source": [
    "<h1 style=\"background-color:#3b5998;font-family:newtimeroman;font-size:200%;text-align:left;color:#FFFFFF\">Normal Dağılım Varsayımı Bozulduğunda Nasıl Düzeltilir ? \n",
    "</h1>"
   ]
  },
  {
   "cell_type": "markdown",
   "id": "45c5c3fd",
   "metadata": {},
   "source": [
    "<h1 style=\"background-color:#FFA500;font-family:newtimeroman;font-size:200%;text-align:left;color:#FFFFFF\">1-Transformasyon Yöntemleri\n",
    "</h1>\n"
   ]
  },
  {
   "cell_type": "markdown",
   "id": "85649228",
   "metadata": {},
   "source": [
    "<h1 style=\"background-color:#FF00F7;font-family:newtimeroman;font-size:150%;text-align:left;color:#FFFFFF\">1.1. Logaritmik Dönüşüm:\n",
    "</h1>\n"
   ]
  },
  {
   "attachments": {
    "image.png": {
     "image/png": "[encoded data removed]"
    }
   },
   "cell_type": "markdown",
   "id": "e3135fe9",
   "metadata": {},
   "source": [
    "![image.png](attachment:image.png)"
   ]
  },
  {
   "cell_type": "markdown",
   "id": "8b21ada2",
   "metadata": {},
   "source": [
    "###### Neden Kullanılır:\n",
    "\n",
    "- Asimetrik dağılımlı verilerin düzeltilmesi ve hata terimlerinin normalleştirilmesi için kullanılır.\n",
    " - Varyansın sabit olduğu durumlarda etkilidir.\n"
   ]
  },
  {
   "cell_type": "markdown",
   "id": "346ef842",
   "metadata": {},
   "source": [
    "###### Matematiksel Formulü:\n",
    "log(yi+c)\n",
    "\n",
    "yi : Hata Terimi\n",
    "\n",
    " c : Küçük bir sabit eklenerek sıfır olan değerlere karşı koruma sağlanır."
   ]
  },
  {
   "cell_type": "markdown",
   "id": "cc52a474",
   "metadata": {},
   "source": [
    "###### Avantajları:\n",
    "-  Asimetrik verileri düzeltme avantajına sahiptir.\n",
    "\n",
    "- Heteroscedasticity durumlarında etkilidir.\n"
   ]
  },
  {
   "cell_type": "markdown",
   "id": "5dc8bd30",
   "metadata": {},
   "source": [
    "###### Dezavantajları:\n",
    "-  Logaritmik dönüşüm sonrası katsayıların yorumlanması dikkat gerektirir.\n"
   ]
  },
  {
   "cell_type": "markdown",
   "id": "f963bff3",
   "metadata": {},
   "source": [
    "###### Dikkat edilmesi gereken püf noktalar:\n",
    "\n",
    "Veri setinde sıfıra yakın değer varsa , logaritma dönüşümü uygulanabilir fakat sıfıra eşit olan değerler logaritmada tanımsızdır. Bu durumu engellemek için küçük bir sabit eklenebilir.\n"
   ]
  },
  {
   "cell_type": "markdown",
   "id": "391c3250",
   "metadata": {},
   "source": [
    "<h1 style=\"background-color:#FF00F7;font-family:newtimeroman;font-size:150%;text-align:left;color:#FFFFFF\">1.2. Karekök Dönüşümü:\n",
    "</h1>\n"
   ]
  },
  {
   "attachments": {
    "image.png": {
     "image/png": "[encoded data removed]"
    }
   },
   "cell_type": "markdown",
   "id": "5a7acfbb",
   "metadata": {},
   "source": [
    "![image.png](attachment:image.png)"
   ]
  },
  {
   "cell_type": "markdown",
   "id": "eb941ca7",
   "metadata": {},
   "source": [
    "###### Neden Kullanılır:\n",
    "-  Asimetrik dağılımlı verilerin düzeltilmesi için tercih edilir.\n",
    "\n",
    "- Varyansın sabit olduğu durumlarda etkilidir.\n"
   ]
  },
  {
   "cell_type": "markdown",
   "id": "b6ff7837",
   "metadata": {},
   "source": [
    "###### Matematiksel Formül:\n",
    " $\\sqrt{yi}$ \n",
    " \n",
    " yi = Hata Terimi "
   ]
  },
  {
   "cell_type": "markdown",
   "id": "f6b35bdb",
   "metadata": {},
   "source": [
    "###### Avantajları:\n",
    "-  Logaritmik dönüşüm gibi asimetrik verileri düzeltebilir.\n",
    "\n",
    "- Yorumlama açısından log dönüşümünden daha doğrudur."
   ]
  },
  {
   "cell_type": "markdown",
   "id": "fce3a52e",
   "metadata": {},
   "source": [
    "###### Dezavantajlar:\n",
    "-  Logaritmik dönüşüme göre daha hafif bir düzeltme sağlar."
   ]
  },
  {
   "cell_type": "markdown",
   "id": "0084810e",
   "metadata": {},
   "source": [
    "###### Dikkat Edilmesi Gereken Püf Noktalar:\n",
    "-  Veri setinde negatif değerler varsa , karekök dönüşümü uygun olmaz."
   ]
  },
  {
   "cell_type": "markdown",
   "id": "29e1fa74",
   "metadata": {},
   "source": [
    "<h1 style=\"background-color:#FF00F7;font-family:newtimeroman;font-size:150%;text-align:left;color:#FFFFFF\">1.3. Küp Dönüşümü:\n",
    "</h1>\n"
   ]
  },
  {
   "attachments": {
    "image.png": {
     "image/png": "[encoded data removed]"
    }
   },
   "cell_type": "markdown",
   "id": "4fe945f2",
   "metadata": {},
   "source": [
    "![image.png](attachment:image.png)"
   ]
  },
  {
   "cell_type": "markdown",
   "id": "b1bfbfb6",
   "metadata": {},
   "source": [
    "###### Neden Kullanılır?\n",
    "-  Asimetrik dağılımlı verileri düzeltmek için bir seçenek olarak kullanılabilir.\n",
    "-  Varyansın sabit olduğu durumlarda etkilidir."
   ]
  },
  {
   "cell_type": "markdown",
   "id": "42c24b83",
   "metadata": {},
   "source": [
    "###### Matematiksel Formül:\n",
    " ${yi^3}$\n",
    " \n",
    " ${yi}$ : Hata Terimi"
   ]
  },
  {
   "cell_type": "markdown",
   "id": "9cbdd81c",
   "metadata": {},
   "source": [
    "###### Avantajları:\n",
    "-  Aykırı değerlere dirençli olabilir.\n",
    "-  Asimetrikliği düzeltmekte kullanılabilir.\n"
   ]
  },
  {
   "cell_type": "markdown",
   "id": "6caff295",
   "metadata": {},
   "source": [
    "###### Dezavantajları:\n",
    "-  Logaritmik ve karekök dönüşümleri kadar yaygın kullanılmaz.\n"
   ]
  },
  {
   "cell_type": "markdown",
   "id": "5a04a0a3",
   "metadata": {},
   "source": [
    "###### Dikkat Edilmesi Gereken Püf Noktalar\n",
    " Küp dönüşümü asimetrikliği düzeltebilir fakat verinin yapısına göre bazen aşırı düzeltme yapılabilir.\n"
   ]
  },
  {
   "cell_type": "markdown",
   "id": "a1d2613b",
   "metadata": {},
   "source": [
    "<h1 style=\"background-color:#FF00F7;font-family:newtimeroman;font-size:175%;text-align:left;color:#FFFFFF\">1.4 HANGİ DURUMLARDA HANGİSİ KULLANILMALIDIR ? \n",
    "</h1>\n"
   ]
  },
  {
   "cell_type": "markdown",
   "id": "6986fa2e",
   "metadata": {},
   "source": [
    "###### Logaritmik Dönüşümü :\n",
    "-  Asimetriklik yüksekse ve varyans sabitse tercih edilir\n",
    "-  Heteroscedasticity durumunda etkilidir.\n"
   ]
  },
  {
   "cell_type": "markdown",
   "id": "bfe6467d",
   "metadata": {},
   "source": [
    "###### Karekök Dönüşümü : \n",
    "-  Asimetriklik düzeltme ihtiyacı varsa ve logaritma dönüşümü kuvvetli bir dönüşüm yapmıyorsa kullanılabilir.\n"
   ]
  },
  {
   "cell_type": "markdown",
   "id": "ec79d3f7",
   "metadata": {},
   "source": [
    "###### Küp Dönüşümü:\n",
    "- Aykırı değerlere karşı direnç sağlamak ve asimetrikliği düzeltmek için kullanılır.\n",
    "\n",
    "- Diğer dönüşümler etkili olmadığında denenir\n"
   ]
  },
  {
   "cell_type": "markdown",
   "id": "675646d9",
   "metadata": {},
   "source": [
    "<h1 style=\"background-color:#FFA500;font-family:newtimeroman;font-size:200%;text-align:left;color:#FFFFFF\">2-Robust Yöntemler\n",
    "</h1>\n"
   ]
  },
  {
   "cell_type": "markdown",
   "id": "e2cfb80a",
   "metadata": {},
   "source": [
    "<h1 style=\"background-color:#FF00F7;font-family:newtimeroman;font-size:150%;text-align:left;color:#FFFFFF\">2.1 Medyan Regresyonu:\n",
    "</h1>\n"
   ]
  },
  {
   "cell_type": "markdown",
   "id": "cec11059",
   "metadata": {},
   "source": [
    "###### Neden Kullanılır?\n",
    "- Aykırı değerlere karşı dirençlidir.\n",
    "\n",
    "- Medyan , ortalama yerine kullanılarak aykırı değerlerin etkisi azaltılır.\n"
   ]
  },
  {
   "cell_type": "markdown",
   "id": "a3bf709b",
   "metadata": {},
   "source": [
    "### Formulü:\n",
    "$\\arg \\min_{\\beta_0, \\beta_1} \\sum_{i=1}^{n} L_{\\delta}|y_i - \\beta_0 - \\beta_1 x_i|$\n"
   ]
  },
  {
   "cell_type": "markdown",
   "id": "c0d2c66f",
   "metadata": {},
   "source": [
    "###### Avantajları:\n",
    "-  Aykırı değerlere karşı dayanıklıdır\n",
    "\n",
    "- Normal dağışım varsayımına uymaz.\n",
    "###### Dezavantajları:\n",
    "- Daha az veriye dayanarak tahmin yapar"
   ]
  },
  {
   "cell_type": "markdown",
   "id": "4cf71520",
   "metadata": {},
   "source": [
    "<h1 style=\"background-color:#FF00F7;font-family:newtimeroman;font-size:150%;text-align:left;color:#FFFFFF\">2.2 Huber  Regresyonu:\n",
    "</h1>\n"
   ]
  },
  {
   "cell_type": "markdown",
   "id": "4fe89272",
   "metadata": {},
   "source": [
    "###### Neden Kullanılır ?\n",
    "-  Aykırı değerlere karşı dirençli olup , medyan ve ortalama regresyon yöntemlerinin birleşimidir.\n",
    "###### Formulü"
   ]
  },
  {
   "cell_type": "markdown",
   "id": "7190d4ac",
   "metadata": {},
   "source": [
    "$$\n",
    "\\arg \\min_{\\beta_0, \\beta_1} \\sum_{i=1}^{n} L_{\\delta}(y_i - \\beta_0 - \\beta_1 x_i)\n",
    "$$"
   ]
  },
  {
   "cell_type": "markdown",
   "id": "12e8514b",
   "metadata": {},
   "source": [
    "$  L_{\\delta}$ : Huber kaybı fonksiyonu"
   ]
  },
  {
   "cell_type": "markdown",
   "id": "0d705942",
   "metadata": {},
   "source": [
    "###### Avantajlar:\n",
    "-  Aykırı değerlere karşı dirençlidir ve medyan regresyonunun avantajlarına sahiptir.\n",
    "###### Dezavantajlar:\n",
    "-  Huber kaybı fonk. hiperparametresi (delta) belirlenmelidir.\n"
   ]
  },
  {
   "cell_type": "markdown",
   "id": "35067fb1",
   "metadata": {},
   "source": [
    "<h1 style=\"background-color:#FF00F7;font-family:newtimeroman;font-size:150%;text-align:left;color:#FFFFFF\">2.3 RANSAC (Random Sample Consensus):\n",
    "</h1>\n",
    "\n"
   ]
  },
  {
   "cell_type": "markdown",
   "id": "64b7eb79",
   "metadata": {},
   "source": [
    "###### Neden Kullanılır ?:\n",
    " Aykırı değerlere karşı dirençli ve modeli oluştururken rassal bir örnekleme yaklaşımını kullanır."
   ]
  },
  {
   "cell_type": "markdown",
   "id": "d52df02d",
   "metadata": {},
   "source": [
    "###### Nasıl Yapılır ? \n",
    " Rassal örneklemler alınarak , bu örneklemlerle model oluşturur . En iyi model aykırı olmayan gözlemlerin çoğunluğunu içeren örneklem üzerinden seçilir.\n",
    "###### Avantajlar :\n",
    "-  Aykırı değerlere karşı dirençli olup doğru modeli bulma olasılığını arttırır .\n",
    "\n",
    "- Rassal örnekleme yapısından dolayı , verideki anormal gözlemlerin etkisini azaltır.\n",
    "###### Dezavantajlar:\n",
    "-  Rassal örnekleme yapıldığı için her seferinde farklı sonuçlar alınabilir.\n"
   ]
  },
  {
   "cell_type": "markdown",
   "id": "bbeb17e6",
   "metadata": {},
   "source": [
    "<h1 style=\"background-color:#FF00F7;font-family:newtimeroman;font-size:150%;text-align:left;color:#FFFFFF\">2.4 Tükendi Yükseklik Regresyonu (Least Trimmed Squares):\n",
    "</h1>\n",
    "\n"
   ]
  },
  {
   "cell_type": "markdown",
   "id": "d39e2838",
   "metadata": {},
   "source": [
    "###### Neden Kullanılır ?\n",
    " Aykırı değerlere karşı dirençlidir ve medyan regresyonunun geliştirir. Aykırı değerlerin etkisini en aza indirerek daha güvenilir regresyon modelleri elde edilmesine katkıda bulunur.\n",
    "###### Nasıl Yapılır ? \n",
    "Verinin belirli bir yüzdeliğini örneğin %50'sini dışarıda bırakarak model oluşturur.\n",
    "###### Avantajlar:\n",
    "- Aykırı değerlere karşı dirençlidir bu sayede daha güvenilir modeller elde edilmesini sağlar.\n",
    "\n",
    "- Medyan regresyonunu geliştirir bu saayede daha güvenilir merkezi eğilimli modeller elde edilir.\n",
    "\n",
    "###### Dezavantajlar:\n",
    "- Model oluşturulurken bir yüzde belirlenmelidir ."
   ]
  },
  {
   "cell_type": "markdown",
   "id": "d7d71dc0",
   "metadata": {},
   "source": [
    "<h1 style=\"background-color:#FFA500;font-family:newtimeroman;font-size:200%;text-align:left;color:#FFFFFF\">3-Alternatif Testler\n",
    "</h1>\n"
   ]
  },
  {
   "cell_type": "markdown",
   "id": "5c6c3c41",
   "metadata": {},
   "source": [
    "<h1 style=\"background-color:#FF00F7;font-family:newtimeroman;font-size:150%;text-align:left;color:#FFFFFF\">3.1 Non-parametrik Testler\n",
    "</h1>\n",
    "\n"
   ]
  },
  {
   "cell_type": "markdown",
   "id": "3d3745e3",
   "metadata": {},
   "source": [
    "###### Neden Kullanılır?\n",
    "- Normal dağılım varsayımından bağımsız olarak kullanılabilir.\n",
    "\n",
    "- Özellikle büyük örneklem durumlarında tercih edilebilir.\n",
    "###### Avantajlar:\n",
    "\n",
    "- Normal dağılım varsayımına ihtiyaç duymaz.\n",
    "\n",
    "- Parametrik testlere göre daha esnek ve dağılmaya karşı daha dirençlidir.\n",
    "\n",
    "- Büyük örneklem durumlarında güvenilir sonuçlar verebilir.\n",
    "\n",
    "- Dağılımın belirli bir şekli hakkında önyargı olmaksızın çalışabilir.\n",
    "###### Dezavantajlar:\n",
    "-  Parametrik testlere göre daha düşük hassasiyete sahip olabilir.\n",
    "\n",
    "- Bazı durumlarda daha fazla veriye ihtiyaç duyabilir."
   ]
  },
  {
   "cell_type": "markdown",
   "id": "acc4ed19",
   "metadata": {},
   "source": [
    "<h1 style=\"background-color:#FF00F7;font-family:newtimeroman;font-size:150%;text-align:left;color:#FFFFFF\">3.2 Model Serbest Yöntemler:\n",
    "</h1>\n",
    "\n"
   ]
  },
  {
   "cell_type": "markdown",
   "id": "f978d4e8",
   "metadata": {},
   "source": [
    "###### Neden Kullanılır?\n",
    "-  Veri setinin dağılımı hakkında önyargı olmaksızın analiz yapılmasına olanak tanır.\n",
    "\n",
    "- Daha esnek ve parametrik olmayan bir yaklaşım sunar.\n",
    "###### Avantajlar:\n",
    "- Normal dağılım varsayımından bağımsız çalışabilir.\n",
    "\n",
    "- Farklı veri setlerine uygulanabilir.\n",
    "\n",
    "- Modelin daha genel bir şekilde uygulanabilmesine olanak tanır.\n",
    "\n",
    "Dağılımın belirli bir şekli hakkında önyargı olmaksızın çalışabilir.\n",
    "###### Dezavantajlar:\n",
    "- Parametrik yöntemlere göre belirli bir konuda daha az bilgi sunabilir.\n",
    "\n",
    "- Bazı durumlarda daha fazla veriye ihtiyaç duyabilir."
   ]
  },
  {
   "cell_type": "markdown",
   "id": "3e9b3e2d",
   "metadata": {},
   "source": [
    " Non-parametrik testler ve model serbest yöntemler, normal dağılım varsayımını gereksiz kılar ve daha genel bir perspektiften analiz yapılmasına imkan tanır. Bu yöntemler, özellikle büyük örneklem durumlarında ve verinin belirli bir dağılıma uymadığı durumlarda etkili olabilir. "
   ]
  },
  {
   "cell_type": "markdown",
   "id": "b9516d66",
   "metadata": {},
   "source": [
    "<h1 style=\"background-color:#FFA500;font-family:newtimeroman;font-size:200%;text-align:left;color:#FFFFFF\">4-Aykırı Değerlerin İncelenmesi ve Düzeltilmesi\n",
    "</h1>\n"
   ]
  },
  {
   "cell_type": "markdown",
   "id": "027a2b20",
   "metadata": {},
   "source": [
    " Aykırı değerler, genel trendden sapma eğiliminde oldukları için normal dağılımı bozabilir. Aykırı değerleri tanımlamak ve düzeltmek, regresyon modelinin güvenilirliğini artırabilir."
   ]
  },
  {
   "cell_type": "markdown",
   "id": "c36ad26a",
   "metadata": {},
   "source": [
    "<h1 style=\"background-color:#FF00F7;font-family:newtimeroman;font-size:150%;text-align:left;color:#FFFFFF\">Aykırı Değerlerin Tanımlanması Neden Önemlidir ? \n",
    "</h1>\n",
    "\n"
   ]
  },
  {
   "cell_type": "markdown",
   "id": "1672cefa",
   "metadata": {},
   "source": [
    "-  Aykırı değerler, veri setinde genel eğilimden sapmış olan gözlemlerdir.\n",
    "\n",
    "- Regresyon analizinde bu değerlerin tanımlanması, modelin yanıltıcı olmasını engeller.\n"
   ]
  },
  {
   "cell_type": "markdown",
   "id": "1355cd0a",
   "metadata": {},
   "source": [
    "<h1 style=\"background-color:#FF00F7;font-family:newtimeroman;font-size:150%;text-align:left;color:#FFFFFF\">Numerik Değişkenlerde Aykırı Değer Tespit Etme Yöntemi\n",
    "</h1>"
   ]
  },
  {
   "cell_type": "markdown",
   "id": "a7dcebec",
   "metadata": {},
   "source": [
    "###### Boxplot"
   ]
  },
  {
   "attachments": {
    "image.png": {
     "image/png": "[encoded data removed]"
    }
   },
   "cell_type": "markdown",
   "id": "b37a667a",
   "metadata": {},
   "source": [
    "![image.png](attachment:image.png)"
   ]
  },
  {
   "cell_type": "markdown",
   "id": "8301f579",
   "metadata": {},
   "source": [
    "<h1 style=\"background-color:#FF00F7;font-family:newtimeroman;font-size:150%;text-align:left;color:#FFFFFF\">Tukey Yöntemi ile Aykırı Değer Tespiti\n",
    "</h1>"
   ]
  },
  {
   "cell_type": "markdown",
   "id": "efe8e74a",
   "metadata": {},
   "source": [
    " Tukey Yöntemi, bir veri setinin çeyreklerine dayanır ve \"IQR (Interquartile Range - Çeyrekler Arası Aralık)\" adı verilen ölçü ile aykırı değerleri tanımlar. Boxplotun matematiksel halidir."
   ]
  },
  {
   "cell_type": "markdown",
   "id": "ff584e81",
   "metadata": {},
   "source": [
    "###### Nasıl Yapılır ? "
   ]
  },
  {
   "cell_type": "markdown",
   "id": "2afe7085",
   "metadata": {},
   "source": [
    " - Q1 ve Q3 Hesaplama: Q1 veri setinin ilk çeyreği Q3 ise veri setinin üçüncü çeyreğidir."
   ]
  },
  {
   "cell_type": "markdown",
   "id": "b22390bb",
   "metadata": {},
   "source": [
    "-  IQR Hesaplama : $IQR = Q3-Q1$"
   ]
  },
  {
   "cell_type": "markdown",
   "id": "5cbefee7",
   "metadata": {},
   "source": [
    "-  Alt sınır hesaplama : $Q1 - 1.5*IQR$\n",
    " - Üst sınır hesaplama : $Q3 + 1.5*IQR$"
   ]
  },
  {
   "cell_type": "markdown",
   "id": "3bd7cff8",
   "metadata": {},
   "source": [
    "-  Aykırı Değer Belirleme : Alt sınırdan daha küçük değerleri veya üst sınırdan daha büyük veri noktalarına aykırı değer diyebiliriz."
   ]
  },
  {
   "cell_type": "markdown",
   "id": "88d217be",
   "metadata": {},
   "source": [
    "<h1 style=\"background-color:#FF00F7;font-family:newtimeroman;font-size:150%;text-align:left;color:#FFFFFF\">Z-Skor İle Aykırı Değer Tespiti\n",
    "</h1>"
   ]
  },
  {
   "cell_type": "markdown",
   "id": "3d8db831",
   "metadata": {},
   "source": [
    "#### Z-skor, bir veri noktasının, veri setinin ortalamasından ne kadar uzakta olduğunu standart sapma birimleriyle ifade eden bir ölçüdür. "
   ]
  },
  {
   "attachments": {
    "image.png": {
     "image/png": "[encoded data removed]"
    }
   },
   "cell_type": "markdown",
   "id": "2722b1a4",
   "metadata": {},
   "source": [
    "![image.png](attachment:image.png)"
   ]
  },
  {
   "cell_type": "markdown",
   "id": "a9247c8a",
   "metadata": {},
   "source": [
    " Z skoru genellikle -3 ile +3 arasında değerler alır . Eğer sonucumuz -3 ve +3'ün ötesinde ise veri aykırı olarak kabul edilir."
   ]
  },
  {
   "cell_type": "markdown",
   "id": "0a17b2cd",
   "metadata": {},
   "source": [
    "<h1 style=\"background-color:#FF00F7;font-family:newtimeroman;font-size:150%;text-align:left;color:#FFFFFF\"> Grubbs Testi\n",
    "</h1>"
   ]
  },
  {
   "cell_type": "markdown",
   "id": "8f7d6dd7",
   "metadata": {},
   "source": [
    " Grubbs Testi, bir tek aykırı değeri belirlemek üzere tasarlanmıştır. Bu test, en büyük veya en küçük değeri aykırı olarak değerlendirir."
   ]
  },
  {
   "attachments": {
    "image.png": {
     "image/png": "[encoded data removed]"
    }
   },
   "cell_type": "markdown",
   "id": "f3f48eed",
   "metadata": {},
   "source": [
    "![image.png](attachment:image.png)"
   ]
  },
  {
   "cell_type": "markdown",
   "id": "43856663",
   "metadata": {},
   "source": [
    "###### $H_0$ : Veri setinde aykırı değer yoktur\n",
    "###### $H_1$ : Veri setinde aykırı değer vardır.\n",
    " $y_i$ : Veri setindeki aykırı değer"
   ]
  },
  {
   "cell_type": "markdown",
   "id": "d95ae539",
   "metadata": {},
   "source": [
    " $ \\overline{y}_i $ : Veri setinin ortalaması\n",
    " $s$ : Veri setinin standart sapması"
   ]
  },
  {
   "cell_type": "markdown",
   "id": "d458a88a",
   "metadata": {},
   "source": [
    "#### Hesaplanan değer $t _ elestiri$ değerinden büyükse H0 red edilir yani veri setimizde aykırı değer vardır"
   ]
  },
  {
   "cell_type": "markdown",
   "id": "0371fc03",
   "metadata": {},
   "source": [
    "<h1 style=\"background-color:#FF00F7;font-family:newtimeroman;font-size:150%;text-align:left;color:#FFFFFF\"> Dixon's Q Testi\n",
    "</h1>"
   ]
  },
  {
   "cell_type": "markdown",
   "id": "6b555832",
   "metadata": {},
   "source": [
    " Bu test, bir veri setindeki en küçük veya en büyük değeri aykırı olarak kabul edilen bir değer tespit etmeye odaklanır. \n",
    "###### $H_0$ : Veri setinde aykırı değer yoktur.\n",
    "###### $H_1$ : Veri setinde aykırı değer vardır.(Veri setindeki en küçük veya en büyük değer aykırıdır.\n"
   ]
  },
  {
   "cell_type": "markdown",
   "id": "61647f25",
   "metadata": {},
   "source": [
    "##             $\\frac{|X_2 - X_1|}{X_3 - X_1}$"
   ]
  },
  {
   "cell_type": "markdown",
   "id": "77378bd5",
   "metadata": {},
   "source": [
    "###### Nasıl Yapılır ? \n",
    " - Veri setini küçükten büyüğe doğru sıralayın.\n"
   ]
  },
  {
   "cell_type": "markdown",
   "id": "b2bda36f",
   "metadata": {},
   "source": [
    "-  Bulduğumuz sonuç , belirlediğimiz güven düzeyinin Dixon's Q tablosundaki değerinden büyük ise  H0 hipotezi red edilir yani veri setindeki en küçük veya en büyük değer aykırıdır."
   ]
  },
  {
   "cell_type": "markdown",
   "id": "673fa012",
   "metadata": {},
   "source": [
    "<h1 style=\"background-color:#FF00F7;font-family:newtimeroman;font-size:150%;text-align:left;color:#FFFFFF\"> MAD(Median Absolute Error Deviation - Ortanca Mutlak Sapma) \n",
    "</h1>"
   ]
  },
  {
   "cell_type": "markdown",
   "id": "483da159",
   "metadata": {},
   "source": [
    "Veri noktalarının ortanca değerinden mutlak sapmalarının ortanca değeri olarak hesaplanır."
   ]
  },
  {
   "cell_type": "markdown",
   "id": "cd901dc0",
   "metadata": {},
   "source": [
    "#### $|X_i- M|$\n",
    "#### $ X_i : Veri $\n",
    "#### $M : Ortanca  (Medyan)$"
   ]
  },
  {
   "cell_type": "markdown",
   "id": "63aa9ac7",
   "metadata": {},
   "source": [
    "###### Nasıl Yapılır ?\n",
    "- Verilerimiz küçükten büyüğe sıralanır ve en ortanca değer M değişkeni olarak atanır . \n",
    "\n",
    "-  Her bir veriden medyanı çıkarıp mutlak değerini aldığımız zaman bu değer bize MAD değerini verecektir.\n",
    "\n",
    "- Eşik değeri belirlenir örneğin 2 olsun. 2 X MAD değerinden büyük değerler aykırı değer olarak kabul edilir"
   ]
  },
  {
   "cell_type": "markdown",
   "id": "44d721ac",
   "metadata": {},
   "source": [
    "<h1 style=\"background-color:#FF00F7;font-family:newtimeroman;font-size:150%;text-align:left;color:#FFFFFF\">  Kategorik Değişkenlerde Aykırı Değer Tespiti\n",
    "</h1>\n"
   ]
  },
  {
   "cell_type": "markdown",
   "id": "ed1fbb59",
   "metadata": {},
   "source": [
    "-  Tek bir değişkenin aykırı değerini tespit etmek istediğimiz zaman unique değer sayıları ile tespit edebiliriz.  Ya da histogram çizdirerek görsel şekilde de bakabiliriz."
   ]
  },
  {
   "cell_type": "markdown",
   "id": "9ae6ffb4",
   "metadata": {},
   "source": [
    "-  İki kategorik değişken için aykırı değer analizi yapıyorsak çapraz tablo(crosstab) oluşturarak diğer değerlerden fark edilecek şekilde küçük olan değerlere aykırı değer diyebiliriz."
   ]
  },
  {
   "cell_type": "markdown",
   "id": "cf85ba76",
   "metadata": {},
   "source": [
    "<h1 style=\"background-color:#FF00F7;font-family:newtimeroman;font-size:150%;text-align:left;color:#FFFFFF\">  Çok Değişkenli Aykırı Değer Tespiti\n",
    "</h1>\n"
   ]
  },
  {
   "cell_type": "markdown",
   "id": "3ed71d9d",
   "metadata": {},
   "source": [
    "- Kümeleme analizi kullanılır.\n",
    "\n",
    "-  Min-max standartlaştırması ile değerlerimizi standartlaştırmalıyız\n",
    "\n",
    "-  Sonrasında KMeans kümeleme yöntemi ile kümeleme analizini gerçekleştireceğiz.\n",
    "\n",
    "- Clusterlarımızı incelediğimiz zaman cluster içindeki veri sayısına bakarak karar veririz . Genel olarak clusterlar içinde çok az bir veri var ise aykırı değer var diyebiliriz."
   ]
  },
  {
   "cell_type": "markdown",
   "id": "86e572ce",
   "metadata": {},
   "source": [
    "<h1 style=\"background-color:#FFA500;font-family:newtimeroman;font-size:200%;text-align:left;color:#FFFFFF\">Aykırı Değer ile Nasıl Başa Çıkarız \n",
    "</h1>\n"
   ]
  },
  {
   "cell_type": "markdown",
   "id": "f1ce1739",
   "metadata": {},
   "source": [
    "<h1 style=\"background-color:#FF00F7;font-family:newtimeroman;font-size:150%;text-align:left;color:#FFFFFF\"> Üst Sınır Ve Alt Sınıra Baskılamak\n",
    "</h1>\n"
   ]
  },
  {
   "cell_type": "markdown",
   "id": "ab34da6e",
   "metadata": {},
   "source": [
    "#### Tukey yönteminde hesapladığımız alt sınıra alt sınırdan aşağıdaki değerleri  , üst sınıra ise üst sınırdan fazla değerleri eşitleriz. "
   ]
  },
  {
   "cell_type": "markdown",
   "id": "e2a74602",
   "metadata": {},
   "source": [
    "###### Hangi Durumlarda Yapılır ? \n",
    "-  Aykırı değer tek değişkenliyse\n",
    "\n",
    "-  Analiz hedefimiz ya da kullandığımız araç aykırı değere hassas ise\n",
    "\n",
    "- Aykırı değerleri eşitlememiz analizimizin sonuçlarını etkilemeyecek ise"
   ]
  },
  {
   "cell_type": "markdown",
   "id": "89e6c1d5",
   "metadata": {},
   "source": [
    "<h1 style=\"background-color:#FF00F7;font-family:newtimeroman;font-size:150%;text-align:left;color:#FFFFFF\">Logaritmik Dönüşüm\n",
    "</h1>\n"
   ]
  },
  {
   "cell_type": "markdown",
   "id": "6fc80157",
   "metadata": {},
   "source": [
    "-  Değişkenin üstel bir dağılımı takip ettiği durumlarda, bazı veri noktalarının geri kalan popülasyondan çok farklı olması normal olabilir. Bu durumda, bu aykırılıklarla başa çıkmak ve veriyi daha tutarlı hale getirmek için logaritmik dönüşüm uygulamak en iyi yaklaşım olabilir\n",
    "\n",
    "-  Sağa çarpıksa Logaritmik dönüşüm, bu tür durumlarda veriyi daha normal veya simetrik bir dağılım haline getirerek analiz için daha uygun hale getirir.\n",
    "\n",
    "-  Sola çarpıksa - ile çarpılır sağa çarpık hale getirilir sonrasında log ya da kök x karekök dönüşümü ile normalize edilir. ve normal dağılıp dağılmadığı tekrar incelenir."
   ]
  },
  {
   "cell_type": "markdown",
   "id": "ee4684cd",
   "metadata": {},
   "source": [
    "<h1 style=\"background-color:#FF00F7;font-family:newtimeroman;font-size:150%;text-align:left;color:#FFFFFF\">Aykırı Değerleri Kaldırmak \n",
    "</h1>\n"
   ]
  },
  {
   "cell_type": "markdown",
   "id": "5fc6b7dd",
   "metadata": {},
   "source": [
    "-  Diğer yöntemler işe yaramadığı zaman bu yöntemi kullanırız.\n",
    "\n",
    "- Burada asıl amacımız çok önemlidir. Örneğin populasyon dağılımının çoğunluğu 40 ve 100 arasındadır .Eğer amacımız bunu göstermek ise aykırı değerleri yok sayabiliriz fakat amacımız gerçek değerleri göstermek ise aykırı değerleri kaldırmamalıyız."
   ]
  },
  {
   "attachments": {
    "image.png": {
     "image/png": "[encoded data removed]"
    }
   },
   "cell_type": "markdown",
   "id": "2e16aa9e",
   "metadata": {},
   "source": [
    "![image.png](attachment:image.png)"
   ]
  },
  {
   "attachments": {
    "image.png": {
     "image/png": "[encoded data removed]"
    }
   },
   "cell_type": "markdown",
   "id": "85a5ad2a",
   "metadata": {},
   "source": [
    "![image.png](attachment:image.png)"
   ]
  },
  {
   "cell_type": "markdown",
   "id": "d829577c",
   "metadata": {},
   "source": [
    "<h1 style=\"background-color:#3b5998;font-family:newtimeroman;font-size:250%;text-align:center;color:#FFFFFF\">2) Bağımsızlık Varsayımı\n",
    "</h1>"
   ]
  },
  {
   "cell_type": "markdown",
   "id": "65fcd5ba",
   "metadata": {},
   "source": [
    "#### Bu varsayım, modelin tahmin etmeye çalıştığı bağımlı değişkenin gözlemleri arasındaki ilişkinin bağımsız değişkenlerden etkilenmediğini ifade eder. Başka bir deyişle, bağımsızlık varsayımı, gözlemler arasındaki hata terimlerinin birbirinden bağımsız olduğunu ve bir gözlemin diğerine olan etkisinin olmadığını belirtir."
   ]
  },
  {
   "cell_type": "markdown",
   "id": "d2b1bf2d",
   "metadata": {},
   "source": [
    "<h1 style=\"background-color:#FF00F7;font-family:newtimeroman;font-size:150%;text-align:left;color:#FFFFFF\">Neden Kullanılır\n",
    "</h1>\n"
   ]
  },
  {
   "cell_type": "markdown",
   "id": "5952a7d4",
   "metadata": {},
   "source": [
    "###### 1 - Modelin Doğruluğunu ve Güvenilirliğini Sağlamak\n",
    " Modelin doğru ve güvenilir tahminler yapabilmesi için bir ön koşuldur. Bağımsızlık varsayımı yoksa modelin tahminleri yanıltıcı olabilir. Bağımsız değişkenlerin bağımlı değişken üzerindeki etkisi gözlemler arasındaki ilişkiden bağımsız olmalıdır"
   ]
  },
  {
   "cell_type": "markdown",
   "id": "35f31a69",
   "metadata": {},
   "source": [
    "###### 2- Tahmin Gücünü Arttırmak\n",
    " Tahmin Gücünü Artırmak: Bağımsızlık varsayımı sağlandığında, model gelecekteki değerleri daha güvenilir bir şekilde tahmin edebilir. Gözlemler arasındaki bağımsızlık, modelin genelleme yeteneğini artırarak gelecekteki veriler üzerinde daha etkili tahminler yapmasına olanak tanır."
   ]
  },
  {
   "cell_type": "markdown",
   "id": "d0088717",
   "metadata": {},
   "source": [
    "###### 3-İstatistiksel Testlerin Güvenilirliği\n",
    " Birçok istatistiksel test, bağımsızlık varsayımına dayanır. Gözlemler arasında bağımsızlık olmaması, hipotez testlerinin ve diğer istatistiksel analizlerin güvenilirliğini azaltabilir. Bu nedenle, bağımsızlık varsayımı, elde edilen istatistiksel sonuçların doğru ve güvenilir olmasını sağlamak için önemlidir."
   ]
  },
  {
   "cell_type": "markdown",
   "id": "8512714b",
   "metadata": {},
   "source": [
    "<h1 style=\"background-color:#FFA500;font-family:newtimeroman;font-size:200%;text-align:left;color:#FFFFFF\">Bağımsızlık Varsayımının Bozulma Nedenleri Nelerdir ? Nasıl Anlarız ?\n",
    "</h1>\n"
   ]
  },
  {
   "cell_type": "markdown",
   "id": "57e479f7",
   "metadata": {},
   "source": [
    "<h1 style=\"background-color:#FF00F7;font-family:newtimeroman;font-size:150%;text-align:left;color:#FFFFFF\"> 1-Zaman Serisi Verilerinde Otokorelasyon:\n",
    "</h1>\n",
    "\n"
   ]
  },
  {
   "cell_type": "markdown",
   "id": "8a0b9720",
   "metadata": {},
   "source": [
    " Zaman serisi verilerinde, ardışık gözlemler arasındaki ilişki otokorelasyon olarak adlandırılır. Eğer model, incelenen zaman aralığında bu otokorelasyonu dikkate almazsa, bağımsızlık varsayımı bozulabilir."
   ]
  },
  {
   "cell_type": "markdown",
   "id": "20b0cd57",
   "metadata": {},
   "source": [
    "<h1 style=\"background-color:#FF00F7;font-family:newtimeroman;font-size:150%;text-align:left;color:#FFFFFF\"> Otokorelasyon Olduğunu Nasıl Anlarız ? \n",
    "</h1>\n",
    "\n"
   ]
  },
  {
   "cell_type": "markdown",
   "id": "020d2518",
   "metadata": {},
   "source": [
    "<h1 style=\"background-color:#FF00F7;font-family:newtimeroman;font-size:150%;text-align:left;color:#FFFFFF\"> Otokorelasyon Fonksiyonu (ACF) ve Kısmi Otokorelasyon Fonksiyonu (PACF)\n",
    "</h1>\n",
    "\n"
   ]
  },
  {
   "cell_type": "markdown",
   "id": "91fb30e9",
   "metadata": {},
   "source": [
    "<h1 style=\"background-color:#FF00F7;font-family:newtimeroman;font-size:150%;text-align:left;color:#FFFFFF\"> 1. Otokorelasyon Fonksiyonu (ACF)\n",
    "</h1>\n",
    "\n"
   ]
  },
  {
   "cell_type": "markdown",
   "id": "6feb69b6",
   "metadata": {},
   "source": [
    " ACF, bir zaman serisindeki gözlemler arasındaki korelasyonu ölçer. ACF grafikleri, bir zaman gecikmesi (lag) ve bu gecikmeye ait korelasyon değerleri içerir.\n",
    " \n",
    " ACF grafiklerinde bir desen gözlemlenirse, bu otokorelasyonun varlığını gösterebilir. Örneğin, bir zaman gecikmesi için korelasyon değerinin istatistiksel olarak anlamlı olduğu bir lag görüldüğünde, bu otokorelasyonun belirgin olduğunu düşündürebiliriz.\n",
    " \n",
    " ACF grafiği genellikle bir \"kuyruk\" şeklinde olabilir, yani belirli bir lag sonrasında korelasyonlar yavaşça azalabilir. Bu durum, zaman serisindeki uzun vadeli bağımlılıkları gösterebilir."
   ]
  },
  {
   "cell_type": "markdown",
   "id": "f228e18d",
   "metadata": {},
   "source": [
    "<h1 style=\"background-color:#FF00F7;font-family:newtimeroman;font-size:150%;text-align:left;color:#FFFFFF\"> 2. Kısmi Otokorelasyon Fonksiyonu (PACF):\n",
    "</h1>\n",
    "\n"
   ]
  },
  {
   "cell_type": "markdown",
   "id": "9d2574de",
   "metadata": {},
   "source": [
    "\n",
    "PACF, bir zaman serisindeki korelasyonun, diğer zaman gecikmelerinden kaynaklanan korelasyonun etkisinden arındırılmış halini ölçer.\n",
    "\n",
    " PACF grafikleri, belirli bir zaman gecikmesinin, diğer zaman gecikmelerinden kaynaklanan korelasyonun etkisini belirlemek için kullanılır.\n",
    " \n",
    " PACF grafiği genellikle bir \"bıçak\" veya \"kayıp\" deseni gösterir. Bu desen, belirli bir zaman gecikmesinin etkisinin diğer zaman gecikmelerinden bağımsız olduğunu gösterir."
   ]
  },
  {
   "cell_type": "markdown",
   "id": "daf17a99",
   "metadata": {},
   "source": [
    "<h1 style=\"background-color:#FF00F7;font-family:newtimeroman;font-size:150%;text-align:left;color:#FFFFFF\"> 1.1Zaman Serisi Otokorelasyonlarıyla Başa Çıkma Yolları\n",
    "</h1>\n",
    "\n"
   ]
  },
  {
   "cell_type": "markdown",
   "id": "af4e53ab",
   "metadata": {},
   "source": [
    "<h1 style=\"background-color:#FF00F7;font-family:newtimeroman;font-size:150%;text-align:left;color:#FFFFFF\"> 1.1.1)ARIMA (Otomatik Regresyon Entegrasyon Hareketli Ortalama) Modelleri:\n",
    "</h1>\n",
    "\n"
   ]
  },
  {
   "cell_type": "markdown",
   "id": "619f6b82",
   "metadata": {},
   "source": [
    "ARIMA modelleri, zaman serisi verilerindeki otokorelasyonu ele almak için yaygın olarak kullanılır.\n",
    "\n",
    "###### Avantajları:\n",
    "- Otomatik olarak otokorelasyonu düzelten bir yapısı vardır.\n",
    "\n",
    "- Yüksek derecede esnek ve farklı otokorelasyon tipleriyle başa çıkabilir.\n",
    "###### Dezavantajları:\n",
    "- Modelin karmaşıklığı ve parametre seçimi konularında dikkatli olunmalıdır."
   ]
  },
  {
   "cell_type": "markdown",
   "id": "cad36fc2",
   "metadata": {},
   "source": [
    "<h1 style=\"background-color:#FF00F7;font-family:newtimeroman;font-size:150%;text-align:left;color:#FFFFFF\">1.1.2)Lag Eklemek:\n",
    "</h1>"
   ]
  },
  {
   "cell_type": "markdown",
   "id": "f2068fc4",
   "metadata": {},
   "source": [
    " Modeldeki bağımsız değişkenlere zaman gecikmelerini (lag) ekleyerek otokorelasyonu düzeltebilirsiniz.\n",
    "###### Avantajları:\n",
    "-  Basit ve anlaşılır bir yöntem.\n",
    "###### Dezavantajları:\n",
    "-  Her durumda etkili olmayabilir.\n",
    " \n",
    "-  Modelin karmaşıklığını artırabilir."
   ]
  },
  {
   "cell_type": "markdown",
   "id": "a190801a",
   "metadata": {},
   "source": [
    "<h1 style=\"background-color:#FF00F7;font-family:newtimeroman;font-size:150%;text-align:left;color:#FFFFFF\">  1.1.3)Hata Terimlerini İncelemek:\n",
    "</h1>"
   ]
  },
  {
   "cell_type": "markdown",
   "id": "24bc5cab",
   "metadata": {},
   "source": [
    " Modelin hata terimlerini gözden geçirerek, belirli desenleri veya yapıları belirleyip düzeltebilirsiniz.\n",
    "##### Avantajları:\n",
    "-  Modelin özel ihtiyaçlarına göre uyarlanabilir.\n",
    "###### Dezavantajları:\n",
    "-  Gözlemlerdeki desenleri tespit etmek zor olabilir."
   ]
  },
  {
   "cell_type": "markdown",
   "id": "ea5625b9",
   "metadata": {},
   "source": [
    "<h1 style=\"background-color:#FF00F7;font-family:newtimeroman;font-size:150%;text-align:left;color:#FFFFFF\"> 1.1.4)Zaman Serisi Dönüşümleri:\n",
    "</h1>"
   ]
  },
  {
   "cell_type": "markdown",
   "id": "c6d9b855",
   "metadata": {},
   "source": [
    "Logaritmik dönüşümler, farklar veya diğer matematiksel dönüşümlerle otokorelasyonu düzeltebilirsiniz.\n",
    "###### Avantajları:\n",
    "- Verideki varyansı düzeltebilir.\n",
    "###### Dezavantajları:\n",
    "-  Yorumlama zorluğu olabilir."
   ]
  },
  {
   "cell_type": "markdown",
   "id": "e52f400c",
   "metadata": {},
   "source": [
    "<h1 style=\"background-color:#FF00F7;font-family:newtimeroman;font-size:150%;text-align:left;color:#FFFFFF\"> 1.1.5)Hiperparametre Optimizasyonu:\n",
    "</h1>"
   ]
  },
  {
   "cell_type": "markdown",
   "id": "e20d6cbc",
   "metadata": {},
   "source": [
    " Modelin hiperparametrelerini (örneğin, ARIMA'nın p, d, q değerleri) optimize ederek otokorelasyonu düzeltebilirsiniz.\n",
    "##### Avantajları:\n",
    "-  Modelin performansını artırabilir.\n",
    "###### Dezavantajları:\n",
    "-  Hiperparametre optimizasyonu karmaşık olabilir."
   ]
  },
  {
   "cell_type": "markdown",
   "id": "d9b21091",
   "metadata": {},
   "source": [
    "<h1 style=\"background-color:#FF00F7;font-family:newtimeroman;font-size:150%;text-align:left;color:#FFFFFF\"> 2-Durbin-Watson İstatistiği:\n",
    "</h1>\n",
    "\n"
   ]
  },
  {
   "cell_type": "markdown",
   "id": "4ae52a89",
   "metadata": {},
   "source": [
    " Durbin-Watson İstatistiği, bir regresyon analizinin hata terimleri arasındaki otokorelasyonu belirlemek için kullanılan bir ölçüdür. Bu istatistik, özellikle seri bağımsız gözlemler arasındaki korelasyonu ölçer.\n",
    "###### $H_0$ : Otokorelasyon yoktur.\n",
    "###### $H_1$ : Otokorelasyon vardır.\n",
    "Durbin Watson istatistiği 0 ve 4 aralığında değer alır\n",
    "\n",
    "Eğer istatistik değerimiz 2 civarı çıkarsa otokorelasyon ihtimali düşer\n",
    "\n",
    "0 veya 4'e yaklaştıkça ise otokorelasyon ihtimali artar."
   ]
  },
  {
   "cell_type": "markdown",
   "id": "9091e1b3",
   "metadata": {},
   "source": [
    "Örneğin istatistik değerimiz 1.9 çıktığında bu değer 2'ye yakın olduğu için otokorelasyon olasılığının düşük olduğunu söylenebilir , bu durumda H0 red edilemez ve otokorelasyon olmadığı kabul edilir."
   ]
  },
  {
   "cell_type": "markdown",
   "id": "9fd33093",
   "metadata": {},
   "source": [
    "<h1 style=\"background-color:#FF00F7;font-family:newtimeroman;font-size:150%;text-align:left;color:#FFFFFF\"> 2-Ljung-Box Testi:\n",
    "</h1>"
   ]
  },
  {
   "cell_type": "markdown",
   "id": "0cb5731d",
   "metadata": {},
   "source": [
    " Ljung-Box testi, bir zaman serisinin belirli gecikmeler (lag) arasındaki otokorelasyonu değerlendiren bir istatistiksel testtir.\n",
    "###### $H0$ : Seride otokorelasyon yoktur.\n",
    "###### $H1$ : Seride otokorelasyon vardır.\n"
   ]
  },
  {
   "cell_type": "markdown",
   "id": "b69d9931",
   "metadata": {},
   "source": [
    "##### Nasıl Hesaplanır ? "
   ]
  },
  {
   "cell_type": "markdown",
   "id": "39139c8d",
   "metadata": {},
   "source": [
    "- Veri seti üzerinde belirli lag değerleri için otokorelasyon fonksiyonu (ACF) ve kısmi otokorelasyon fonksiyonu (PACF) hesaplanır.\n",
    "\n",
    "-  Hesaplanan ACF ve PACF değerleri, Ljung-Box test istatistiğine dahil edilir.\n",
    "\n",
    "- Elde edilen test istatistiği, belirli bir serbestlik derecesine göre χ² (ki-kare) dağılımı ile karşılaştırılır.\n",
    "\n",
    "- Eğer p-value belirli bir anlamlılık düzeyinden küçükse (genellikle 0.05), H0 hipotezi reddedilir ve otokorelasyon olduğu kabul edilir."
   ]
  },
  {
   "cell_type": "markdown",
   "id": "77e07d7e",
   "metadata": {},
   "source": [
    "###### Avantajları\n",
    "\n",
    "- Zaman serisindeki otokorelasyonun istatistiksel olarak değerlendirilmesi için güçlü bir araçtır.\n",
    "\n",
    "- Model uygunluğunu kontrol etmek için kullanılabilir."
   ]
  },
  {
   "cell_type": "markdown",
   "id": "674e1d77",
   "metadata": {},
   "source": [
    "###### Dezavantajları:\n",
    "- Zaman serisi verilerindeki otokorelasyonu belirleme konusunda tek başına yeterli değildir.\n",
    "\n",
    "- Diğer istatistiksel testler ve grafiksel yöntemlerle birlikte kullanılması önerilir."
   ]
  },
  {
   "cell_type": "markdown",
   "id": "1c5bb81e",
   "metadata": {},
   "source": [
    "<h1 style=\"background-color:#FF00F7;font-family:newtimeroman;font-size:150%;text-align:left;color:#FFFFFF\"> 3)Runs Testi:\n",
    "</h1>\n",
    "\n",
    " Runs testi, gözlemlerin birbirini takip eden artan veya azalan serilerini değerlendirir. Eğer gözlemler arasında belirgin bir desen varsa, otokorelasyon olabilir.\n",
    "\n",
    "###### Test Yöntemi: \n",
    "İstatistiksel yazılımlar veya istatistiksel tablolar, runs testi için p-value'yi sağlar. \n",
    "\n",
    "Düşük p-value, otokorelasyon olasılığını gösterir."
   ]
  },
  {
   "cell_type": "markdown",
   "id": "e9f9b05e",
   "metadata": {},
   "source": [
    "<h1 style=\"background-color:#3b5998;font-family:newtimeroman;font-size:250%;text-align:center;color:#FFFFFF\">3) Homojen Varyans Varsayımı\n",
    "</h1>"
   ]
  },
  {
   "cell_type": "markdown",
   "id": "c7188a68",
   "metadata": {},
   "source": [
    "Homoscedasticity (Homojen Varyans) Varsayımı, regresyon analizlerindeki hata terimlerinin bağımsız değişkenlerin düzeyleri boyunca sabit bir varyansa sahip olması gerektiğini ifade eder"
   ]
  },
  {
   "cell_type": "markdown",
   "id": "742a6703",
   "metadata": {},
   "source": [
    "<h1 style=\"background-color:#FFA500;font-family:newtimeroman;font-size:200%;text-align:left;color:#FFFFFF\">Neden İhtiyaç Duyulur?\n",
    "</h1>\n"
   ]
  },
  {
   "cell_type": "markdown",
   "id": "bff1e457",
   "metadata": {},
   "source": [
    "##### Model Güvenilirliği: \n",
    "Homoscedasticity varsayımı, regresyon modelinin güvenilir sonuçlar üretmesi açısından kritik öneme sahiptir. Eğer hata terimlerinin varyansı bağımsız değişkenlerin düzeyleri boyunca değişkenlik gösterirse, modelin tahminleri ve hata terimlerinin güvenilirliği konusunda sorunlar ortaya çıkabilir.\n",
    "###### İstatistiksel Testlerin Doğruluğu:\n",
    "İstatistiksel testler, özellikle parametre tahminleri ve inferans çıkarmak için kullanılan testler, homoscedasticity varsayımının sağlanmasını gerektirir. Varsayımın sağlanmaması durumunda, standart hataların yanlış hesaplanması ve bu hataların test istatistiklerini etkilemesi olasılığı artar.\n",
    "##### Önemi Nedir ? \n",
    "###### Model Performansı: \n",
    "Homoscedasticity, modelin performansını artırarak tahminlerin ve sonuçların güvenilirliğini sağlar. Varsayımın sağlanması, modelin daha genel geçerli ve uygulanabilir olmasını sağlar.\n",
    "\n",
    "###### Tahmin Gücü: \n",
    "Homoscedasticity'nin sağlanması, modelin gelecekteki gözlemler üzerinde daha iyi tahminler yapmasına yardımcı olur. Değişen varyansa sahip bir model, gelecekteki tahminlerde belirsizliklere neden olabilir.\n",
    "\n",
    "###### Model Karşılaştırmaları: \n",
    "Homoscedasticity varsayımının sağlanması, farklı modellerin veya değişkenlerin karşılaştırılmasını daha güvenilir kılar. Bu, modeller arasındaki performans farklarını daha doğru bir şekilde değerlendirmeye olanak tanır.\n",
    "\n",
    "\n",
    "###### Homoscedasticity'nin sağlanmaması durumunda, regresyon tahminleri ve test sonuçları güvenilir olmayabilir.Heteroscedasticity (varyansın değişkenlik göstermesi) durumu modelin yanlış yorumlanmasına neden olabilir."
   ]
  },
  {
   "cell_type": "markdown",
   "id": "ee8bcae6",
   "metadata": {},
   "source": [
    "<h1 style=\"background-color:#FFA500;font-family:newtimeroman;font-size:200%;text-align:left;color:#FFFFFF\">Nasıl Test Edilir ?\n",
    "</h1>\n"
   ]
  },
  {
   "cell_type": "markdown",
   "id": "a7e0d810",
   "metadata": {},
   "source": [
    "<h1 style=\"background-color:#FF00F7;font-family:newtimeroman;font-size:150%;text-align:left;color:#FFFFFF\"> Görsel İnceleme (Residual Plot):\n",
    "</h1>"
   ]
  },
  {
   "cell_type": "markdown",
   "id": "e2afdc8f",
   "metadata": {},
   "source": [
    " Regresyon analizinden elde edilen hata terimleri, residual plotlar üzerinde görsel olarak incelenir. Homoscedasticity'nin sağlandığı durumda, residual plotlar düzensiz bir desen göstermeli ve herhangi bir belirgin artış veya azalış olmamalıdır."
   ]
  },
  {
   "cell_type": "markdown",
   "id": "63556733",
   "metadata": {},
   "source": [
    "<h1 style=\"background-color:#FF00F7;font-family:newtimeroman;font-size:150%;text-align:left;color:#FFFFFF\"> Levene Testi:\n",
    "</h1>"
   ]
  },
  {
   "cell_type": "markdown",
   "id": "90ac5bbd",
   "metadata": {},
   "source": [
    "Levene testi, hata terimlerinin varyanslarının eşit olup olmadığını değerlendirir. İstatistiksel bir testtir ve hipotezleri kontrol eder.\n",
    "###### $H_0$: Hata terimlerinin varyansları eşittir (homoscedasticity sağlanmaktadır).\n",
    "###### $H_1$: Hata terimlerinin varyansları eşit değildir (homoscedasticity sağlanmamaktadır)."
   ]
  },
  {
   "cell_type": "markdown",
   "id": "d87a6522",
   "metadata": {},
   "source": [
    "<h1 style=\"background-color:#FF00F7;font-family:newtimeroman;font-size:150%;text-align:left;color:#FFFFFF\"> Bartlett Testi\n",
    "</h1>"
   ]
  },
  {
   "cell_type": "markdown",
   "id": "1ba0e6ed",
   "metadata": {},
   "source": [
    " Bartlett Testi, hata terimlerinin varyanslarının eşit olup olmadığını değerlendiren bir testtir. Bu test, özellikle normal dağılıma sahip veriler için uygundur. \n",
    "###### $H_0$: Hata terimlerinin varyansları eşittir (homoscedasticity sağlanmaktadır).\n",
    "###### $H_1$:Hata terimlerinin varyansları eşit değildir (homoscedasticity sağlanmamaktadır)."
   ]
  },
  {
   "cell_type": "markdown",
   "id": "4f791cda",
   "metadata": {},
   "source": [
    "<h1 style=\"background-color:#FFA500;font-family:newtimeroman;font-size:200%;text-align:left;color:#FFFFFF\">NASIL DÜZELTİLİR ?\n",
    "</h1>\n"
   ]
  },
  {
   "cell_type": "markdown",
   "id": "72c65041",
   "metadata": {},
   "source": [
    "<h1 style=\"background-color:#FF00F7;font-family:newtimeroman;font-size:150%;text-align:left;color:#FFFFFF\"> 1) DÖNÜŞÜMLER\n",
    "</h1>"
   ]
  },
  {
   "cell_type": "markdown",
   "id": "c073d186",
   "metadata": {},
   "source": [
    "\n",
    "##### Logaritmik Dönüşüm:\n",
    "###### Neden Kullanılır? \n",
    " Değişkenlerdeki yüzdesel değişimlerin etkilerini düzeltmek ve varyansı stabilize etmek için logaritmik dönüşüm yaygın olarak kullanılır.\n",
    "##### Karekök Dönüşüm:\n",
    "###### Neden Kullanılır? \n",
    " Değişkenlerdeki büyük değerlerin etkilerini azaltmak ve varyansı düzeltmek için karekök dönüşümü tercih edilebilir.\n",
    "##### Ters Dönüşüm:\n",
    "###### Neden Kullanılır? \n",
    " Değişkenlerdeki ters yönlü ilişkileri düzeltmek ve hata terimlerinin varyansını stabilize etmek için ters dönüşüm yapılabilir.\n",
    "##### Box-Cox Dönüşümü:\n",
    "###### Neden Kullanılır? \n",
    " Varyansın dengelenmesi için farklı dönüşümleri birleştiren bir parametrik bir yöntemdir. Veri setinizin özelliklerine bağlı olarak otomatik olarak en iyi dönüşümü seçer.\n",
    "##### Yeni Değişkenler Eklemek veya Mevcut Değişkenleri Dönüştürmek:\n",
    "###### Neden Kullanılır? \n",
    "Modelin homoscedasticity varsayımını sağlamak için, etkileşim terimleri eklemek veya mevcut değişkenleri farklı şekillerde dönüştürmek etkili olabilir."
   ]
  },
  {
   "cell_type": "markdown",
   "id": "fb07eb80",
   "metadata": {},
   "source": [
    "<h1 style=\"background-color:#FF00F7;font-family:newtimeroman;font-size:150%;text-align:left;color:#FFFFFF\"> 2)Ağırlıklı En Küçük Kareler (Weighted Least Squares - WLS):\n",
    "</h1>"
   ]
  },
  {
   "cell_type": "markdown",
   "id": "6c65687b",
   "metadata": {},
   "source": [
    " Ağırlıklı En Küçük Kareler (WLS) yöntemi, bu heteroscedasticity sorununu çözmek için kullanılır. Bu yöntemde, gözlemlere farklı ağırlıklar atanarak, modelin daha güvenilir ve doğru tahminler yapması hedeflenir.\n",
    "###### Neden Ağırlıklı En Küçük Kareler Kullanılır?\n",
    " Ağırlıklı En Küçük Kareler, gözlemlere daha fazla ağırlık vererek, büyük varyansa sahip olan gözlemlerin model tahminlerine daha fazla katkıda bulunmasını sağlar.\n",
    "##### Ağırlıklı En Küçük Kareler Uygulama Adımları:\n",
    "###### Ağırlıkların Belirlenmesi:\n",
    " Heteroscedasticity tespit edildikten sonra, her gözleme atanan ağırlıkları belirlemek gereklidir. Ağırlıklar, gözlemlerin varyanslarına ters orantılı olarak atanabilir.\n",
    "###### WLS Regresyon Modelinin Tahmin Edilmesi:\n",
    " Ağırlıklar belirlendikten sonra, Ağırlıklı En Küçük Kareler regresyon modeli tahmin edilir. Bu model, her gözlemin katkısını, belirlenen ağırlıklar göz önüne alınarak hesaplar.\n",
    "###### Modelin Değerlendirilmesi:\n",
    " Tahmin edilen modelin performansı değerlendirilir. Ağırlıklı En Küçük Kareler yöntemi kullanılarak elde edilen modelin, heteroscedasticity ile mücadelede daha etkili olup olmadığı değerlendirilir.\n"
   ]
  },
  {
   "cell_type": "markdown",
   "id": "4f042d46",
   "metadata": {},
   "source": [
    "<h1 style=\"background-color:#FF00F7;font-family:newtimeroman;font-size:150%;text-align:left;color:#FFFFFF\"> 3)Robust Standart Hata Estimasyonu:\n",
    "</h1>"
   ]
  },
  {
   "cell_type": "markdown",
   "id": "c1f0abe3",
   "metadata": {},
   "source": [
    " Robust standart hata tahminleri, bu heteroscedasticity sorununu çözmek ve modelin parametre tahminlerini daha dirençli hale getirmek için kullanılır.\n",
    "###### Neden Robust Standart Hata Estimasyonu Kullanılır?\n",
    " Heteroscedasticity durumunda, standart hata tahminleri güvenilir değildir ve regresyon katsayılarının yanlılıklarına neden olabilir.\n",
    "\n",
    "Robust standart hata tahminleri, modelin hata terimlerinin varyansındaki anormalliklere daha az duyarlıdır ve böylece regresyon katsayılarının doğru standart hatalarla tahmin edilmesini saRobust Standart Hata Estimasyonuğlar.\n",
    "###### Robust Standart Hata Estimasyonu Nasıl Uygulanır ?\n",
    " Regresyon modelinin parametre tahminleri robust standart hata tahminleri ile tekrar hesaplanır. Bu, modelin daha güvenilir ve heteroscedasticity durumuna daha dirençli hale gelmesini sağlar.\n",
    "###### Modelin Değerlendirilmesi:\n",
    " Yeniden tahmin edilen modelin performansı değerlendirilir. Robust standart hata tahminleri kullanılarak elde edilen modelin, heteroscedasticity ile mücadelede daha etkili olup olmadığı değerlendirilir.\n",
    "###### Avantajları:\n",
    "-  Heteroscedasticity durumunda daha güvenilir standart hata tahminleri sağlar.\n",
    "\n",
    "Modelin yanlılığını düzeltir ve güven aralıklarını doğru bir şekilde hesaplar.\n",
    "###### Dezavantajları:\n",
    "- Robust standart hata tahminleri, standart hata tahminlerine göre daha geniş olabilir."
   ]
  },
  {
   "cell_type": "markdown",
   "id": "c8348f74",
   "metadata": {},
   "source": [
    "<h1 style=\"background-color:#FF00F7;font-family:newtimeroman;font-size:150%;text-align:left;color:#FFFFFF\"> 4) Yeni Değişkenler Eklemek veya Mevcut Değişkenleri Dönüştürmek: \n",
    "</h1>"
   ]
  },
  {
   "cell_type": "markdown",
   "id": "6c2432d1",
   "metadata": {},
   "source": [
    " Yeni değişkenler eklemek veya mevcut değişkenleri dönüştürmek, bu heteroscedasticity sorununu çözmek için kullanılan bir yöntemdir.\n",
    "###### Neden Yeni Değişkenler Eklemek veya Dönüştürmek Kullanılır?\n",
    " Heteroscedasticity durumunda, değişen varyanslar regresyon modelini etkiler. Yeni değişkenler eklemek veya mevcut değişkenleri dönüştürmek, modelin bu değişen varyanslara daha iyi uyum sağlamasını sağlar.\n",
    "###### Yeni Değişkenler Eklemek veya Dönüştürmek Nasıl Uygulanır ?\n",
    " Heteroscedasticity tespit edildikten sonra, modelinize yeni etkileşim terimleri ekleyebilir veya mevcut değişkenleri farklı şekillerde dönüştürebilirsiniz. Örneğin, logaritmik, karekök veya ters dönüşümler uygulanabilir.\n",
    "\n",
    "Yeni değişkenler ekledikten veya mevcut değişkenleri dönüştürdükten sonra, regresyon modeli tekrar tahmin edilir. Bu, modelin değişen varyanslara daha iyi uyum sağlamasını sağlar.\n",
    "###### Modelin Değerlendirilmesi:\n",
    "Yeniden tahmin edilen modelin performansı değerlendirilir. Yeni eklenen değişkenler veya dönüşümler kullanılarak elde edilen modelin, heteroscedasticity ile mücadelede daha etkili olup olmadığı değerlendirilir.\n",
    "\n",
    "###### Avantajları:\n",
    "-  Modelin değişen varyanslara daha iyi uymasını sağlar.Heteroscedasticity'yi düzelten basit bir çözüm sunar.\n",
    "###### Dezavantajları:\n",
    "\n",
    "- Yeni değişkenler eklemek veya mevcut değişkenleri dönüştürmek, modelin karmaşıklığını artırabilir.Yeterli teorik temele dayanmayan dönüşümler, yanlılığa neden olabilir."
   ]
  },
  {
   "cell_type": "markdown",
   "id": "ab225641",
   "metadata": {},
   "source": [
    "<h1 style=\"background-color:#3b5998;font-family:newtimeroman;font-size:250%;text-align:center;color:#FFFFFF\"> 4) Lineer İlişki Varsayımı\n",
    "</h1>"
   ]
  },
  {
   "cell_type": "markdown",
   "id": "4ed79516",
   "metadata": {},
   "source": [
    " Lineer İlişki Varsayımı, regresyon analizindeki temel bir varsayımdır ve bu varsayım, bağımlı değişken ile bağımsız değişken arasındaki ilişkinin bir doğrusal modelle ifade edilebileceğini öne sürer. Yani, değişkenler arasındaki ilişkinin bir düz çizgiyle ifade edilebileceği kabul edilir."
   ]
  },
  {
   "cell_type": "markdown",
   "id": "14be27b9",
   "metadata": {},
   "source": [
    "<h1 style=\"background-color:#FFA500;font-family:newtimeroman;font-size:200%;text-align:left;color:#FFFFFF\">Neden Önemlidir?\n",
    "</h1>\n"
   ]
  },
  {
   "cell_type": "markdown",
   "id": "57361565",
   "metadata": {},
   "source": [
    "\n",
    " \n",
    "######  Basitlik ve Yorumlanabilirlik:\n",
    " Lineer modeller, değişkenler arasındaki ilişkiyi basit ve doğrudan bir şekilde ifade eder. Bu durum, modelin yorumlanabilirliğini arttırır ve elde edilen katsayılar doğrudan etkiyi temsil eder.\n",
    "######  Genel Geçerlilik:\n",
    "Lineer modeller, birçok durumda geçerli olan genel bir yapı sunar. Bu nedenle, ok istatistiksel analiz ve tahminleme metodolojisi, temelde lineer ilişki varsayımını içerir.\n",
    "######  Uygulanabilirlik:\n",
    "Lineer modeller, birçok durumda başarıyla uygulanabilir. Lineer ilişki varsayımı, modelin uygulanabilirliğini arttırır ve analizin pratikte kullanılabilir olmasını sağlar.\n",
    "######  Tahmin Gücü:\n",
    "Eğer değişkenler arasındaki ilişki doğrusal ise, lineer modeller genellikle iyi tahminler yapabilir. Doğrusal bir model, belirli bir değişkenin birim artışının diğer değişken üzerinde sabit bir etkiye sahip olduğunu öne sürer.\n"
   ]
  },
  {
   "cell_type": "markdown",
   "id": "76cee9a1",
   "metadata": {},
   "source": [
    "<h1 style=\"background-color:#FFA500;font-family:newtimeroman;font-size:200%;text-align:left;color:#FFFFFF\">Nasıl Tespit Edilir \n",
    "</h1>\n"
   ]
  },
  {
   "cell_type": "markdown",
   "id": "700eb09c",
   "metadata": {},
   "source": [
    "<h1 style=\"background-color:#FF00F7;font-family:newtimeroman;font-size:150%;text-align:left;color:#FFFFFF\"> Görsel İnceleme (Residual Plot):\n",
    "</h1>"
   ]
  },
  {
   "cell_type": "markdown",
   "id": "3dc9774c",
   "metadata": {},
   "source": [
    " Regresyon analizinde, hata terimleri (artıklar) ile bağımsız değişkenler arasındaki ilişkiyi gösteren bir artık grafiği çizilebilir. Eğer artıklar rastgele dağılmış ve bir desen göstermiyorsa, lineer ilişki varsayımının geçerli olduğu düşünülebilir."
   ]
  },
  {
   "cell_type": "markdown",
   "id": "6708ebbb",
   "metadata": {},
   "source": [
    "<h1 style=\"background-color:#FF00F7;font-family:newtimeroman;font-size:150%;text-align:left;color:#FFFFFF\">Q-Q Çizgisi (Quantile-Quantile Plot):\n",
    "</h1>"
   ]
  },
  {
   "cell_type": "markdown",
   "id": "82cb226c",
   "metadata": {},
   "source": [
    " Q-Q çizgisi, gözlemlenen artıkların teorik bir normal dağılıma ne kadar yakın olduğunu gösteren bir grafiktir. Eğer gözlemlenen değerler Q-Q çizgisine yakınsa, lineer ilişki varsayımı güçlüdür."
   ]
  },
  {
   "cell_type": "markdown",
   "id": "ffac7c3a",
   "metadata": {},
   "source": [
    "<h1 style=\"background-color:#FF00F7;font-family:newtimeroman;font-size:150%;text-align:left;color:#FFFFFF\">Kırmızı Denge Testi (Red Flags Test):\n",
    "</h1>"
   ]
  },
  {
   "cell_type": "markdown",
   "id": "6fb9d0fa",
   "metadata": {},
   "source": [
    "Eğer modeldeki bağımsız değişkenler ile hata terimleri arasında sistemli bir ilişki varsa (örneğin, bir bağımsız değişken diğerini tahmin ediyorsa), lineer ilişki varsayımı bozulmuş olabilir."
   ]
  },
  {
   "cell_type": "markdown",
   "id": "6cacb327",
   "metadata": {},
   "source": [
    "<h1 style=\"background-color:#FF00F7;font-family:newtimeroman;font-size:150%;text-align:left;color:#FFFFFF\">İstatistiksel Testler:\n",
    "</h1>"
   ]
  },
  {
   "cell_type": "markdown",
   "id": "eb4e3809",
   "metadata": {},
   "source": [
    "<h1 style=\"background-color:#FF00F7;font-family:newtimeroman;font-size:150%;text-align:left;color:#FFFFFF\">1)Breusch-Pagan LM Testi:\n",
    "</h1>"
   ]
  },
  {
   "cell_type": "markdown",
   "id": "e0fe4705",
   "metadata": {},
   "source": [
    "Temel hipotez, hata terimlerinin varyansının bağımsız değişkenlere bağlı olduğu yönündedir. Testin adıyla anılan LM (Lagrange Multiplier) istatistiği kullanılarak bu hipotez test edilir."
   ]
  },
  {
   "cell_type": "markdown",
   "id": "6482fb53",
   "metadata": {},
   "source": [
    "###### $H_0$: Hata terimlerinin varyansı bağımsız değişkenlere bağlı değildir.\n",
    "###### $H_1$: Hata terimlerinin varyansı bağımsız değişkenlere bağlıdır."
   ]
  },
  {
   "cell_type": "markdown",
   "id": "3a335572",
   "metadata": {},
   "source": [
    "<h1 style=\"background-color:#FF00F7;font-family:newtimeroman;font-size:150%;text-align:left;color:#FFFFFF\">2) White Testi:\n",
    "</h1>"
   ]
  },
  {
   "cell_type": "markdown",
   "id": "e90788bb",
   "metadata": {},
   "source": [
    "######  $H_0$: Hata terimlerinin varyansı sabittir (Heteroscedasticity yoktur).\n",
    "###### $H_1$: Hata terimlerinin varyansı sabit değildir (Heteroscedasticity vardır)."
   ]
  },
  {
   "cell_type": "markdown",
   "id": "4c203d66",
   "metadata": {},
   "source": [
    "<h1 style=\"background-color:#FF00F7;font-family:newtimeroman;font-size:150%;text-align:left;color:#FFFFFF\">VIF (Variance Inflation Factor) Değerleri:\n",
    "</h1>"
   ]
  },
  {
   "cell_type": "markdown",
   "id": "957b838c",
   "metadata": {},
   "source": [
    "Çoklu regresyon analizinde, bağımsız değişkenler arasındaki yüksek çoklu doğrusallık, lineer ilişki varsayımını bozabilir. VIF değerleri incelenerek bu durumu değerlendirebilirsiniz."
   ]
  },
  {
   "cell_type": "markdown",
   "id": "e06519f7",
   "metadata": {},
   "source": [
    "<h1 style=\"background-color:#FFA500;font-family:newtimeroman;font-size:200%;text-align:left;color:#FFFFFF\">Lineer İlişki Varsayımının Bozulduğunda Düzeltilmesi \n",
    "</h1>\n"
   ]
  },
  {
   "cell_type": "markdown",
   "id": "dc4c747d",
   "metadata": {},
   "source": [
    "<h1 style=\"background-color:#FF00F7;font-family:newtimeroman;font-size:150%;text-align:left;color:#FFFFFF\">1)Dönüşümler :\n",
    "</h1>"
   ]
  },
  {
   "cell_type": "markdown",
   "id": "bc481500",
   "metadata": {},
   "source": [
    "Değişken dönüşümleri, regresyon analizi sırasında değişkenler arasındaki doğrusal olmayan ilişkileri ele almanın yaygın bir yoludur. Doğrusal bir modelin varsayımı olan lineer ilişki varsayımını iyileştirmek veya düzeltmek amacıyla kullanılır. \n",
    "###### a. Logaritmik Dönüşüm:\n",
    " Logaritmik dönüşüm, bir değişkenin logaritması alınarak yapılır (genellikle doğal logaritma). Bu, değişkenin büyüklüğü arttıkça artan oranda azalmasını sağlar. Özellikle değişkenin yüzdesel değişimlerini düzeltmek için kullanılır.\n",
    "\n",
    "######  b.Karekök Dönüşüm:\n",
    "Karekök dönüşümü, bir değişkenin karekökünün alınarak yapılır. Bu dönüşüm, değişkenin büyüdükçe artan oranda azalmasını sağlar.\n",
    "###### c.Karesel Dönüşüm:\n",
    "\n",
    "Karesel dönüşüm, bir değişkenin karesinin alınarak yapılır. Bu dönüşüm, değişkenin büyüklüğü arttıkça artan oranda büyümesini sağlar."
   ]
  },
  {
   "cell_type": "markdown",
   "id": "9bbfd11b",
   "metadata": {},
   "source": [
    "<h1 style=\"background-color:#FF00F7;font-family:newtimeroman;font-size:150%;text-align:left;color:#FFFFFF\">2. Polinom Regresyon:\n",
    "</h1>"
   ]
  },
  {
   "cell_type": "markdown",
   "id": "4e194d04",
   "metadata": {},
   "source": [
    "Polinom regresyonu, doğrusal olmayan ilişkileri ele almak için kullanılan bir regresyon analizi yöntemidir. Bu yöntem, bağımlı değişkenin daha yüksek dereceli terimlerini içeren bir regresyon modeli kullanmayı içerir. Polinom regresyonu, doğrusal regresyonun genişletilmiş bir formudur ve eğrisel ilişkileri modellemek için uygundur.\n",
    "\n",
    "###### Model : $y = \\beta_0 + \\beta_1 x + \\beta_2 x^2 + \\beta_3 x^3 + \\ldots + \\beta_n x^n + \\varepsilon$\n",
    "###### $\\beta_0 + \\beta_1 x + \\beta_2$ : Regresyon katsayıları\n",
    "###### $\\varepsilon$ : Hata\n",
    "###### $y$ : Bağımlı değişken\n",
    "\n",
    "###### Polinom Regresyonu Kullanımı:\n",
    "\n",
    "###### Modelin Esnekliği:\n",
    " Derece arttıkça, polinom regresyon modeli daha karmaşık hale gelir ve veri setindeki dalgalanmalara daha iyi uyar. Bu durum modelin esnekliğini artırır. Ancak, aşırı yüksek dereceli polinomlar, öğrenme verilerine çok spesifik hale gelebilir ve yeni verilere kötü uyarlar. Esnekliği dikkatlice dengelemek, modelin performansını iyileştirebilir.\n",
    "\n",
    "###### Veri Setinin Karmaşıklığı:\n",
    " Veri setinin doğası, hangi dereceden polinomun kullanılacağını belirler. Eğer veri seti düzenli ve basit bir yapıya sahipse, düşük dereceli polinomlar daha uygun olabilir. Ancak, veri seti karmaşık ve non-lineer bir ilişki içeriyorsa, daha yüksek dereceli polinomlar kullanmak gerekebilir.\n",
    "\n",
    "###### Modelin Genelleme Yeteneği:\n",
    " Modelin genelleme yeteneği, öğrendiklerini yeni ve görünmeyen verilere uygulama yeteneğini ifade eder. Uygun derece seçimi, modelin öğrendiklerini sadece öğrenme verilerine değil, aynı zamanda yeni verilere de genelleme yapabilmesini sağlar. Aşırı uyuma karşı dirençli bir model, genelleme yeteneğini artırır.\n",
    "\n",
    "\n",
    "\n",
    "###### Modelin Tahmin Edilmesi:\n",
    "\n",
    " Belirlenen derecedeki polinom regresyon modeli, veri setindeki bağımlı değişkenin tahmin edilmesi için kullanılır. Modelin tahmini yapılırken, kullanılan matematiksel formülde yer alan katsayılar ve terimler kullanılarak gelecekteki değerler öngörülür. Matematiksel olarak ifade edilen polinom, bağımsız değişkenlerin belirli değerleri için bağımlı değişkenin tahmini değerini verir.\n",
    "\n",
    "###### Modelin Değerlendirilmesi:\n",
    "\n",
    " Modelin performansının değerlendirilmesi, gerçek değerlerle modelin tahmin ettiği değerlerin karşılaştırılmasıyla gerçekleşir. Bu değerlendirme süreci, belirlenen derecedeki polinomun veri setine ne kadar iyi uyduğunu gösterir. İyi bir model, gerçek değerlere yakın tahminler yapabilir. Değerlendirme aşamaları şunları içerebilir:\n",
    "\n",
    "###### Tahmin Hataları Analizi: \n",
    "Modelin tahmin ettiği değerlerle gerçek değerler arasındaki farkların analizi. Bu, modelin hangi durumlarda ne kadar hata yaptığını anlamak için önemlidir.\n",
    "\n",
    "#### Performans Metrikleri: \n",
    "Özellikle regresyon modelleri için kullanılan metrikler, tahminlerin ne kadar doğru olduğunu ölçer. Örnek olarak, Ortalama Mutlak Hata (MAE), Ortalama Kare Hata (MSE), veya Kök Ortalama Kare Hata (RMSE) gibi metrikler kullanılabilir.\n",
    "\n",
    "###### Grafik Değerlendirme: \n",
    "Gerçek ve tahmin edilen değerleri karşılaştırmak için grafikler kullanılabilir. Scatter plotlar, tahminlerin ne kadar düzgün dağıldığını görselleştirmek için etkili bir araçtır."
   ]
  },
  {
   "cell_type": "markdown",
   "id": "6bf518c6",
   "metadata": {},
   "source": [
    "<h1 style=\"background-color:#FF00F7;font-family:newtimeroman;font-size:150%;text-align:left;color:#FFFFFF\">3) Etkileşim Terimleri Eklemek\n",
    "</h1>"
   ]
  },
  {
   "cell_type": "markdown",
   "id": "50240dfe",
   "metadata": {},
   "source": [
    "Değişkenler arasındaki etkileşimleri göz ardı etmek, modelin doğrusallığını bozabilir. İlgili değişkenler arasında etkileşim terimleri eklemek, ilişkiyi daha iyi yakalamanıza yardımcı olabilir. Örneğin, iki bağımsız değişken arasındaki etkileşimi temsil eden bir terim ekleyerek, bu değişkenlerin birlikte nasıl etkilendiğini modele dahil edebilirsiniz."
   ]
  },
  {
   "cell_type": "markdown",
   "id": "6830b5b9",
   "metadata": {},
   "source": [
    "<h1 style=\"background-color:#FF00F7;font-family:newtimeroman;font-size:150%;text-align:left;color:#FFFFFF\">4)Lojistik Regresyon veya Diğer Modelleri Düşünmek:\n",
    "</h1>"
   ]
  },
  {
   "cell_type": "markdown",
   "id": "ee922be0",
   "metadata": {},
   "source": [
    "Bağımlı değişkenin doğası doğrusal bir ilişkiyi desteklemiyorsa, lojistik regresyon gibi non-lineer modelleri düşünebilirsiniz. Bu modeller, kategorik bağımlı değişkenlerle çalışmak veya doğrusal olmayan ilişkileri modellemek için kullanılır."
   ]
  },
  {
   "cell_type": "markdown",
   "id": "75884e13",
   "metadata": {},
   "source": [
    "<h1 style=\"background-color:#FF00F7;font-family:newtimeroman;font-size:150%;text-align:left;color:#FFFFFF\">5) Gözlemlerin İncelenmesi:\n",
    "</h1>"
   ]
  },
  {
   "cell_type": "markdown",
   "id": "059517cb",
   "metadata": {},
   "source": [
    "Aykırı gözlemler veya belirli gözlemlere odaklanan yoğunluk, modelin doğrusallığını etkileyebilir. Bu gözlemleri dikkatlice inceleyin ve gerektiğinde ele alın. Aykırı gözlemleri çıkarmak veya düzeltmek, modelin doğruluğunu artırabilir."
   ]
  },
  {
   "cell_type": "markdown",
   "id": "b26333c0",
   "metadata": {},
   "source": [
    "<h1 style=\"background-color:#FF00F7;font-family:newtimeroman;font-size:150%;text-align:left;color:#FFFFFF\">6) Modelin Gözden Geçirilmesi:\n",
    "</h1>"
   ]
  },
  {
   "cell_type": "markdown",
   "id": "4aa223f3",
   "metadata": {},
   "source": [
    "Modelinizi değerlendirmek için görsel araçlar kullanın. Residual plotlar, doğrusallık sorunlarını belirlemenize yardımcı olabilir. Modelin tahminlerinin gerçek değerlere göre nasıl dağıldığını kontrol ederek doğrusallığı değerlendirebilirsiniz."
   ]
  },
  {
   "cell_type": "markdown",
   "id": "dbbcf1c4",
   "metadata": {},
   "source": [
    "<h1 style=\"background-color:#FF00F7;font-family:newtimeroman;font-size:150%;text-align:left;color:#FFFFFF\">7)Yapısal Kırılma Analizi:\n",
    "</h1>"
   ]
  },
  {
   "cell_type": "markdown",
   "id": "78f3fb04",
   "metadata": {},
   "source": [
    "Veri setinizde belirli bir noktada yapısal bir değişiklik varsa, bu yapısal kırılmayı ele alacak bir analiz yapabilirsiniz. Yapısal kırılma noktalarını tanımlayarak, bu noktalarda modelinizin nasıl değiştiğini anlayabilir ve modelinizi buna göre ayarlayabilirsiniz."
   ]
  },
  {
   "cell_type": "markdown",
   "id": "a68255fb",
   "metadata": {},
   "source": [
    "<h1 style=\"background-color:#FF00F7;font-family:newtimeroman;font-size:150%;text-align:left;color:#FFFFFF\">8)Cross-Validation Kullanımı:\n",
    "</h1>"
   ]
  },
  {
   "cell_type": "markdown",
   "id": "ca27884c",
   "metadata": {},
   "source": [
    "Cross-validation, modelinizi doğrularken aynı zamanda doğrusallık konusunda da bilgi sağlayabilir. Farklı veri alt kümeleri üzerinde modelin performansını değerlendirerek, genelleme yeteneğini kontrol edebilirsiniz."
   ]
  },
  {
   "cell_type": "markdown",
   "id": "cb071cd9",
   "metadata": {},
   "source": [
    "<h1 style=\"background-color:#FF00F7;font-family:newtimeroman;font-size:150%;text-align:left;color:#FFFFFF\">9)Değişken Seçimi ve Eleme:\n",
    "</h1>"
   ]
  },
  {
   "cell_type": "markdown",
   "id": "0ea2eac7",
   "metadata": {},
   "source": [
    "Modeldeki gereksiz veya doğrusallığı bozan değişkenleri tanımlamak ve eleme işlemleri uygulamak, modelin doğrusallığını artırabilir. İdeal değişken setini bulmak için değişken seçimi yöntemlerini kullanabilirsiniz."
   ]
  },
  {
   "cell_type": "markdown",
   "id": "a63599a5",
   "metadata": {},
   "source": [
    "<h1 style=\"background-color:#3b5998;font-family:newtimeroman;font-size:250%;text-align:center;color:#FFFFFF\">5)Çoklu Doğrusallık Varsayımı:\n",
    "</h1>"
   ]
  },
  {
   "cell_type": "markdown",
   "id": "c684f894",
   "metadata": {},
   "source": [
    " Çoklu doğrusallık, regresyon analizlerindeki önemli bir varsayımdır ve bu durum, bağımsız değişkenler arasındaki tam doğrusal bir ilişkiyi ifade eder. Bu durum, regresyon modelinin katsayı tahminlerini ve güvenilirliğini olumsuz etkileyebilir. "
   ]
  },
  {
   "cell_type": "markdown",
   "id": "7b260930",
   "metadata": {},
   "source": [
    " Çoklu doğrusallık durumu genellikle bağımsız değişkenler arasındaki yüksek korelasyon nedeniyle ortaya çıkar. Yüksek korelasyon, bir bağımsız değişkenin diğerleriyle tam doğrusal bir ilişkisi olduğunu gösterir."
   ]
  },
  {
   "cell_type": "markdown",
   "id": "32092d8d",
   "metadata": {},
   "source": [
    "<h1 style=\"background-color:#FFA500;font-family:newtimeroman;font-size:200%;text-align:left;color:#FFFFFF\">Neden Kullanılır?\n",
    "</h1>\n"
   ]
  },
  {
   "cell_type": "markdown",
   "id": "03457100",
   "metadata": {},
   "source": [
    "\n",
    "Çoklu doğrusallık varsayımı, regresyon analizinde kullanılır çünkü bu varsayım, bağımsız değişkenler arasındaki ilişkilerin modelde doğrusal olduğunu ifade eder. Bu varsayımın temel amacı, regresyon modelinin güvenilirliğini ve doğruluğunu artırmaktır.\n",
    "\n",
    "Bağımsız değişkenler arasındaki doğrusal ilişkinin sağlanması, modelin daha etkili tahminler yapmasına ve analitik sonuçların güvenilir olmasına yardımcı olur."
   ]
  },
  {
   "cell_type": "markdown",
   "id": "1ba9b0c8",
   "metadata": {},
   "source": [
    "<h1 style=\"background-color:#FFA500;font-family:newtimeroman;font-size:200%;text-align:left;color:#FFFFFF\">Önemi Nedir ?\n",
    "</h1>\n"
   ]
  },
  {
   "cell_type": "markdown",
   "id": "08b400a0",
   "metadata": {},
   "source": [
    "###### Güvenilir Tahminler: \n",
    "Doğrusal ilişkinin sağlanması, regresyon modelinin bağımlı değişkeni daha doğru bir şekilde tahmin etmesine olanak tanır. Bu, modelin genel güvenilirliğini artırır.\n",
    "\n",
    "###### Parametre Tahminlerinin Güvenilirliği:\n",
    "Doğrusallık varsayımı, regresyon katsayılarının tahminlerinin daha güvenilir ve istatistiksel olarak anlamlı olmasını sağlar. Bu, parametrelerin gerçek dünya bağlamında yorumlanabilirliğini artırır.\n",
    "\n",
    "###### İstatistiksel Testlerin Geçerliliği: \n",
    "Çoklu doğrusallık varsayımının sağlanması, regresyon modelinin istatistiksel testlerle değerlendirilmesinde daha güvenilir sonuçlar elde edilmesine yardımcı olur. Modelin anlamlılığı daha doğru bir şekilde belirlenebilir.\n",
    "\n",
    "###### Modelin Aykırı Değerlere Duyarlılığı: \n",
    "\n",
    "Çoklu doğrusallık varsayımının sağlanması, regresyon modelinin aykırı değerlere karşı daha dirençli olmasını sağlar. Bu, modelin genel performansını artırır."
   ]
  },
  {
   "cell_type": "markdown",
   "id": "f01d4ceb",
   "metadata": {},
   "source": [
    "<h1 style=\"background-color:#FFA500;font-family:newtimeroman;font-size:200%;text-align:left;color:#FFFFFF\">Nasıl Tespit Edilir ?\n",
    "</h1>\n"
   ]
  },
  {
   "cell_type": "markdown",
   "id": "9504ec19",
   "metadata": {},
   "source": [
    "###### 1)VIF (Variance Inflation Factor)\n",
    "###### 2)Tolerans\n",
    "###### 3) Korelasyon Matrisi İncelemesi\n"
   ]
  },
  {
   "cell_type": "markdown",
   "id": "86a6a05a",
   "metadata": {},
   "source": [
    "<h1 style=\"background-color:#FF00F7;font-family:newtimeroman;font-size:150%;text-align:left;color:#FFFFFF\">1)VIF (Variance Inflation Factor):\n",
    "</h1>"
   ]
  },
  {
   "cell_type": "markdown",
   "id": "eb6f0106",
   "metadata": {},
   "source": [
    "###### Variance Inflation Factor (VIF) Nedir?\n",
    "\n",
    "VIF, çoklu doğrusallık analizinde kullanılan bir istatistiksel ölçüdür. Çoklu doğrusallık, regresyon modelinde bağımsız değişkenler arasında yüksek korelasyon olduğu durumları ifade eder. Bu durum, regresyon katsayılarının tahmininde belirsizliklere ve modelin güvenilirliğinde azalmalara neden olabilir.\n",
    "\n",
    "VIF, bir bağımsız değişkenin diğer bağımsız değişkenlerle olan korelasyonu nedeniyle varyansının ne kadar şiştiğini ölçer. Yani, bir bağımsız değişken diğerleri tarafından nasıl açıklandığını ölçerek çoklu doğrusallık sorununu değerlendirir."
   ]
  },
  {
   "cell_type": "markdown",
   "id": "5cb54f8c",
   "metadata": {},
   "source": [
    "###### VIF Nasıl Hesaplanır?\n",
    "\n",
    "VIF, her bağımsız değişken için ayrı ayrı hesaplanır.\n",
    "\n",
    "$\\text{VIF}_i = \\frac{1}{1 - R_i^2}$\n",
    "\n",
    "$\\text{VIF}_i$ = İncelenen bağımsız değişkenin VIF değeri\n",
    "\n",
    "$ R_i^2 $  = İncelenen bağımsız değişkenin diğer bağımsız değişkenlerle olan determinasyon katsayısıdır."
   ]
  },
  {
   "cell_type": "markdown",
   "id": "c5ddff13",
   "metadata": {},
   "source": [
    "###### VIF Değerinin Anlamı:\n",
    "\n",
    "Eğer bir bağımsız değişkenin VIF değeri 1'e çok yakınsa, bu durumda bu değişkenin diğer bağımsız değişkenlerle düşük korelasyona sahip olduğunu söyleyebiliriz.\n",
    "\n",
    "Eğer bir bağımsız değişkenin VIF değeri 1'den büyükse, bu durumda diğer bağımsız değişkenlerle yüksek korelasyona sahip olduğunu ve bu durumun çoklu doğrusallık problemlerine yol açabileceğini söyleyebiliriz.\n",
    "\n",
    "Genellikle, VIF değeri 10'dan büyükse, bu durum çoklu doğrusallık sorunlarının ortaya çıkabileceği bir işarettir."
   ]
  },
  {
   "cell_type": "markdown",
   "id": "c3087a9c",
   "metadata": {},
   "source": [
    "###### Pratik Kullanım:\n",
    "Regresyon analizi yapılırken, her bağımsız değişkenin VIF değeri incelenir. Eğer bir veya birkaç değişkenin VIF değeri yüksekse (genellikle 10'dan büyük), bu durumda bu değişkenler arasında çoklu doğrusallık olabileceği düşünülür. Bu durumu çözmek için gereksiz değişkenler çıkarılabilir veya değişken dönüşümleri uygulanabilir. Bu sayede regresyon modeli daha güvenilir hale getirilebilir."
   ]
  },
  {
   "cell_type": "markdown",
   "id": "c0ec6e7a",
   "metadata": {},
   "source": [
    "<h1 style=\"background-color:#FF00F7;font-family:newtimeroman;font-size:150%;text-align:left;color:#FFFFFF\">2)Tolerans:\n",
    "</h1>"
   ]
  },
  {
   "cell_type": "markdown",
   "id": "e0b38468",
   "metadata": {},
   "source": [
    "###### Tolerans Nedir?\n",
    "\n",
    "Tolerans, bir bağımsız değişkenin diğer bağımsız değişkenlerle olan korelasyon nedeniyle varyansının ne kadar düşük olduğunu gösterir. Tolerans değeri genellikle 0 ile 1 arasında bir sayıdır ve bir bağımsız değişkenin diğer bağımsız değişkenlerle düşük korelasyona sahip olup olmadığını belirlemede kullanılır."
   ]
  },
  {
   "cell_type": "markdown",
   "id": "af131ff5",
   "metadata": {},
   "source": [
    "###### Tolerans Nasıl Hesaplanır ?\n",
    "$\\text{Tolerans} = {1 - R_i^2}$\n",
    "${R_i^2}$ = İncelenen bağımsız değişkenin diğer bağımsız değişkenlerle olan determinasyon katsayısıdır."
   ]
  },
  {
   "cell_type": "markdown",
   "id": "d69d0eb1",
   "metadata": {},
   "source": [
    "###### VIF ve Tolerans Arasındaki İlişki:"
   ]
  },
  {
   "cell_type": "markdown",
   "id": "ebb4af58",
   "metadata": {},
   "source": [
    " ${1 / VIF_i}$"
   ]
  },
  {
   "cell_type": "markdown",
   "id": "4d5cfba6",
   "metadata": {},
   "source": [
    "Bu ilişki, bir bağımsız değişkenin Tolerans değerinin, o değişkenin VIF değerinin tersi olduğunu gösterir. Yani, eğer bir bağımsız değişkenin VIF değeri yüksekse, Tolerans değeri düşük olacaktır ve bu durumda çoklu doğrusallık sorunları olabilir.\n",
    "\n",
    "Tam tersi durumda, düşük bir VIF değeri yüksek bir Tolerans değeriyle ilişkilidir, bu da bağımsız değişkenin diğerleriyle düşük korelasyona sahip olduğu anlamına gelir."
   ]
  },
  {
   "cell_type": "markdown",
   "id": "ec5ee098",
   "metadata": {},
   "source": [
    "###### Pratik Kullanım:\n",
    "\n",
    "Regresyon analizi yapılırken, Tolerans değerleri de VIF gibi incelenir. \n",
    "\n",
    "Eğer bir bağımsız değişkenin Tolerans değeri düşükse, bu durumda bu değişkenin diğerleriyle yüksek korelasyona sahip olduğu ve modelde çoklu doğrusallık sorunlarının olabileceği düşünülür.\n",
    "\n",
    "Tolerans değerleri genellikle VIF değerlerinin tersi olduğu için, VIF ile birlikte kullanılarak çoklu doğrusallık sorunlarının belirlenmesinde yardımcı olurlar."
   ]
  },
  {
   "cell_type": "markdown",
   "id": "da6dd380",
   "metadata": {},
   "source": [
    "<h1 style=\"background-color:#FF00F7;font-family:newtimeroman;font-size:150%;text-align:left;color:#FFFFFF\">3)Korelasyon Matrisi İncelemesi:\n",
    "</h1>"
   ]
  },
  {
   "cell_type": "markdown",
   "id": "badcf88c",
   "metadata": {},
   "source": [
    "###### Korelasyon Matrisi Nedir?\n",
    "\n",
    "Korelasyon matrisi, bir veri kümesindeki değişkenler arasındaki ilişkiyi ölçen ve bu ilişkiyi görselleştiren bir matristir.\n",
    "\n",
    "İki değişken arasındaki korelasyon genellikle Pearson Korelasyon Katsayısı ile ölçülür, ancak diğer korelasyon ölçüleri de kullanılabilir. Korelasyon matrisi, genellikle n×n boyutlarında bir kare matristir, buradan değişken sayısını temsil eder. Matrisin köşegeni (diagonal elemanlar) genellikle 1'dir, çünkü bir değişken kendisiyle mükemmel bir korelasyona sahiptir."
   ]
  },
  {
   "cell_type": "markdown",
   "id": "a6d2d62d",
   "metadata": {},
   "source": [
    "###### Nasıl Hesaplanır ?\n",
    "$\\text{Korelasyon}(X_i, X_j) = \\frac{\\text{Kovaryans}(X_i, X_j)}{\\sqrt{\\text{Varyans}(X_i) \\cdot \\text{Varyans}(X_j)}}$\n",
    "\n",
    "${Kovaryans}(X_i, X_j)$ : $X_i$ ve $X_j$ değişkenleri arasındaki kovaryansı temsil eder.\n",
    "\n",
    "$\\text{Varyans}(X_i)$ : $X_i$ değişkeninin varyansını ifade eder."
   ]
  },
  {
   "cell_type": "markdown",
   "id": "7e748fc6",
   "metadata": {},
   "source": [
    "###### Korelasyon Matrisi Nasıl Yorumlanır?\n",
    "###### Korelasyon Katsayıları Aralığı:\n",
    "\n",
    "Korelasyon katsayıları genellikle -1 ile 1 arasında değer alır.\n",
    "1'e yaklaşan değerler, pozitif bir korelasyonu; -1'e yaklaşan değerler, negatif bir korelasyonu ifade eder.\n",
    "0'a yaklaşan değerler, değişkenler arasında zayıf bir ilişki olduğunu gösterir.\n",
    "\n",
    "###### Güçlü Korelasyonlar:\n",
    "\n",
    "0.7 veya daha büyük korelasyon katsayıları genellikle güçlü bir ilişkiyi gösterir.\n",
    "Güçlü korelasyonlar, değişkenler arasında birbirini açıklayan bilgi olduğunu ve regresyon modellerinde dikkate alınması gerektiğini gösterir.\n",
    "###### _ _ _ _ _ _ _ _ _ _ _ _ _ _ _ _ _ _ _ _ __ _ _ _ _ _ _ _ _ _ _ _ _ _ _ _ _ _ _ _ _ _ _ _ _ _ _ _ _ _ _ _ _ _ _ _ _ _ _ _ _ _ _ _ _ _ _ _ _ _ _ _ _ _ _ _ _ _ _ \n",
    "\n",
    "###### Korelasyon ve Nedensellik:\n",
    "\n",
    "Korelasyon, nedensellikle eşanlamlı değildir. İki değişken arasındaki korelasyon, birinin diğerini nedensel olarak etkilediği anlamına gelmez.\n",
    "###### _ _ _ _ _ _ _ _ _ _ _ _ _ _ _ _ _ _ _ _ __ _ _ _ _ _ _ _ _ _ _ _ _ _ _ _ _ _ _ _ _ _ _ _ _ _ _ _ _ _ _ _ _ _ _ _ _ _ _ _ _ _ _ _ _ _ _ _ _ _ _ _ _ _ _ _ _ _ _ \n",
    "\n",
    "###### Multikolinerite Uyarısı:\n",
    "\n",
    "Yüksek korelasyon katsayıları, çoklu doğrusallık problemlerine (multikolinerite) neden olabilir. Bu durum, regresyon modellerinde sorunlara yol açabilir.\n",
    "Eğer değişkenler arasında yüksek korelasyonlar varsa, bu durumu değerlendirmek ve gerektiğinde çözmek için modeldeki değişken seçimi veya dönüşümleri düşünülmelidir."
   ]
  },
  {
   "cell_type": "markdown",
   "id": "37956ff6",
   "metadata": {},
   "source": [
    "<h1 style=\"background-color:#FFA500;font-family:newtimeroman;font-size:200%;text-align:left;color:#FFFFFF\">Çözüm Yöntemleri:\n",
    "</h1>\n"
   ]
  },
  {
   "cell_type": "markdown",
   "id": "034f1513",
   "metadata": {},
   "source": [
    "<h1 style=\"background-color:#FF00F7;font-family:newtimeroman;font-size:150%;text-align:left;color:#FFFFFF\">Değişken Seçimi:\n",
    "</h1>"
   ]
  },
  {
   "cell_type": "markdown",
   "id": "cbfcaceb",
   "metadata": {},
   "source": [
    " Korelasyonlu değişkenler arasından en anlamlı olanları seçmek veya birleştirmek, modeli basitleştirebilir.\n"
   ]
  },
  {
   "cell_type": "markdown",
   "id": "b180761b",
   "metadata": {},
   "source": [
    "<h1 style=\"background-color:#FF00F7;font-family:newtimeroman;font-size:150%;text-align:left;color:#FFFFFF\">Değişken Dönüşümleri:\n",
    "</h1>"
   ]
  },
  {
   "cell_type": "markdown",
   "id": "527c1b45",
   "metadata": {},
   "source": [
    " Değişkenleri dönüştürerek (logaritmik, karekök vb.), doğrusallığı düzeltmeye çalışabilirsiniz.\n"
   ]
  },
  {
   "cell_type": "markdown",
   "id": "2a59a635",
   "metadata": {},
   "source": [
    "<h1 style=\"background-color:#FF00F7;font-family:newtimeroman;font-size:150%;text-align:left;color:#FFFFFF\">Ridge Regresyon veya LASSO:</h1>"
   ]
  },
  {
   "cell_type": "markdown",
   "id": "dd97e461",
   "metadata": {},
   "source": [
    " Bu regresyon teknikleri, çoklu doğrusallığı azaltabilir.\n"
   ]
  },
  {
   "cell_type": "markdown",
   "id": "8293c37b",
   "metadata": {},
   "source": [
    "<h1 style=\"background-color:#FF00F7;font-family:newtimeroman;font-size:150%;text-align:left;color:#FFFFFF\">Principal Component Regression (PCR):</h1>"
   ]
  },
  {
   "cell_type": "markdown",
   "id": "8894a1ac",
   "metadata": {},
   "source": [
    " PCR, temel bileşen analizi kullanarak çoklu doğrusallığı azaltmaya çalışan bir yöntemdir.\n"
   ]
  },
  {
   "cell_type": "markdown",
   "id": "414d52f7",
   "metadata": {},
   "source": [
    "<h1 style=\"background-color:#FF00F7;font-family:newtimeroman;font-size:150%;text-align:left;color:#FFFFFF\">Cross-Validation Kullanımı:</h1>"
   ]
  },
  {
   "cell_type": "markdown",
   "id": "7475e402",
   "metadata": {},
   "source": [
    " Modelinizi doğrularken cross-validation kullanmak, çoklu doğrusallık etkisini değerlendirebilir."
   ]
  },
  {
   "cell_type": "markdown",
   "id": "b788e234",
   "metadata": {},
   "source": [
    "###### Unutulmaması Gerekenler:\n",
    " Çoklu doğrusallık sorunu, modelin güvenilirliğini düşürebilir, bu nedenle bu varsayımın değerlendirilmesi ve çözümü önemlidir.\n",
    "\n",
    "Her durum benzersizdir, bu nedenle en uygun çözümü belirlemek için veri setinizi dikkatlice incelemelisiniz.\n",
    "\n",
    "Çözüm yöntemleri seçilirken, modelin genel performansı ve yorumlanabilirliği de göz önünde bulundurulmalıdır."
   ]
  },
  {
   "cell_type": "code",
   "execution_count": null,
   "id": "976432e0",
   "metadata": {},
   "outputs": [],
   "source": []
  }
 ],
 "metadata": {
  "kernelspec": {
   "display_name": "Python 3 (ipykernel)",
   "language": "python",
   "name": "python3"
  },
  "language_info": {
   "codemirror_mode": {
    "name": "ipython",
    "version": 3
   },
   "file_extension": ".py",
   "mimetype": "text/x-python",
   "name": "python",
   "nbconvert_exporter": "python",
   "pygments_lexer": "ipython3",
   "version": "3.11.5"
  }
 },
 "nbformat": 4,
 "nbformat_minor": 5
}
