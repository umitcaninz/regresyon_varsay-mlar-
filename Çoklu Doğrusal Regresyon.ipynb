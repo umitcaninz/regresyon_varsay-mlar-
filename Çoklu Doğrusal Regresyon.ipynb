{
 "cells": [
  {
   "cell_type": "markdown",
   "id": "bffdaac1",
   "metadata": {},
   "source": [
    "<h1 style=\"background-color:#3b5998;font-family:newtimeroman;font-size:300%;text-align:center;color:#FFFFFF\">REGRESYON</h1>\n"
   ]
  },
  {
   "cell_type": "markdown",
   "id": "739350d5",
   "metadata": {},
   "source": [
    "<h1 style=\"background-color:#3b5998;font-family:newtimeroman;font-size:300%;text-align:left;color:#FFFFFF\">REGRESYON NEDİR ? </h1>"
   ]
  },
  {
   "cell_type": "markdown",
   "id": "d2fee8be",
   "metadata": {},
   "source": [
    "Regresyon, istatistiksel bir analiz yöntemidir ve bir değişkenin diğer değişkenlerle olan ilişkisini anlamak, bu ilişkiyi modellemek ve gelecekteki değerleri tahmin etmek için kullanılır. Temel olarak, regresyon, bağımlı bir değişkenin bağımsız değişkenlerle nasıl ilişkilendiğini belirlemek için kullanılır. Bu bağlamda, bağımlı değişken genellikle tahmin yapmak istediğiniz şeyi temsil eder, bağımsız değişkenler ise bu tahmin üzerinde etkisi olduğunu düşündüğünüz faktörleri temsil eder.\n",
    "\n",
    "Regresyon analizi, birçok farklı disiplinde kullanılır, örneğin:\n",
    "\n",
    "Ekonomi ve Finans: Ekonomik değişkenler arasındaki ilişkileri anlamak ve gelecekteki ekonomik olayları tahmin etmek için kullanılır.\n",
    "\n",
    "Pazarlama: Reklam harcamaları, fiyatlandırma ve diğer pazarlama stratejileri ile satışlar arasındaki ilişkileri anlamak ve optimize etmek için kullanılır.\n",
    "\n",
    "Tıp: Hastalıkların risk faktörlerini belirlemek, bir tedavi yönteminin etkisini değerlendirmek veya hastalık prognozları yapmak için kullanılır.\n",
    "\n",
    "Mühendislik: Bir değişkenin diğer değişkenlere olan etkisini anlamak ve bir sistemin performansını tahmin etmek için kullanılır.\n",
    "\n",
    "Sosyal Bilimler: Toplumsal faktörlerin bireylerin davranışları üzerindeki etkilerini incelemek için kullanılır.\n",
    "\n",
    "\n"
   ]
  },
  {
   "cell_type": "markdown",
   "id": "1eb6ca6c",
   "metadata": {},
   "source": [
    "##### Örneğin;\n",
    "\n",
    "Oda sayısı ve metrekare değişkenleri olan bir veri setini regresyon kullanarak modellenmesi.\n",
    "\n",
    "\n",
    "y = $\\beta_0 + \\beta_1X + \\beta_2X  + \\varepsilon$\n",
    "\n",
    "y = Ev Fiyatı\n",
    "\n",
    "$\\beta_0$ = Bağımsız değişkenlerimiz 0 olduğu zamanki değerimiz 50.000 olsun.\n",
    "\n",
    "$\\beta_1$ = Oda Sayısı \n",
    "\n",
    "$\\beta_2$ = Metrekare \n",
    "\n",
    "$\\varepsilon$ = Gerçek değerler ile tahmin edilen değerler arasındaki fark\n",
    "\n",
    "\n",
    "Ev Fiyatı = 50.000 + 30 x Oda Sayısı + 20 x Metrekare + $\\varepsilon$\n",
    " \n",
    " \n",
    "($\\beta_1$) Oda sayısı değişkeninin değeri 4 , ($\\beta_2$) metrekare değişkeninin değeri 100 olsun .\n",
    "\n",
    "Ev Fiyatı = 50.000 + 30x4 + 20x100 = 52.120 birim olarak tahmin edilir."
   ]
  },
  {
   "cell_type": "markdown",
   "id": "055179b1",
   "metadata": {},
   "source": [
    "<h1 style=\"background-color:#FFA500;font-family:newtimeroman;font-size:200%;text-align:left;color:#FFFFFF\"> Bağımlı Değişken (Y):\n",
    "</h1>\n"
   ]
  },
  {
   "cell_type": "markdown",
   "id": "84e205a5",
   "metadata": {},
   "source": [
    "Bu, tahmin yapmaya çalıştığınız veya açıklamak istediğiniz değişkendir. Bu değişken, diğer bağımsız değişkenler tarafından etkilenebilen ve model tarafından tahmin edilen değişkendir. Örneğin, bir satış tahmin modelinde satış miktarı bağımlı bir değişkendir."
   ]
  },
  {
   "cell_type": "markdown",
   "id": "245d33e4",
   "metadata": {},
   "source": [
    "<h1 style=\"background-color:#FFA500;font-family:newtimeroman;font-size:200%;text-align:left;color:#FFFFFF\"> Bağımsız Değişken (X): \n",
    "</h1>\n"
   ]
  },
  {
   "cell_type": "markdown",
   "id": "b7731358",
   "metadata": {},
   "source": [
    "Bu, bağımlı değişkeni açıklamak veya tahmin etmek için kullanılan değişkenlerdir. Bağımsız değişkenlerin bağımlı değişken üzerinde bir etkisi olduğu düşünülmektedir. Örneğin, bir satış tahmin modelinde reklam harcamaları, fiyat ve promosyonlar bağımsız değişkenler olabilir."
   ]
  },
  {
   "cell_type": "markdown",
   "id": "9c5cb3b6",
   "metadata": {},
   "source": [
    "<h1 style=\"background-color:#FFA500;font-family:newtimeroman;font-size:200%;text-align:left;color:#FFFFFF\"> Kesim noktası  𝛽0\n",
    "  Nedir ?\n",
    "</h1>\n"
   ]
  },
  {
   "cell_type": "markdown",
   "id": "c136d76c",
   "metadata": {},
   "source": [
    "Bağımsız değişkenlerimiz yani X'lerimiz 0 olduğunda bağımlı değişkenimizin beklenen değeridir.\n",
    "\n",
    "Diyelim ki regresyon modeliniz ev fiyatlarını tahmin ediyorsa ve kesim noktası 50,000 TL ise bu durumda, hiçbir ek özellik veya faktör olmadan bir evin başlangıç fiyatının 50,000 TL olduğunu söyleyebiliriz. Yani, diğer faktörlerin etkisi olmasa bile, ev fiyatları bu değerle başlar."
   ]
  },
  {
   "cell_type": "markdown",
   "id": "65106be6",
   "metadata": {},
   "source": [
    "<h1 style=\"background-color:#FFA500;font-family:newtimeroman;font-size:200%;text-align:left;color:#FFFFFF\">Regresyon Katsayıları $\\beta_1,\\beta_2,\\beta_3\\,\\beta_n$ Nedir ?\n",
    "</h1>\n"
   ]
  },
  {
   "cell_type": "markdown",
   "id": "085734c7",
   "metadata": {},
   "source": [
    "Regresyon katsayıları bağımsız değikeninin bağımlı değişken üzerindeki etkilerini gösterir . \n",
    "\n",
    "Örneğin bir regresyon modeliniz var ve bu model öğrencinin sınav notunu a sayısındaki çalışma saatiyle tahmin ediyorsa bu durumda $\\beta_1$ çalışma saatinin sınav notuna olan etkisini gösterir.Eğer $\\beta_1$ = 2 ise her ekstra çalışma saatinin sınav notunda 2 birimlik bir artış olduğunu gösterir."
   ]
  },
  {
   "cell_type": "markdown",
   "id": "e630f4e6",
   "metadata": {},
   "source": [
    "<h1 style=\"background-color:#FFA500;font-family:newtimeroman;font-size:200%;text-align:left;color:#FFFFFF\"> Hata Terimi ( $\\varepsilon$)\n",
    "</h1>\n"
   ]
  },
  {
   "cell_type": "markdown",
   "id": "9ddc4bc8",
   "metadata": {},
   "source": [
    "#### $\\varepsilon_i = Y_i - \\hat{Y}_i$"
   ]
  },
  {
   "cell_type": "markdown",
   "id": "de15862b",
   "metadata": {},
   "source": [
    "$Y_i$ = Gerçek değerler\n",
    "\n",
    "$\\hat{Y}_i$ = Tahmin edilen değerleri temsil eder.\n"
   ]
  },
  {
   "cell_type": "markdown",
   "id": "9469d956",
   "metadata": {},
   "source": [
    "<h1 style=\"background-color:#3b5998;font-family:newtimeroman;font-size:300%;text-align:left;color:#FFFFFF\">REGRESYON MODELLERİ\n",
    "</h1>\n"
   ]
  },
  {
   "cell_type": "markdown",
   "id": "e6ad9f89",
   "metadata": {},
   "source": [
    "<h1 style=\"background-color:#3b5998;font-family:newtimeroman;font-size:250%;text-align:center;color:#FFFFFF\">Basit Lineer Regresyon \n",
    "</h1>"
   ]
  },
  {
   "cell_type": "markdown",
   "id": "fa259268",
   "metadata": {},
   "source": [
    "Basit lineer regresyon, yalnızca bir bağımsız değişkenin kullanıldığı bir regresyon türüdür. Bu model, bir bağımlı değişkenin, tek bir bağımsız değişkenle doğrusal bir ilişkisini ifade eder. Aşağıda temel matematiksel formül ve bu formüldeki terimlerin açıklamaları bulunmaktadır."
   ]
  },
  {
   "cell_type": "markdown",
   "id": "a861dfcf",
   "metadata": {},
   "source": [
    "Y = $\\beta_0 + \\beta_1X + \\varepsilon$\n",
    "\n",
    "Y = Bağımlı değişken (Tahmin edilmeye çalışılan değişken)\n",
    "\n",
    "$\\beta_0$ = Kesim Noktası(Intercept)\n",
    "\n",
    "$\\beta_1$ = Eğim (Regresyon Katsayısı)\n",
    "\n",
    "$\\varepsilon$ = Hata Terimi"
   ]
  },
  {
   "cell_type": "markdown",
   "id": "97266ffb",
   "metadata": {},
   "source": [
    "Her bir X değişkeni, bağımlı değişken Y üzerinde belirli bir katsayı ile çarpılarak toplanır. Bu, çoklu değişkenlerin etkileşimini modelleyerek daha karmaşık ilişkileri incelememize olanak tanır."
   ]
  },
  {
   "cell_type": "markdown",
   "id": "6028c256",
   "metadata": {},
   "source": [
    "<h1 style=\"background-color:#3b5998;font-family:newtimeroman;font-size:250%;text-align:center;color:#FFFFFF\">Çoklu Lineer Regresyon\n",
    "</h1>"
   ]
  },
  {
   "cell_type": "markdown",
   "id": "b96b6a0d",
   "metadata": {},
   "source": [
    "Y = $\\beta_0 + \\beta_1X + \\beta_2X + ..\\beta_nX + \\varepsilon$\n",
    "\n",
    "Y = Bağımlı değişken (Tahmin edilmeye çalışılan değişken)\n",
    "\n",
    "$\\beta_0$ = Kesim Noktası(Intercept)\n",
    "\n",
    "$\\beta_1,\\beta_2,\\beta_3\\,\\beta_n$ = Eğim (Regresyon Katsayısı)\n",
    "\n",
    "$\\varepsilon$ = Hata Terimi"
   ]
  },
  {
   "cell_type": "markdown",
   "id": "cf492be5",
   "metadata": {},
   "source": [
    " Çoklu lineer regresyon, birden fazla bağımsız değişkenin kullanıldığı bir regresyon türüdür. Bu model, bir bağımlı değişkenin birden fazla bağımsız değişkenle doğrusal bir ilişkisini ifade eder. "
   ]
  },
  {
   "cell_type": "markdown",
   "id": "3ed5bea9",
   "metadata": {},
   "source": [
    "###### _ _ _ _ _ _ _ _ _ _ _ _ _ _ _ _ _ _ _ _ __ _ _ _ _ _ _ _ _ _ _ _ _ _ _ _ _ _ _ _ _ _ _ _ _ _ _ _ _ _ _ _ _ _ _ _ _ _ _ _ _ _ _ _ _ _ _ _ _ _ _ _ _ _ _ _ _ _ _ \n"
   ]
  },
  {
   "cell_type": "markdown",
   "id": "82c840f8",
   "metadata": {},
   "source": [
    "<h1 style=\"background-color:#FF00F7;font-family:newtimeroman;font-size:150%;text-align:left;color:#FFFFFF\">SSE\n",
    "</h1>\n"
   ]
  },
  {
   "cell_type": "markdown",
   "id": "d7188bfa",
   "metadata": {},
   "source": [
    "SSE = $\\sum_{i=1}^{n} \\varepsilon_i^2$"
   ]
  },
  {
   "cell_type": "markdown",
   "id": "9f5cd731",
   "metadata": {},
   "source": [
    " Bu ifade her bir gözlem için hata terimlerini hesaplar ve bu hataların  karesini alıp toplar.\n",
    " \n",
    " SSE sonucumuz ne kadar düşük ise modelimizin daha performanslı olduğunu gösterir.\n",
    " \n",
    " Düşük hata modelin gözlemlerle uyumlu olduğunu gösterir.\n"
   ]
  },
  {
   "cell_type": "markdown",
   "id": "f05e0c4e",
   "metadata": {},
   "source": [
    "<h1 style=\"background-color:#FF00F7;font-family:newtimeroman;font-size:150%;text-align:left;color:#FFFFFF\">Nasıl Yorumlanır ?\n",
    "</h1>\n"
   ]
  },
  {
   "cell_type": "markdown",
   "id": "bcd1b0c8",
   "metadata": {},
   "source": [
    " Eğer hata terimi pozitifse, bu, modelin gerçek değerden fazla tahmin ettiği anlamına gelir. Eğer negatifse, model gerçek değerden az tahmin etmiştir.\n",
    " \n",
    " Büyük hata terimleri, potansiyel olarak outlier'ları veya aykırı değerleri işaret edebilir. "
   ]
  },
  {
   "cell_type": "markdown",
   "id": "d70c3fe4",
   "metadata": {},
   "source": [
    "<h1 style=\"background-color:#FF00F7;font-family:newtimeroman;font-size:150%;text-align:left;color:#FFFFFF\">MSE\n",
    "</h1>\n"
   ]
  },
  {
   "cell_type": "markdown",
   "id": "b172609d",
   "metadata": {},
   "source": [
    "$\\text{MSE (Mean Squared Error):} \\quad MSE = \\frac{1}{n} \\sum_{i=1}^{n} (y_i - \\hat{y}_i)^2$"
   ]
  },
  {
   "cell_type": "markdown",
   "id": "302921f3",
   "metadata": {},
   "source": [
    "${y_i}$ = Gerçek Değer\n",
    "\n",
    "$\\hat{y}_i$= Modelin Tahmin Ettiği Değer\n",
    "\n",
    "n = Gözlem sayısı"
   ]
  },
  {
   "cell_type": "markdown",
   "id": "e6f2768a",
   "metadata": {},
   "source": [
    "###### Hataların Kareleri Ortalaması:\n",
    "\n",
    "MSE, hataların karelerini alarak çalıştığı için büyük hataları vurgular. Kare alma işlemi, negatif ve pozitif hatalar arasındaki farkı düşürerek büyük hataları daha belirgin hale getirir.\n",
    "\n",
    "###### Normalize Edilmemiş Değerler:\n",
    "\n",
    "MSE, hataların karelerinin ortalaması olduğu için orijinal veri setinin biriminde ölçülüdür. Bu, sonuçların orijinal veri seti ile aynı birimde olmasını sağlar\n",
    "\n",
    "###### Büyük Hatalara Duyarlılık:\n",
    "\n",
    "MSE, büyük hatalara daha fazla duyarlıdır. Yüksek hata değerleri, MSE değerini daha fazla artırır.\n",
    "\n",
    "MSE'nin karelerle çalıştığı ve aykırı değerlere duyarlı olduğu unutulmamalıdır!"
   ]
  },
  {
   "cell_type": "markdown",
   "id": "6e128b60",
   "metadata": {},
   "source": [
    "<h1 style=\"background-color:#FF00F7;font-family:newtimeroman;font-size:150%;text-align:left;color:#FFFFFF\">MAPE\n",
    "</h1>\n"
   ]
  },
  {
   "cell_type": "markdown",
   "id": "1fa5f025",
   "metadata": {},
   "source": [
    " MAPE (Mean Absolute Percentage Error), bir tahmin modelinin performansını değerlendirmek için kullanılan bir ölçüdür.\n",
    " \n",
    " MAPE, her gözlem için mutlak yüzde hatasının ortalaması alınarak hesaplanır. \n"
   ]
  },
  {
   "cell_type": "markdown",
   "id": "3c83b423",
   "metadata": {},
   "source": [
    "#### MAPE Nasıl Yorumlanır:\n",
    "\n",
    "MAPE değeri yüzde cinsinden bir oranı temsil eder. Genellikle yüzde olarak ifade edilir. İşte MAPE değerinin yorumlanması:\n",
    "\n",
    "0% MAPE: Mükemmel tahmin demektir. Modelin tahminleri, gerçek değerlerle tam olarak örtüşmektedir.\n",
    "\n",
    "0% - 10% MAPE: Çok iyi bir tahmin modelini gösterir.\n",
    "\n",
    "10% - 20% MAPE: Kabul edilebilir bir tahmin modelini gösterir.\n",
    "\n",
    "20% - 50% MAPE: Orta seviyede bir tahmin modelini gösterir.\n",
    "\n",
    "%50 ve üzeri MAPE: Düşük bir tahmin doğruluğunu gösterir ve genellikle kabul edilemez olarak değerlendirilir."
   ]
  },
  {
   "cell_type": "markdown",
   "id": "ebf893e1",
   "metadata": {},
   "source": [
    "MAPE'nin dezavantajı, bazen sıfır olan gerçek değerlere bölme durumunda tanımsız olmasıdır."
   ]
  },
  {
   "cell_type": "markdown",
   "id": "e22d06b3",
   "metadata": {},
   "source": [
    "<h1 style=\"background-color:#FF00F7;font-family:newtimeroman;font-size:150%;text-align:left;color:#FFFFFF\">MAE\n",
    "</h1>\n"
   ]
  },
  {
   "cell_type": "markdown",
   "id": "a59121b7",
   "metadata": {},
   "source": [
    "$\\text{MAE (Mean Absolute Error):} \\quad MAE = \\frac{1}{n} \\sum_{i=1}^{n} \\left| y_i - \\hat{y}_i \\right|$\n",
    "\n",
    "$n$ : Gözlem sayısı\n",
    "\n",
    "$y_i$ : Gerçek değerler\n",
    "\n",
    "$\\hat{y}_i$: Tahmmin edilen değerler"
   ]
  },
  {
   "cell_type": "markdown",
   "id": "551b2dc8",
   "metadata": {},
   "source": [
    "###### Aykırı Değerlere Duyarlılık:\n",
    "\n",
    "MAE, hataların mutlak değerlerini kullanarak çalıştığı için aykırı değerlere daha dayanıklıdır. Yani, büyük hataların modelin performansını daha az etkilemesini sağlar.\n",
    "\n",
    "##### MAE'nin düşük olması:\n",
    "Düşük MAE değerleri modelin gerçek değere daha yakın tahminler yaptığını gösterir . Yani genellikle iyi bir tahmin yeteneğine sahip olduğunu gösterir."
   ]
  },
  {
   "cell_type": "markdown",
   "id": "fd2f8471",
   "metadata": {},
   "source": [
    "<h1 style=\"background-color:#FF00F7;font-family:newtimeroman;font-size:150%;text-align:left;color:#FFFFFF\">RMSE\n",
    "</h1>\n"
   ]
  },
  {
   "cell_type": "markdown",
   "id": "09a8ec57",
   "metadata": {},
   "source": [
    "$\\text{RMSE (Root Mean Squared Error):} \\quad RMSE = \\sqrt{MSE} $"
   ]
  },
  {
   "cell_type": "markdown",
   "id": "ab386bbe",
   "metadata": {},
   "source": [
    "###### RMSE'nin MSE'den farkları:\n",
    "###### Aynı Ölçüm Birimi:\n",
    "\n",
    "RMSE, MSE'nin karekökü alınmış hali olduğu için ölçüm birimi orijinal veri seti birimiyle aynıdır. Bu, RMSE'nin orijinal veri seti biriminde yorumlanabilir sonuçlar sağladığı anlamına gelir.\n",
    "\n",
    "###### Büyük Hatalara Daha Fazla Hassasiyet:\n",
    "\n",
    "RMSE, büyük hataları vurgulayan bir ölçüdür. Karekök alındığı için büyük hataların etkisi daha fazla olur. Bu durum, modelin genellikle büyük hatalardan kaçınmaya yönlendirilmesini sağlar.\n",
    "\n",
    "\n",
    "###### MSE'ye Göre Daha Duyarlı:\n",
    "\n",
    "RMSE, MSE'nin karekökü olduğu için aykırı değerlere daha fazla duyarlıdır. Yani, aykırı değerlerin modelin performansını daha fazla etkilemesine neden olabilir."
   ]
  },
  {
   "cell_type": "markdown",
   "id": "981ac10c",
   "metadata": {},
   "source": [
    "<h1 style=\"background-color:#FFA500;font-family:newtimeroman;font-size:200%;text-align:center;color:#FFFFFF\">ANOVA\n",
    "</h1>\n"
   ]
  },
  {
   "cell_type": "markdown",
   "id": "4e5437d3",
   "metadata": {},
   "source": [
    "ANOVA (Analysis of Variance), bir veya daha fazla grup arasında ortalamalar arasındaki istatistiksel anlamlılığı değerlendirmek için kullanılan bir istatistiksel yöntemdir. ANOVA, gruplar arasındaki varyansın, grup içi varyansa olan oranına dayanarak kararlar alır. Bu oran, gruplar arasındaki farklılıkların grup içi rastgele varyans ile karşılaştırılmasına dayanır.\n",
    "\n",
    "ANOVA, özellikle gruplar arasında anlamlı bir fark olup olmadığını belirlemek ve çeşitli grupların ortalamaları arasındaki farklılıkları analiz etmek için kullanılır. ANOVA'nın temel amacı, gruplar arasındaki toplam varyansın, rastgele varyansa mı yoksa gerçek farklılıklara mı dayandığını belirlemektir.\n",
    "\n",
    "ANOVA, genellikle bir bağımlı değişkenin kategorik bir bağımsız değişken tarafından nasıl etkilendiğini değerlendirmek amacıyla kullanılır. Örneğin, farklı tedavi yöntemlerinin bir hastalığın iyileşme süreci üzerindeki etkilerini değerlendirmek için ANOVA kullanılabilir.\n",
    "\n",
    "ANOVA'nın temel iki türü vardır:\n",
    "\n",
    "Tek Yönlü ANOVA (One-Way ANOVA): Bir bağımlı değişkenin kategorik bir bağımsız değişken tarafından etkilenip etkilenmediğini değerlendirir. Yani, tek bir bağımsız değişken içerir.\n",
    "\n",
    "Çok Yönlü ANOVA (Two-Way ANOVA veya Factorial ANOVA): İki veya daha fazla bağımsız değişken içerir. Bu, bağımlı değişken üzerinde etkisi olan birden çok faktörü değerlendirmek için kullanılır.\n",
    "\n",
    "ANOVA, gruplar arasındaki istatistiksel farklılıkları belirlemek ve hangi grupların birbirinden farklı olduğunu anlamak için kullanılan güçlü bir istatistiksel araçtır."
   ]
  },
  {
   "cell_type": "markdown",
   "id": "685e20b4",
   "metadata": {},
   "source": [
    "| Kaynaklar           | Toplam Kare | Serbestlik Derecesi | Ortalama Kare | F İstatistiği | p-değeri |\n",
    "|---------------------|-------------|---------------------|---------------|---------------|----------|\n",
    "| Model               | SSR         | k                   | MSR           | F             | p        |\n",
    "| Hata (Residual)     | SSE         | n - k               | MSE           |               |          |\n",
    "| Toplam (Total)       | SST         | n - 1               |               |               |          |\n"
   ]
  },
  {
   "cell_type": "markdown",
   "id": "7b2ad9ab",
   "metadata": {},
   "source": [
    "Toplam Kare (SSR): Modelin bağımlı değişkendeki toplam varyansı açıklama yeteneğini ölçer. Büyük bir SSR, modelin verileri daha iyi açıkladığı anlamına gelir.\n",
    "\n",
    "Serbestlik Derecesi (k): Modeldeki bağımsız değişken sayısıdır. Daha fazla bağımsız değişken, modelin esnekliği artar.\n",
    "\n",
    "Ortalama Kare (MSR): SSR'nin serbestlik derecesine bölünmüş halidir. Bu, modelin bağımlı değişken üzerindeki değişiklikleri açıklama yeteneğini ölçer.\n",
    "\n",
    "F İstatistiği: MSR'nin MSE'ye bölünmesiyle elde edilir. Modelin istatistiksel olarak anlamlı olup olmadığını değerlendirmek için kullanılır.\n",
    "\n",
    "p-değeri: F İstatistiği'nin istatistiksel anlamlılığını belirler. 0.05'den küçük bir p-değeri, modelin anlamlı bir şekilde farklılık gösterdiği anlamına gelir.\n"
   ]
  },
  {
   "cell_type": "markdown",
   "id": "042d293f",
   "metadata": {},
   "source": [
    "###### _ _ _ _ _ _ _ _ _ _ _ _ _ _ _ _ _ _ _ _ __ _ _ _ _ _ _ _ _ _ _ _ _ _ _ _ _ _ _ _ _ _ _ _ _ _ _ _ _ _ _ _ _ _ _ _ _ _ _ _ _ _ _ _ _ _ _ _ _ _ _ _ _ _ _ _ _ _ _ \n"
   ]
  },
  {
   "cell_type": "markdown",
   "id": "069ed5f8",
   "metadata": {},
   "source": [
    "#### Hata (Residual):"
   ]
  },
  {
   "cell_type": "markdown",
   "id": "62c62a33",
   "metadata": {},
   "source": [
    "SSE: Model tarafından tahmin edilen değerlerle gerçek değerler arasındaki farkların karelerinin toplamını ölçer.\n",
    "\n",
    "n - k: SSE'nin serbestlik derecesi, gözlemler arasındaki serbestlik derecesinden (n) modelin serbestlik derecesi çıkartılarak hesaplanır.\n",
    "\n",
    "MSE: SSE'nin serbestlik derecesine bölünmüş halidir. Bu, modelin hatasının varyansını ölçer."
   ]
  },
  {
   "cell_type": "markdown",
   "id": "ccf80b48",
   "metadata": {},
   "source": [
    "###### _ _ _ _ _ _ _ _ _ _ _ _ _ _ _ _ _ _ _ _ __ _ _ _ _ _ _ _ _ _ _ _ _ _ _ _ _ _ _ _ _ _ _ _ _ _ _ _ _ _ _ _ _ _ _ _ _ _ _ _ _ _ _ _ _ _ _ _ _ _ _ _ _ _ _ _ _ _ _ \n"
   ]
  },
  {
   "cell_type": "markdown",
   "id": "7f635096",
   "metadata": {},
   "source": [
    "#### Toplam (Total):"
   ]
  },
  {
   "cell_type": "markdown",
   "id": "844f5450",
   "metadata": {},
   "source": [
    "SST: Toplam varyansı ölçer. Bu, bağımlı değişkenin toplam varyansını ifade eder.\n",
    "\n",
    "n - 1: SST'nin serbestlik derecesi, toplam gözlem sayısından bir çıkartılarak hesaplanır."
   ]
  },
  {
   "cell_type": "markdown",
   "id": "63f23c78",
   "metadata": {},
   "source": [
    "###### _ _ _ _ _ _ _ _ _ _ _ _ _ _ _ _ _ _ _ _ __ _ _ _ _ _ _ _ _ _ _ _ _ _ _ _ _ _ _ _ _ _ _ _ _ _ _ _ _ _ _ _ _ _ _ _ _ _ _ _ _ _ _ _ _ _ _ _ _ _ _ _ _ _ _ _ _ _ _ \n"
   ]
  },
  {
   "cell_type": "markdown",
   "id": "96faa014",
   "metadata": {},
   "source": [
    "#### ANOVA çıktısı\n",
    "Eğer Model'in p-değeri anlamlıysa, en az bir grup diğerlerinden istatistiksel olarak farklıdır.\n",
    "\n",
    "Eğer Model'in p-değeri anlamlı değilse, gruplar arasında anlamlı bir fark yoktur."
   ]
  },
  {
   "cell_type": "markdown",
   "id": "042bd0ac",
   "metadata": {},
   "source": [
    "##### Modelin anlamlı olduğu durumda hangi grupların farklılık gösterdiğini belirlemek için post-hoc testler kullanılabilir"
   ]
  },
  {
   "cell_type": "markdown",
   "id": "f16f3b32",
   "metadata": {},
   "source": [
    "<h1 style=\"background-color:#FF00F7;font-family:newtimeroman;font-size:150%;text-align:left;color:#FFFFFF\"> Post-Hoc Testleri Nelerdir ?\n",
    "</h1>\n"
   ]
  },
  {
   "cell_type": "markdown",
   "id": "a1835084",
   "metadata": {},
   "source": [
    "Post-hoc testler, bir ANOVA analizi sonrasında gruplar arasındaki özel farklılıkları belirlemek amacıyla kullanılan istatistiksel testlerdir. ANOVA analizi, gruplar arasında istatistiksel olarak anlamlı bir fark olduğunu gösterdiğinde, post-hoc testler hangi grupların birbirinden farklı olduğunu belirlemek için kullanılır. "
   ]
  },
  {
   "cell_type": "markdown",
   "id": "23ad237c",
   "metadata": {},
   "source": [
    "###### _ _ _ _ _ _ _ _ _ _ _ _ _ _ _ _ _ _ _ _ __ _ _ _ _ _ _ _ _ _ _ _ _ _ _ _ _ _ _ _ _ _ _ _ _ _ _ _ _ _ _ _ _ _ _ _ _ _ _ _ _ _ _ _ _ _ _ _ _ _ _ _ _ _ _ _ _ _ _ \n"
   ]
  },
  {
   "cell_type": "markdown",
   "id": "4926d986",
   "metadata": {},
   "source": [
    "#### Tukey's Honestly Significant Difference (HSD)\n",
    "Parametrik bir testtir. ANOVA sonrasında ortaya çıkan gruplar arasındaki farkları belirlemek için genellikle homojen varyans ve normal dağılım varsayımlarına dayanır."
   ]
  },
  {
   "cell_type": "markdown",
   "id": "4ce758db",
   "metadata": {},
   "source": [
    "###### _ _ _ _ _ _ _ _ _ _ _ _ _ _ _ _ _ _ _ _ __ _ _ _ _ _ _ _ _ _ _ _ _ _ _ _ _ _ _ _ _ _ _ _ _ _ _ _ _ _ _ _ _ _ _ _ _ _ _ _ _ _ _ _ _ _ _ _ _ _ _ _ _ _ _ _ _ _ _ \n"
   ]
  },
  {
   "cell_type": "markdown",
   "id": "af1975b0",
   "metadata": {},
   "source": [
    "#### Duncan's Multiple Range Test: \n",
    "Parametrik bir testtir.Duncan'ın testi, önceki gruplar arasında anlamlı bir fark olup olmadığını belirlemek için kullanılır. ANOVA sonrasında genellikle homojen gruplar arasında kullanılır."
   ]
  },
  {
   "cell_type": "markdown",
   "id": "34503acc",
   "metadata": {},
   "source": [
    "###### _ _ _ _ _ _ _ _ _ _ _ _ _ _ _ _ _ _ _ _ __ _ _ _ _ _ _ _ _ _ _ _ _ _ _ _ _ _ _ _ _ _ _ _ _ _ _ _ _ _ _ _ _ _ _ _ _ _ _ _ _ _ _ _ _ _ _ _ _ _ _ _ _ _ _ _ _ _ _ \n"
   ]
  },
  {
   "cell_type": "markdown",
   "id": "72b3e11f",
   "metadata": {},
   "source": [
    "#### Scheffe Test: \n",
    "Parametrik bir testtir ve genellikle büyük örneklem sayıları için uygundur. ANOVA sonrasında gruplar arasındaki farkları belirlemek için kullanılır."
   ]
  },
  {
   "cell_type": "markdown",
   "id": "49025f22",
   "metadata": {},
   "source": [
    "<h1 style=\"background-color:#FF00F7;font-family:newtimeroman;font-size:150%;text-align:left;color:#FFFFFF\"> Parametrik olmayan (non-parametrik) Post Hoc Testleri\n",
    "</h1>\n"
   ]
  },
  {
   "cell_type": "markdown",
   "id": "a6f0e8c1",
   "metadata": {},
   "source": [
    "#### Mann-Whitney U Testi (Wilcoxon Rank Sum Test): \n",
    "\n",
    "İki grup arasındaki farklılıkları değerlendirmek için kullanılır. Özellikle iki bağımsız grup arasında medyan farklılığı olup olmadığını test etmek için kullanılır."
   ]
  },
  {
   "cell_type": "markdown",
   "id": "85a67221",
   "metadata": {},
   "source": [
    "###### _ _ _ _ _ _ _ _ _ _ _ _ _ _ _ _ _ _ _ _ __ _ _ _ _ _ _ _ _ _ _ _ _ _ _ _ _ _ _ _ _ _ _ _ _ _ _ _ _ _ _ _ _ _ _ _ _ _ _ _ _ _ _ _ _ _ _ _ _ _ _ _ _ _ _ _ _ _ _ \n"
   ]
  },
  {
   "cell_type": "markdown",
   "id": "2af6afac",
   "metadata": {},
   "source": [
    "#### Wilcoxon İşaretli Sıralar Testi: \n",
    "\n",
    "İki eşleştirilmiş grubun arasındaki farklılıkları değerlendirmek için kullanılır. Bağımsız örneklemler arasındaki medyan farklılıklarını test etmek için de kullanılabilir."
   ]
  },
  {
   "cell_type": "markdown",
   "id": "380a7ae6",
   "metadata": {},
   "source": [
    "###### _ _ _ _ _ _ _ _ _ _ _ _ _ _ _ _ _ _ _ _ __ _ _ _ _ _ _ _ _ _ _ _ _ _ _ _ _ _ _ _ _ _ _ _ _ _ _ _ _ _ _ _ _ _ _ _ _ _ _ _ _ _ _ _ _ _ _ _ _ _ _ _ _ _ _ _ _ _ _ \n"
   ]
  },
  {
   "cell_type": "markdown",
   "id": "1e365a6d",
   "metadata": {},
   "source": [
    "#### Dunn'ın Testi:\n",
    "Kruskal-Wallis testi sonrasında, hangi grupların farklı olduğunu belirlemek için kullanılır. İki grup arasındaki farkı değerlendiren Mann-Whitney U testini genişleterek, üç ya da daha fazla grup için uygulanabilir.\n"
   ]
  },
  {
   "cell_type": "markdown",
   "id": "0662601b",
   "metadata": {},
   "source": [
    "<h1 style=\"background-color:#FFA500;font-family:newtimeroman;font-size:200%;text-align:center;color:#FFFFFF\">Doğrusal Regresyon Modelinin Özeti\n",
    "</h1>\n"
   ]
  },
  {
   "cell_type": "markdown",
   "id": "486cda75",
   "metadata": {},
   "source": [
    "| **OLS Regression Results** |               | \n",
    "|---------------------------|---------------|\n",
    "| **Dep. Variable:** Y       |               |\n",
    "| **R-squared:** 0.750       |               |\n",
    "| **Model:** OLS             |               |\n",
    "| **Adj. R-squared:** 0.741  |               |\n",
    "| **Method:** Least Squares   |               |\n",
    "| **F-statistic:** 84.55     |               |\n",
    "| **Date:** Tue, 13 Apr 2022  |               |\n",
    "| **Prob (F-statistic):** 8.46e-11 |         |\n",
    "| **Time:** 12:34:56          |               |\n",
    "| **Log-Likelihood:** -74.028 |               |\n",
    "| **No. Observations:** 50    |               |\n",
    "| **AIC:** 154.1              |               |\n",
    "| **Df Residuals:** 48        |               |\n",
    "| **BIC:** 158.5              |               |\n",
    "| **Df Model:** 1             |               |\n",
    "| **Covariance Type:** nonrobust |            |\n",
    "\n",
    "| **Coefficients** |     |               |\n",
    "|------------------|-----|---------------|\n",
    "| **const:** -5.6374 | std err: 3.543, t: -1.593, P>|t|: 0.118, [0.025, 0.975]: [-12.751, 1.476] | \n",
    "| **X1:** 1.2371    | std err: 0.134, t: 9.203, P>|t|: 0.000, [0.025, 0.975]: [0.967, 1.507]  |\n",
    "\n",
    "| **Additional Statistics** |    |               |\n",
    "|---------------------------|----|---------------|\n",
    "| **Omnibus:** 0.073         |               |\n",
    "| **Durbin-Watson:** 2.157   |               |\n",
    "| **Prob(Omnibus):** 0.965   |               |\n",
    "| **Jarque-Bera (JB):** 0.086|               |\n",
    "| **Prob(JB):** 0.958        |               |\n",
    "| **Skew:** 0.070            |               |\n",
    "| **Kurtosis:** 2.819        |               |\n",
    "| **Cond. No.:** 47.7        |               |\n"
   ]
  },
  {
   "cell_type": "markdown",
   "id": "d17358f1",
   "metadata": {},
   "source": [
    "##### R-squared ve Adjusted R-squared:\n",
    "\n",
    "R-squared: Bağımlı değişkenin varyasyonunun ne kadarının bağımsız değişkenler tarafından açıklandığını gösterir. Burada, R-squared değeri 0.75'tir, bu da modelin bağımlı değişkenin varyasyonunun %75'ini açıkladığını gösterir.\n",
    "\n",
    "Adjusted R-squared: R-squared'ın düzeltilmiş bir versiyonudur, modeldeki ek bağımsız değişkenlerin eklenip eklenmediğini dikkate alır.\n",
    "###### _ _ _ _ _ _ _ _ _ _ _ _ _ _ _ _ _ _ _ _ __ _ _ _ _ _ _ _ _ _ _ _ _ _ _ _ _ _ _ _ _ _ _ _ _ _ _ _ _ _ _ _ _ _ _ _ _ _ _ _ _ _ _ _ _ _ _ _ _ _ _ _ _ _ _ _ _ _ _ \n",
    "\n",
    "##### F-statistic ve Prob (F-statistic):\n",
    "\n",
    "F-statistic: Modelin genel anlamda anlamlılığını değerlendiren bir istatistiktir. Modeldeki bağımsız değişkenlerin modelin genel açıklama gücüyle karşılaştırılır.\n",
    "\n",
    "Prob (F-statistic): F-statistic'in anlamlılık düzeyidir. Bu değer düşükse, model genel olarak anlamlıdır. Bu durumda, modelin genel anlamda anlamlılığını belirlemek için yeterli neden vardır.\n",
    "###### _ _ _ _ _ _ _ _ _ _ _ _ _ _ _ _ _ _ _ _ __ _ _ _ _ _ _ _ _ _ _ _ _ _ _ _ _ _ _ _ _ _ _ _ _ _ _ _ _ _ _ _ _ _ _ _ _ _ _ _ _ _ _ _ _ _ _ _ _ _ _ _ _ _ _ _ _ _ _ \n",
    "\n",
    "##### Katsayılar (Coefficients):\n",
    "\n",
    "const (Kesme Noktası): Bu, bağımsız değişkenlerin değerleri sıfır olduğunda beklenen bağımlı değişkenin değeridir. Bu durumda, kesme noktası -5.6374'tür.\n",
    "\n",
    "X1 (Bağımsız Değişken): Bu, X1'in her bir birim artışının bağımlı değişkendeki değişimi gösterir. Burada, X1'in katsayısı 1.2371'dir.\n",
    "###### _ _ _ _ _ _ _ _ _ _ _ _ _ _ _ _ _ _ _ _ __ _ _ _ _ _ _ _ _ _ _ _ _ _ _ _ _ _ _ _ _ _ _ _ _ _ _ _ _ _ _ _ _ _ _ _ _ _ _ _ _ _ _ _ _ _ _ _ _ _ _ _ _ _ _ _ _ _ _ \n",
    "\n",
    "#####  P>|t| ve [0.025, 0.975] İntervalleri:\n",
    "\n",
    "P>|t|: Bu değer, bağımsız değişkenin katsayısının sıfır olma olasılığını ölçer. 0.05'ten küçükse, bağımsız değişkenin etkisi genellikle anlamlıdır.\n",
    "\n",
    "[0.025, 0.975]: Bu aralık, bağımsız değişkenin katsayısının tahmin edilen değerinin güven aralığını gösterir. Eğer bu aralık sıfır içermiyorsa, bağımsız değişkenin etkisi genellikle anlamlıdır.\n",
    "###### _ _ _ _ _ _ _ _ _ _ _ _ _ _ _ _ _ _ _ _ __ _ _ _ _ _ _ _ _ _ _ _ _ _ _ _ _ _ _ _ _ _ _ _ _ _ _ _ _ _ _ _ _ _ _ _ _ _ _ _ _ _ _ _ _ _ _ _ _ _ _ _ _ _ _ _ _ _ _ \n",
    "\n",
    "#####  Additional Statistics:\n",
    "\n",
    "Omnibus: Modelin normal dağılımı test eder. P değeri yüksekse, normal dağılım varsayımını karşılamaktadır.\n",
    "\n",
    "Durbin-Watson: Modelin hata terimlerindeki otokorelasyonu ölçer. Değer 2'ye yakın olması istenir.\n",
    "\n",
    "Prob(Omnibus): Omnibus istatistiğinin anlamlılık düzeyidir. 0.05'ten küçükse, normal dağılım varsayımını karşılamamaktadır.\n",
    "\n",
    "Jarque-Bera (JB): Modelin normal dağılıma uygun olup olmadığını değerlendirir.\n",
    "\n",
    "Prob(JB): JB istatistiğinin anlamlılık düzeyidir. 0.05'ten küçükse, normal dağılıma uygun değildir.\n",
    "\n",
    "Skew ve Kurtosis: Modelin hata terimlerinin çarpıklık ve basıklık ölçümleridir.\n",
    "\n",
    "Cond. No.: Varyans enflasyon faktörünü ölçer. Büyük değerler çoklu doğrusal bağlantı sorununa işaret edebilir."
   ]
  },
  {
   "cell_type": "markdown",
   "id": "01cbd90d",
   "metadata": {},
   "source": [
    "###### _ _ _ _ _ _ _ _ _ _ _ _ _ _ _ _ _ _ _ _ __ _ _ _ _ _ _ _ _ _ _ _ _ _ _ _ _ _ _ _ _ _ _ _ _ _ _ _ _ _ _ _ _ _ _ _ _ _ _ _ _ _ _ _ _ _ _ _ _ _ _ _ _ _ _ _ _ _ _ \n"
   ]
  },
  {
   "cell_type": "markdown",
   "id": "fa4c6575",
   "metadata": {},
   "source": [
    "#### AIC Nedir ?\n",
    "\n",
    "AIC (Akaike Information Criterion):\n",
    "Düşük Değerler İyi: AIC değeri ne kadar düşükse, modelin o kadar iyi uyum sağladığı kabul edilir.\n",
    "\n",
    "Karşılaştırma: Farklı modeller arasında karşılaştırma yaparken, en düşük AIC değerine sahip model tercih edilir.\n",
    "\n",
    "Karmaşıklık ve Uyum Dengesi: AIC, karmaşıklık ve uyum arasında bir denge kurmaya çalışır. Daha karmaşık modeller daha yüksek AIC değerlerine sahip olabilir, bu nedenle AIC, overfittinge karşı bir koruma sağlar."
   ]
  },
  {
   "cell_type": "markdown",
   "id": "ad307844",
   "metadata": {},
   "source": [
    "###### _ _ _ _ _ _ _ _ _ _ _ _ _ _ _ _ _ _ _ _ __ _ _ _ _ _ _ _ _ _ _ _ _ _ _ _ _ _ _ _ _ _ _ _ _ _ _ _ _ _ _ _ _ _ _ _ _ _ _ _ _ _ _ _ _ _ _ _ _ _ _ _ _ _ _ _ _ _ _ \n"
   ]
  },
  {
   "cell_type": "markdown",
   "id": "dc580a68",
   "metadata": {},
   "source": [
    "#### BIC Nedir ?"
   ]
  },
  {
   "cell_type": "markdown",
   "id": "0ebc8e59",
   "metadata": {},
   "source": [
    "BIC (Bayesian Information Criterion):\n",
    "\n",
    "Düşük Değerler İyi: BIC değeri de düşük olduğunda, modelin daha iyi uyum sağladığı kabul edilir.\n",
    "\n",
    "Daha Katı Pénaltı: \n",
    "\n",
    "BIC, modelin karmaşıklığına daha katı bir pénaltı uygular. Bu nedenle, BIC daha az parametreye sahip basitleştirilmiş modelleri teşvik eder.\n",
    "\n",
    "Popülasyon Seviyesinde İyi Performans: BIC, modelin popülasyon seviyesinde iyi performans gösterme olasılığını daha çok değerlendirir."
   ]
  },
  {
   "cell_type": "markdown",
   "id": "a71d9efd",
   "metadata": {},
   "source": [
    "###### _ _ _ _ _ _ _ _ _ _ _ _ _ _ _ _ _ _ _ _ __ _ _ _ _ _ _ _ _ _ _ _ _ _ _ _ _ _ _ _ _ _ _ _ _ _ _ _ _ _ _ _ _ _ _ _ _ _ _ _ _ _ _ _ _ _ _ _ _ _ _ _ _ _ _ _ _ _ _ \n"
   ]
  },
  {
   "cell_type": "markdown",
   "id": "9b59607d",
   "metadata": {},
   "source": [
    "#### Nasıl Yorumlanır ?\n",
    "AIC ve BIC değerleri modelin uygunluğunu değerlendirirken kullanılır.\n",
    "Daha düşük değerler, daha iyi uyum sağladığına işaret eder.\n",
    "\n",
    "AIC ve BIC'nin karşılaştırılması, farklı modeller arasında tercih yapmada yardımcı olabilir.\n",
    "\n",
    "İki kriterin birbirine yakın olması durumunda, modelin genelleme yeteneği daha önemli bir kriterdir."
   ]
  },
  {
   "cell_type": "markdown",
   "id": "b3755446",
   "metadata": {},
   "source": [
    "Örnek:\n",
    "\n",
    "Model G'nin AIC değeri 500 ve Model H'nin AIC değeri 505 ise, Model G daha iyi bir uyum sağlar.\n",
    "\n",
    "Burada, AIC değerleri arasındaki fark çok küçük olduğu için Model G'nin tercih edilmesi genellikle anlamlı bir iyileşme sağlamıyor olabilir."
   ]
  },
  {
   "cell_type": "markdown",
   "id": "c51b2e27",
   "metadata": {},
   "source": [
    "Örnek:\n",
    "\n",
    "Model I'nin AIC değeri 480 ve Model J'nin AIC değeri 470 ise, Model J daha iyi bir uyum sağlar.\n",
    "\n",
    "AIC değerleri arasındaki fark daha belirgin olduğu için Model J'nin tercih edilmesi, bu durumda anlamlı bir iyileşme gösteriyor olabilir."
   ]
  },
  {
   "cell_type": "markdown",
   "id": "12ce590b",
   "metadata": {},
   "source": [
    "<h1 style=\"background-color:#3b5998;font-family:newtimeroman;font-size:300%;text-align:center;color:#FFFFFF\">ÇOKLU LİNEER REGRESYON UYGULAMASI</h1>\n"
   ]
  },
  {
   "cell_type": "code",
   "execution_count": 1,
   "id": "71e833d2",
   "metadata": {},
   "outputs": [],
   "source": [
    "import pandas as pd\n",
    "from sklearn.linear_model import LinearRegression\n",
    "import numpy as np\n",
    "from statsmodels.formula.api import ols\n",
    "from statsmodels.stats.anova import anova_lm\n",
    "import statsmodels.api as sm\n",
    "import scipy.stats as stats\n"
   ]
  },
  {
   "cell_type": "code",
   "execution_count": 2,
   "id": "76e1d7c9",
   "metadata": {},
   "outputs": [],
   "source": [
    "data = pd.read_csv(\"Marketing_Data.csv\")"
   ]
  },
  {
   "cell_type": "code",
   "execution_count": 3,
   "id": "dfb719bd",
   "metadata": {},
   "outputs": [],
   "source": [
    "df = data.copy()"
   ]
  },
  {
   "cell_type": "code",
   "execution_count": 4,
   "id": "da236027",
   "metadata": {
    "scrolled": true
   },
   "outputs": [
    {
     "data": {
      "text/html": [
       "<div>\n",
       "<style scoped>\n",
       "    .dataframe tbody tr th:only-of-type {\n",
       "        vertical-align: middle;\n",
       "    }\n",
       "\n",
       "    .dataframe tbody tr th {\n",
       "        vertical-align: top;\n",
       "    }\n",
       "\n",
       "    .dataframe thead th {\n",
       "        text-align: right;\n",
       "    }\n",
       "</style>\n",
       "<table border=\"1\" class=\"dataframe\">\n",
       "  <thead>\n",
       "    <tr style=\"text-align: right;\">\n",
       "      <th></th>\n",
       "      <th>youtube</th>\n",
       "      <th>facebook</th>\n",
       "      <th>newspaper</th>\n",
       "      <th>sales</th>\n",
       "    </tr>\n",
       "  </thead>\n",
       "  <tbody>\n",
       "    <tr>\n",
       "      <th>0</th>\n",
       "      <td>84.72</td>\n",
       "      <td>19.20</td>\n",
       "      <td>48.96</td>\n",
       "      <td>12.60</td>\n",
       "    </tr>\n",
       "    <tr>\n",
       "      <th>1</th>\n",
       "      <td>351.48</td>\n",
       "      <td>33.96</td>\n",
       "      <td>51.84</td>\n",
       "      <td>25.68</td>\n",
       "    </tr>\n",
       "    <tr>\n",
       "      <th>2</th>\n",
       "      <td>135.48</td>\n",
       "      <td>20.88</td>\n",
       "      <td>46.32</td>\n",
       "      <td>14.28</td>\n",
       "    </tr>\n",
       "    <tr>\n",
       "      <th>3</th>\n",
       "      <td>116.64</td>\n",
       "      <td>1.80</td>\n",
       "      <td>36.00</td>\n",
       "      <td>11.52</td>\n",
       "    </tr>\n",
       "    <tr>\n",
       "      <th>4</th>\n",
       "      <td>318.72</td>\n",
       "      <td>24.00</td>\n",
       "      <td>0.36</td>\n",
       "      <td>20.88</td>\n",
       "    </tr>\n",
       "    <tr>\n",
       "      <th>...</th>\n",
       "      <td>...</td>\n",
       "      <td>...</td>\n",
       "      <td>...</td>\n",
       "      <td>...</td>\n",
       "    </tr>\n",
       "    <tr>\n",
       "      <th>166</th>\n",
       "      <td>45.84</td>\n",
       "      <td>4.44</td>\n",
       "      <td>16.56</td>\n",
       "      <td>9.12</td>\n",
       "    </tr>\n",
       "    <tr>\n",
       "      <th>167</th>\n",
       "      <td>113.04</td>\n",
       "      <td>5.88</td>\n",
       "      <td>9.72</td>\n",
       "      <td>11.64</td>\n",
       "    </tr>\n",
       "    <tr>\n",
       "      <th>168</th>\n",
       "      <td>212.40</td>\n",
       "      <td>11.16</td>\n",
       "      <td>7.68</td>\n",
       "      <td>15.36</td>\n",
       "    </tr>\n",
       "    <tr>\n",
       "      <th>169</th>\n",
       "      <td>340.32</td>\n",
       "      <td>50.40</td>\n",
       "      <td>79.44</td>\n",
       "      <td>30.60</td>\n",
       "    </tr>\n",
       "    <tr>\n",
       "      <th>170</th>\n",
       "      <td>278.52</td>\n",
       "      <td>10.32</td>\n",
       "      <td>10.44</td>\n",
       "      <td>16.08</td>\n",
       "    </tr>\n",
       "  </tbody>\n",
       "</table>\n",
       "<p>171 rows × 4 columns</p>\n",
       "</div>"
      ],
      "text/plain": [
       "     youtube  facebook  newspaper  sales\n",
       "0      84.72     19.20      48.96  12.60\n",
       "1     351.48     33.96      51.84  25.68\n",
       "2     135.48     20.88      46.32  14.28\n",
       "3     116.64      1.80      36.00  11.52\n",
       "4     318.72     24.00       0.36  20.88\n",
       "..       ...       ...        ...    ...\n",
       "166    45.84      4.44      16.56   9.12\n",
       "167   113.04      5.88       9.72  11.64\n",
       "168   212.40     11.16       7.68  15.36\n",
       "169   340.32     50.40      79.44  30.60\n",
       "170   278.52     10.32      10.44  16.08\n",
       "\n",
       "[171 rows x 4 columns]"
      ]
     },
     "execution_count": 4,
     "metadata": {},
     "output_type": "execute_result"
    }
   ],
   "source": [
    "df"
   ]
  },
  {
   "cell_type": "markdown",
   "id": "39176dd8",
   "metadata": {},
   "source": [
    "###### _ _ _ _ _ _ _ _ _ _ _ _ _ _ _ _ _ _ _ _ __ _ _ _ _ _ _ _ _ _ _ _ _ _ _ _ _ _ _ _ _ _ _ _ _ _ _ _ _ _ _ _ _ _ _ _ _ _ _ _ _ _ _ _ _ _ _ _ _ _ _ _ _ _ _ _ _ _ _ \n"
   ]
  },
  {
   "cell_type": "markdown",
   "id": "0426b4f8",
   "metadata": {},
   "source": [
    "###### YouTube: YouTube üzerinden yapılan harcamaları temsil eder.\n",
    "###### Facebook: Facebook üzerinden yapılan harcamaları temsil eder.\n",
    "###### Newspaper: Gazete reklamlarına yapılan harcamaları temsil eder.\n",
    "###### Sales: Toplam satışları temsil eder."
   ]
  },
  {
   "cell_type": "markdown",
   "id": "495479a3",
   "metadata": {},
   "source": [
    "###### _ _ _ _ _ _ _ _ _ _ _ _ _ _ _ _ _ _ _ _ __ _ _ _ _ _ _ _ _ _ _ _ _ _ _ _ _ _ _ _ _ _ _ _ _ _ _ _ _ _ _ _ _ _ _ _ _ _ _ _ _ _ _ _ _ _ _ _ _ _ _ _ _ _ _ _ _ _ _ \n"
   ]
  },
  {
   "cell_type": "markdown",
   "id": "8438bc22",
   "metadata": {},
   "source": [
    "##### Bağımlı Değişken (y): Sales "
   ]
  },
  {
   "cell_type": "markdown",
   "id": "636bae63",
   "metadata": {},
   "source": [
    "###### Bağımsız Değişkenler (X) : newspaper , youtube , facebook"
   ]
  },
  {
   "cell_type": "markdown",
   "id": "2b6a3ee9",
   "metadata": {},
   "source": [
    "###### _ _ _ _ _ _ _ _ _ _ _ _ _ _ _ _ _ _ _ _ __ _ _ _ _ _ _ _ _ _ _ _ _ _ _ _ _ _ _ _ _ _ _ _ _ _ _ _ _ _ _ _ _ _ _ _ _ _ _ _ _ _ _ _ _ _ _ _ _ _ _ _ _ _ _ _ _ _ _ \n"
   ]
  },
  {
   "cell_type": "markdown",
   "id": "7b6908f5",
   "metadata": {},
   "source": [
    "<h1 style=\"background-color:#FF00F7;font-family:newtimeroman;font-size:150%;text-align:left;color:#FFFFFF\">Regresyon Modeli \n",
    "</h1>"
   ]
  },
  {
   "cell_type": "code",
   "execution_count": 5,
   "id": "6136a0fc",
   "metadata": {},
   "outputs": [
    {
     "name": "stdout",
     "output_type": "stream",
     "text": [
      "Katsayılar (Coefficients): [0.04523544 0.18839783 0.00427949]\n",
      "Sabit (Intercept): 3.5058709944650204\n"
     ]
    }
   ],
   "source": [
    "X = df[['youtube', 'facebook', 'newspaper']]\n",
    "y = df['sales']\n",
    "\n",
    "model = LinearRegression()\n",
    "\n",
    "model.fit(X, y)\n",
    "\n",
    "coefficients = model.coef_\n",
    "intercept = model.intercept_\n",
    "\n",
    "print(\"Katsayılar (Coefficients):\", coefficients)\n",
    "print(\"Sabit (Intercept):\", intercept)"
   ]
  },
  {
   "cell_type": "markdown",
   "id": "5cd72934",
   "metadata": {},
   "source": [
    "y = $\\beta_0$ + $\\beta_1$x$Youtube$ + $\\beta_2$x$Facebook$ + $\\beta_3$x$Newspaper$ "
   ]
  },
  {
   "cell_type": "markdown",
   "id": "c44d5625",
   "metadata": {},
   "source": [
    "y = $3.50$ + $0.04523544$ x $Youtube$ + $0.18839783$ x $Facebook$ + $0.00427949$ x $Newspaper$  "
   ]
  },
  {
   "cell_type": "code",
   "execution_count": 6,
   "id": "5c882953",
   "metadata": {},
   "outputs": [],
   "source": [
    "y_pred = model.predict(X)"
   ]
  },
  {
   "cell_type": "code",
   "execution_count": 7,
   "id": "d72c96c6",
   "metadata": {},
   "outputs": [],
   "source": [
    "df_hata = pd.DataFrame()"
   ]
  },
  {
   "cell_type": "code",
   "execution_count": 8,
   "id": "3bf066f1",
   "metadata": {
    "scrolled": true
   },
   "outputs": [],
   "source": [
    "df_hata[\"Gercek_Degerler\"] = y\n",
    "df_hata[\"Tahmin\"] = y_pred"
   ]
  },
  {
   "cell_type": "markdown",
   "id": "90d11813",
   "metadata": {},
   "source": [
    "###### _ _ _ _ _ _ _ _ _ _ _ _ _ _ _ _ _ _ _ _ __ _ _ _ _ _ _ _ _ _ _ _ _ _ _ _ _ _ _ _ _ _ _ _ _ _ _ _ _ _ _ _ _ _ _ _ _ _ _ _ _ _ _ _ _ _ _ _ _ _ _ _ _ _ _ _ _ _ _ \n"
   ]
  },
  {
   "cell_type": "markdown",
   "id": "09c10a1f",
   "metadata": {},
   "source": [
    "<h1 style=\"background-color:#FF00F7;font-family:newtimeroman;font-size:150%;text-align:left;color:#FFFFFF\">Tahmin Değerleri\n",
    "</h1>"
   ]
  },
  {
   "cell_type": "code",
   "execution_count": 9,
   "id": "caa2c276",
   "metadata": {
    "scrolled": true
   },
   "outputs": [
    {
     "data": {
      "text/html": [
       "<div>\n",
       "<style scoped>\n",
       "    .dataframe tbody tr th:only-of-type {\n",
       "        vertical-align: middle;\n",
       "    }\n",
       "\n",
       "    .dataframe tbody tr th {\n",
       "        vertical-align: top;\n",
       "    }\n",
       "\n",
       "    .dataframe thead th {\n",
       "        text-align: right;\n",
       "    }\n",
       "</style>\n",
       "<table border=\"1\" class=\"dataframe\">\n",
       "  <thead>\n",
       "    <tr style=\"text-align: right;\">\n",
       "      <th></th>\n",
       "      <th>Gercek_Degerler</th>\n",
       "      <th>Tahmin</th>\n",
       "    </tr>\n",
       "  </thead>\n",
       "  <tbody>\n",
       "    <tr>\n",
       "      <th>0</th>\n",
       "      <td>12.60</td>\n",
       "      <td>11.164980</td>\n",
       "    </tr>\n",
       "    <tr>\n",
       "      <th>1</th>\n",
       "      <td>25.68</td>\n",
       "      <td>26.025064</td>\n",
       "    </tr>\n",
       "    <tr>\n",
       "      <th>2</th>\n",
       "      <td>14.28</td>\n",
       "      <td>13.766342</td>\n",
       "    </tr>\n",
       "    <tr>\n",
       "      <th>3</th>\n",
       "      <td>11.52</td>\n",
       "      <td>9.275311</td>\n",
       "    </tr>\n",
       "    <tr>\n",
       "      <th>4</th>\n",
       "      <td>20.88</td>\n",
       "      <td>22.446400</td>\n",
       "    </tr>\n",
       "    <tr>\n",
       "      <th>...</th>\n",
       "      <td>...</td>\n",
       "      <td>...</td>\n",
       "    </tr>\n",
       "    <tr>\n",
       "      <th>166</th>\n",
       "      <td>9.12</td>\n",
       "      <td>6.486818</td>\n",
       "    </tr>\n",
       "    <tr>\n",
       "      <th>167</th>\n",
       "      <td>11.64</td>\n",
       "      <td>9.768662</td>\n",
       "    </tr>\n",
       "    <tr>\n",
       "      <th>168</th>\n",
       "      <td>15.36</td>\n",
       "      <td>15.249266</td>\n",
       "    </tr>\n",
       "    <tr>\n",
       "      <th>169</th>\n",
       "      <td>30.60</td>\n",
       "      <td>28.735611</td>\n",
       "    </tr>\n",
       "    <tr>\n",
       "      <th>170</th>\n",
       "      <td>16.08</td>\n",
       "      <td>18.093790</td>\n",
       "    </tr>\n",
       "  </tbody>\n",
       "</table>\n",
       "<p>171 rows × 2 columns</p>\n",
       "</div>"
      ],
      "text/plain": [
       "     Gercek_Degerler     Tahmin\n",
       "0              12.60  11.164980\n",
       "1              25.68  26.025064\n",
       "2              14.28  13.766342\n",
       "3              11.52   9.275311\n",
       "4              20.88  22.446400\n",
       "..               ...        ...\n",
       "166             9.12   6.486818\n",
       "167            11.64   9.768662\n",
       "168            15.36  15.249266\n",
       "169            30.60  28.735611\n",
       "170            16.08  18.093790\n",
       "\n",
       "[171 rows x 2 columns]"
      ]
     },
     "execution_count": 9,
     "metadata": {},
     "output_type": "execute_result"
    }
   ],
   "source": [
    "df_hata"
   ]
  },
  {
   "cell_type": "markdown",
   "id": "aebdfde2",
   "metadata": {},
   "source": [
    "###### _ _ _ _ _ _ _ _ _ _ _ _ _ _ _ _ _ _ _ _ __ _ _ _ _ _ _ _ _ _ _ _ _ _ _ _ _ _ _ _ _ _ _ _ _ _ _ _ _ _ _ _ _ _ _ _ _ _ _ _ _ _ _ _ _ _ _ _ _ _ _ _ _ _ _ _ _ _ _ \n"
   ]
  },
  {
   "cell_type": "markdown",
   "id": "7221df23",
   "metadata": {},
   "source": [
    "<h1 style=\"background-color:#FF00F7;font-family:newtimeroman;font-size:150%;text-align:left;color:#FFFFFF\">Tahmin Hataları\n",
    "</h1>"
   ]
  },
  {
   "cell_type": "code",
   "execution_count": 10,
   "id": "75c5ccee",
   "metadata": {},
   "outputs": [],
   "source": [
    "df_hata[\"Hata\"] = df_hata[\"Gercek_Degerler\"] - df_hata[\"Tahmin\"]"
   ]
  },
  {
   "cell_type": "code",
   "execution_count": 11,
   "id": "b9a04aeb",
   "metadata": {
    "scrolled": true
   },
   "outputs": [
    {
     "data": {
      "text/html": [
       "<div>\n",
       "<style scoped>\n",
       "    .dataframe tbody tr th:only-of-type {\n",
       "        vertical-align: middle;\n",
       "    }\n",
       "\n",
       "    .dataframe tbody tr th {\n",
       "        vertical-align: top;\n",
       "    }\n",
       "\n",
       "    .dataframe thead th {\n",
       "        text-align: right;\n",
       "    }\n",
       "</style>\n",
       "<table border=\"1\" class=\"dataframe\">\n",
       "  <thead>\n",
       "    <tr style=\"text-align: right;\">\n",
       "      <th></th>\n",
       "      <th>Gercek_Degerler</th>\n",
       "      <th>Tahmin</th>\n",
       "      <th>Hata</th>\n",
       "    </tr>\n",
       "  </thead>\n",
       "  <tbody>\n",
       "    <tr>\n",
       "      <th>0</th>\n",
       "      <td>12.60</td>\n",
       "      <td>11.164980</td>\n",
       "      <td>1.435020</td>\n",
       "    </tr>\n",
       "    <tr>\n",
       "      <th>1</th>\n",
       "      <td>25.68</td>\n",
       "      <td>26.025064</td>\n",
       "      <td>-0.345064</td>\n",
       "    </tr>\n",
       "    <tr>\n",
       "      <th>2</th>\n",
       "      <td>14.28</td>\n",
       "      <td>13.766342</td>\n",
       "      <td>0.513658</td>\n",
       "    </tr>\n",
       "    <tr>\n",
       "      <th>3</th>\n",
       "      <td>11.52</td>\n",
       "      <td>9.275311</td>\n",
       "      <td>2.244689</td>\n",
       "    </tr>\n",
       "    <tr>\n",
       "      <th>4</th>\n",
       "      <td>20.88</td>\n",
       "      <td>22.446400</td>\n",
       "      <td>-1.566400</td>\n",
       "    </tr>\n",
       "    <tr>\n",
       "      <th>...</th>\n",
       "      <td>...</td>\n",
       "      <td>...</td>\n",
       "      <td>...</td>\n",
       "    </tr>\n",
       "    <tr>\n",
       "      <th>166</th>\n",
       "      <td>9.12</td>\n",
       "      <td>6.486818</td>\n",
       "      <td>2.633182</td>\n",
       "    </tr>\n",
       "    <tr>\n",
       "      <th>167</th>\n",
       "      <td>11.64</td>\n",
       "      <td>9.768662</td>\n",
       "      <td>1.871338</td>\n",
       "    </tr>\n",
       "    <tr>\n",
       "      <th>168</th>\n",
       "      <td>15.36</td>\n",
       "      <td>15.249266</td>\n",
       "      <td>0.110734</td>\n",
       "    </tr>\n",
       "    <tr>\n",
       "      <th>169</th>\n",
       "      <td>30.60</td>\n",
       "      <td>28.735611</td>\n",
       "      <td>1.864389</td>\n",
       "    </tr>\n",
       "    <tr>\n",
       "      <th>170</th>\n",
       "      <td>16.08</td>\n",
       "      <td>18.093790</td>\n",
       "      <td>-2.013790</td>\n",
       "    </tr>\n",
       "  </tbody>\n",
       "</table>\n",
       "<p>171 rows × 3 columns</p>\n",
       "</div>"
      ],
      "text/plain": [
       "     Gercek_Degerler     Tahmin      Hata\n",
       "0              12.60  11.164980  1.435020\n",
       "1              25.68  26.025064 -0.345064\n",
       "2              14.28  13.766342  0.513658\n",
       "3              11.52   9.275311  2.244689\n",
       "4              20.88  22.446400 -1.566400\n",
       "..               ...        ...       ...\n",
       "166             9.12   6.486818  2.633182\n",
       "167            11.64   9.768662  1.871338\n",
       "168            15.36  15.249266  0.110734\n",
       "169            30.60  28.735611  1.864389\n",
       "170            16.08  18.093790 -2.013790\n",
       "\n",
       "[171 rows x 3 columns]"
      ]
     },
     "execution_count": 11,
     "metadata": {},
     "output_type": "execute_result"
    }
   ],
   "source": [
    "df_hata"
   ]
  },
  {
   "cell_type": "markdown",
   "id": "1d8dd3cc",
   "metadata": {},
   "source": [
    "###### _ _ _ _ _ _ _ _ _ _ _ _ _ _ _ _ _ _ _ _ __ _ _ _ _ _ _ _ _ _ _ _ _ _ _ _ _ _ _ _ _ _ _ _ _ _ _ _ _ _ _ _ _ _ _ _ _ _ _ _ _ _ _ _ _ _ _ _ _ _ _ _ _ _ _ _ _ _ _ \n"
   ]
  },
  {
   "cell_type": "markdown",
   "id": "a5c3a2f7",
   "metadata": {},
   "source": [
    "<h1 style=\"background-color:#FF00F7;font-family:newtimeroman;font-size:150%;text-align:left;color:#FFFFFF\">SSE\n",
    "</h1>"
   ]
  },
  {
   "cell_type": "markdown",
   "id": "01389231",
   "metadata": {},
   "source": [
    "#### Her bir gözlem için modelin tahmin ettiği değer ile gerçek değer arasındaki farkların karelerini toplayarak hesaplanır"
   ]
  },
  {
   "cell_type": "code",
   "execution_count": 12,
   "id": "192fe522",
   "metadata": {},
   "outputs": [],
   "source": [
    "df_hata[\"SSE\"] = df_hata[\"Hata\"]**2"
   ]
  },
  {
   "cell_type": "code",
   "execution_count": 13,
   "id": "d363bfa3",
   "metadata": {
    "scrolled": true
   },
   "outputs": [
    {
     "data": {
      "text/html": [
       "<div>\n",
       "<style scoped>\n",
       "    .dataframe tbody tr th:only-of-type {\n",
       "        vertical-align: middle;\n",
       "    }\n",
       "\n",
       "    .dataframe tbody tr th {\n",
       "        vertical-align: top;\n",
       "    }\n",
       "\n",
       "    .dataframe thead th {\n",
       "        text-align: right;\n",
       "    }\n",
       "</style>\n",
       "<table border=\"1\" class=\"dataframe\">\n",
       "  <thead>\n",
       "    <tr style=\"text-align: right;\">\n",
       "      <th></th>\n",
       "      <th>Gercek_Degerler</th>\n",
       "      <th>Tahmin</th>\n",
       "      <th>Hata</th>\n",
       "      <th>SSE</th>\n",
       "    </tr>\n",
       "  </thead>\n",
       "  <tbody>\n",
       "    <tr>\n",
       "      <th>0</th>\n",
       "      <td>12.60</td>\n",
       "      <td>11.164980</td>\n",
       "      <td>1.435020</td>\n",
       "      <td>2.059282</td>\n",
       "    </tr>\n",
       "    <tr>\n",
       "      <th>1</th>\n",
       "      <td>25.68</td>\n",
       "      <td>26.025064</td>\n",
       "      <td>-0.345064</td>\n",
       "      <td>0.119069</td>\n",
       "    </tr>\n",
       "    <tr>\n",
       "      <th>2</th>\n",
       "      <td>14.28</td>\n",
       "      <td>13.766342</td>\n",
       "      <td>0.513658</td>\n",
       "      <td>0.263845</td>\n",
       "    </tr>\n",
       "    <tr>\n",
       "      <th>3</th>\n",
       "      <td>11.52</td>\n",
       "      <td>9.275311</td>\n",
       "      <td>2.244689</td>\n",
       "      <td>5.038629</td>\n",
       "    </tr>\n",
       "    <tr>\n",
       "      <th>4</th>\n",
       "      <td>20.88</td>\n",
       "      <td>22.446400</td>\n",
       "      <td>-1.566400</td>\n",
       "      <td>2.453610</td>\n",
       "    </tr>\n",
       "    <tr>\n",
       "      <th>...</th>\n",
       "      <td>...</td>\n",
       "      <td>...</td>\n",
       "      <td>...</td>\n",
       "      <td>...</td>\n",
       "    </tr>\n",
       "    <tr>\n",
       "      <th>166</th>\n",
       "      <td>9.12</td>\n",
       "      <td>6.486818</td>\n",
       "      <td>2.633182</td>\n",
       "      <td>6.933645</td>\n",
       "    </tr>\n",
       "    <tr>\n",
       "      <th>167</th>\n",
       "      <td>11.64</td>\n",
       "      <td>9.768662</td>\n",
       "      <td>1.871338</td>\n",
       "      <td>3.501908</td>\n",
       "    </tr>\n",
       "    <tr>\n",
       "      <th>168</th>\n",
       "      <td>15.36</td>\n",
       "      <td>15.249266</td>\n",
       "      <td>0.110734</td>\n",
       "      <td>0.012262</td>\n",
       "    </tr>\n",
       "    <tr>\n",
       "      <th>169</th>\n",
       "      <td>30.60</td>\n",
       "      <td>28.735611</td>\n",
       "      <td>1.864389</td>\n",
       "      <td>3.475948</td>\n",
       "    </tr>\n",
       "    <tr>\n",
       "      <th>170</th>\n",
       "      <td>16.08</td>\n",
       "      <td>18.093790</td>\n",
       "      <td>-2.013790</td>\n",
       "      <td>4.055352</td>\n",
       "    </tr>\n",
       "  </tbody>\n",
       "</table>\n",
       "<p>171 rows × 4 columns</p>\n",
       "</div>"
      ],
      "text/plain": [
       "     Gercek_Degerler     Tahmin      Hata       SSE\n",
       "0              12.60  11.164980  1.435020  2.059282\n",
       "1              25.68  26.025064 -0.345064  0.119069\n",
       "2              14.28  13.766342  0.513658  0.263845\n",
       "3              11.52   9.275311  2.244689  5.038629\n",
       "4              20.88  22.446400 -1.566400  2.453610\n",
       "..               ...        ...       ...       ...\n",
       "166             9.12   6.486818  2.633182  6.933645\n",
       "167            11.64   9.768662  1.871338  3.501908\n",
       "168            15.36  15.249266  0.110734  0.012262\n",
       "169            30.60  28.735611  1.864389  3.475948\n",
       "170            16.08  18.093790 -2.013790  4.055352\n",
       "\n",
       "[171 rows x 4 columns]"
      ]
     },
     "execution_count": 13,
     "metadata": {},
     "output_type": "execute_result"
    }
   ],
   "source": [
    "df_hata"
   ]
  },
  {
   "cell_type": "markdown",
   "id": "7a2733fb",
   "metadata": {},
   "source": [
    "###### _ _ _ _ _ _ _ _ _ _ _ _ _ _ _ _ _ _ _ _ __ _ _ _ _ _ _ _ _ _ _ _ _ _ _ _ _ _ _ _ _ _ _ _ _ _ _ _ _ _ _ _ _ _ _ _ _ _ _ _ _ _ _ _ _ _ _ _ _ _ _ _ _ _ _ _ _ _ _ \n"
   ]
  },
  {
   "cell_type": "markdown",
   "id": "ae7e4db3",
   "metadata": {},
   "source": [
    "<h1 style=\"background-color:#FF00F7;font-family:newtimeroman;font-size:150%;text-align:left;color:#FFFFFF\">MAPE\n",
    "</h1>"
   ]
  },
  {
   "cell_type": "code",
   "execution_count": 14,
   "id": "ddcac8c8",
   "metadata": {},
   "outputs": [],
   "source": [
    "df_hata['MAPE'] = (abs(df_hata['Hata'] / df_hata['Gercek_Degerler']) * 100)\n"
   ]
  },
  {
   "cell_type": "code",
   "execution_count": 15,
   "id": "30d08558",
   "metadata": {},
   "outputs": [
    {
     "data": {
      "text/html": [
       "<div>\n",
       "<style scoped>\n",
       "    .dataframe tbody tr th:only-of-type {\n",
       "        vertical-align: middle;\n",
       "    }\n",
       "\n",
       "    .dataframe tbody tr th {\n",
       "        vertical-align: top;\n",
       "    }\n",
       "\n",
       "    .dataframe thead th {\n",
       "        text-align: right;\n",
       "    }\n",
       "</style>\n",
       "<table border=\"1\" class=\"dataframe\">\n",
       "  <thead>\n",
       "    <tr style=\"text-align: right;\">\n",
       "      <th></th>\n",
       "      <th>Gercek_Degerler</th>\n",
       "      <th>Tahmin</th>\n",
       "      <th>Hata</th>\n",
       "      <th>SSE</th>\n",
       "      <th>MAPE</th>\n",
       "    </tr>\n",
       "  </thead>\n",
       "  <tbody>\n",
       "    <tr>\n",
       "      <th>0</th>\n",
       "      <td>12.60</td>\n",
       "      <td>11.164980</td>\n",
       "      <td>1.435020</td>\n",
       "      <td>2.059282</td>\n",
       "      <td>11.389048</td>\n",
       "    </tr>\n",
       "    <tr>\n",
       "      <th>1</th>\n",
       "      <td>25.68</td>\n",
       "      <td>26.025064</td>\n",
       "      <td>-0.345064</td>\n",
       "      <td>0.119069</td>\n",
       "      <td>1.343707</td>\n",
       "    </tr>\n",
       "    <tr>\n",
       "      <th>2</th>\n",
       "      <td>14.28</td>\n",
       "      <td>13.766342</td>\n",
       "      <td>0.513658</td>\n",
       "      <td>0.263845</td>\n",
       "      <td>3.597047</td>\n",
       "    </tr>\n",
       "    <tr>\n",
       "      <th>3</th>\n",
       "      <td>11.52</td>\n",
       "      <td>9.275311</td>\n",
       "      <td>2.244689</td>\n",
       "      <td>5.038629</td>\n",
       "      <td>19.485147</td>\n",
       "    </tr>\n",
       "    <tr>\n",
       "      <th>4</th>\n",
       "      <td>20.88</td>\n",
       "      <td>22.446400</td>\n",
       "      <td>-1.566400</td>\n",
       "      <td>2.453610</td>\n",
       "      <td>7.501917</td>\n",
       "    </tr>\n",
       "    <tr>\n",
       "      <th>...</th>\n",
       "      <td>...</td>\n",
       "      <td>...</td>\n",
       "      <td>...</td>\n",
       "      <td>...</td>\n",
       "      <td>...</td>\n",
       "    </tr>\n",
       "    <tr>\n",
       "      <th>166</th>\n",
       "      <td>9.12</td>\n",
       "      <td>6.486818</td>\n",
       "      <td>2.633182</td>\n",
       "      <td>6.933645</td>\n",
       "      <td>28.872604</td>\n",
       "    </tr>\n",
       "    <tr>\n",
       "      <th>167</th>\n",
       "      <td>11.64</td>\n",
       "      <td>9.768662</td>\n",
       "      <td>1.871338</td>\n",
       "      <td>3.501908</td>\n",
       "      <td>16.076791</td>\n",
       "    </tr>\n",
       "    <tr>\n",
       "      <th>168</th>\n",
       "      <td>15.36</td>\n",
       "      <td>15.249266</td>\n",
       "      <td>0.110734</td>\n",
       "      <td>0.012262</td>\n",
       "      <td>0.720927</td>\n",
       "    </tr>\n",
       "    <tr>\n",
       "      <th>169</th>\n",
       "      <td>30.60</td>\n",
       "      <td>28.735611</td>\n",
       "      <td>1.864389</td>\n",
       "      <td>3.475948</td>\n",
       "      <td>6.092776</td>\n",
       "    </tr>\n",
       "    <tr>\n",
       "      <th>170</th>\n",
       "      <td>16.08</td>\n",
       "      <td>18.093790</td>\n",
       "      <td>-2.013790</td>\n",
       "      <td>4.055352</td>\n",
       "      <td>12.523572</td>\n",
       "    </tr>\n",
       "  </tbody>\n",
       "</table>\n",
       "<p>171 rows × 5 columns</p>\n",
       "</div>"
      ],
      "text/plain": [
       "     Gercek_Degerler     Tahmin      Hata       SSE       MAPE\n",
       "0              12.60  11.164980  1.435020  2.059282  11.389048\n",
       "1              25.68  26.025064 -0.345064  0.119069   1.343707\n",
       "2              14.28  13.766342  0.513658  0.263845   3.597047\n",
       "3              11.52   9.275311  2.244689  5.038629  19.485147\n",
       "4              20.88  22.446400 -1.566400  2.453610   7.501917\n",
       "..               ...        ...       ...       ...        ...\n",
       "166             9.12   6.486818  2.633182  6.933645  28.872604\n",
       "167            11.64   9.768662  1.871338  3.501908  16.076791\n",
       "168            15.36  15.249266  0.110734  0.012262   0.720927\n",
       "169            30.60  28.735611  1.864389  3.475948   6.092776\n",
       "170            16.08  18.093790 -2.013790  4.055352  12.523572\n",
       "\n",
       "[171 rows x 5 columns]"
      ]
     },
     "execution_count": 15,
     "metadata": {},
     "output_type": "execute_result"
    }
   ],
   "source": [
    "df_hata"
   ]
  },
  {
   "cell_type": "code",
   "execution_count": 16,
   "id": "9674af21",
   "metadata": {},
   "outputs": [
    {
     "data": {
      "text/plain": [
       "14.076282723258855"
      ]
     },
     "execution_count": 16,
     "metadata": {},
     "output_type": "execute_result"
    }
   ],
   "source": [
    "mape = df_hata['MAPE'].mean()\n",
    "mape"
   ]
  },
  {
   "cell_type": "markdown",
   "id": "d2ebfedb",
   "metadata": {},
   "source": [
    "0% MAPE: Mükemmel tahmin demektir. Modelin tahminleri, gerçek değerlerle tam olarak örtüşmektedir.\n",
    "\n",
    "0% - 10% MAPE: Çok iyi bir tahmin modelini gösterir.\n",
    "\n",
    "10% - 20% MAPE: Kabul edilebilir bir tahmin modelini gösterir.\n",
    "\n",
    "20% - 50% MAPE: Orta seviyede bir tahmin modelini gösterir.\n",
    "\n",
    "%50 ve üzeri MAPE: Düşük bir tahmin doğruluğunu gösterir ve genellikle kabul edilemez olarak değerlendiril"
   ]
  },
  {
   "cell_type": "markdown",
   "id": "9cef5c09",
   "metadata": {},
   "source": [
    "Mape değerimiz %14 çıktığı için kabul edilebilir bir tahmin olduğunu söyleyebiliriz"
   ]
  },
  {
   "cell_type": "markdown",
   "id": "1d5422c6",
   "metadata": {},
   "source": [
    "###### _ _ _ _ _ _ _ _ _ _ _ _ _ _ _ _ _ _ _ _ __ _ _ _ _ _ _ _ _ _ _ _ _ _ _ _ _ _ _ _ _ _ _ _ _ _ _ _ _ _ _ _ _ _ _ _ _ _ _ _ _ _ _ _ _ _ _ _ _ _ _ _ _ _ _ _ _ _ _ \n"
   ]
  },
  {
   "cell_type": "markdown",
   "id": "2134911b",
   "metadata": {},
   "source": [
    "<h1 style=\"background-color:#FF00F7;font-family:newtimeroman;font-size:150%;text-align:left;color:#FFFFFF\">MAE\n",
    "</h1>"
   ]
  },
  {
   "cell_type": "code",
   "execution_count": 17,
   "id": "ca80afd5",
   "metadata": {},
   "outputs": [],
   "source": [
    "df_hata['MAE'] = np.abs(df_hata['Gercek_Degerler'] - df_hata['Hata'])\n"
   ]
  },
  {
   "cell_type": "code",
   "execution_count": 18,
   "id": "bc2c99d8",
   "metadata": {
    "scrolled": true
   },
   "outputs": [
    {
     "data": {
      "text/html": [
       "<style type=\"text/css\">\n",
       "</style>\n",
       "<table id=\"T_ca12d\">\n",
       "  <thead>\n",
       "    <tr>\n",
       "      <th class=\"blank level0\" >&nbsp;</th>\n",
       "      <th id=\"T_ca12d_level0_col0\" class=\"col_heading level0 col0\" >Gercek_Degerler</th>\n",
       "      <th id=\"T_ca12d_level0_col1\" class=\"col_heading level0 col1\" >Tahmin</th>\n",
       "      <th id=\"T_ca12d_level0_col2\" class=\"col_heading level0 col2\" >Hata</th>\n",
       "      <th id=\"T_ca12d_level0_col3\" class=\"col_heading level0 col3\" >SSE</th>\n",
       "      <th id=\"T_ca12d_level0_col4\" class=\"col_heading level0 col4\" >MAPE</th>\n",
       "      <th id=\"T_ca12d_level0_col5\" class=\"col_heading level0 col5\" >MAE</th>\n",
       "    </tr>\n",
       "  </thead>\n",
       "  <tbody>\n",
       "    <tr>\n",
       "      <th id=\"T_ca12d_level0_row0\" class=\"row_heading level0 row0\" >0</th>\n",
       "      <td id=\"T_ca12d_row0_col0\" class=\"data row0 col0\" >12.600000</td>\n",
       "      <td id=\"T_ca12d_row0_col1\" class=\"data row0 col1\" >11.164980</td>\n",
       "      <td id=\"T_ca12d_row0_col2\" class=\"data row0 col2\" >1.435020</td>\n",
       "      <td id=\"T_ca12d_row0_col3\" class=\"data row0 col3\" >2.059282</td>\n",
       "      <td id=\"T_ca12d_row0_col4\" class=\"data row0 col4\" >11.389048</td>\n",
       "      <td id=\"T_ca12d_row0_col5\" class=\"data row0 col5\" >11.164980</td>\n",
       "    </tr>\n",
       "    <tr>\n",
       "      <th id=\"T_ca12d_level0_row1\" class=\"row_heading level0 row1\" >1</th>\n",
       "      <td id=\"T_ca12d_row1_col0\" class=\"data row1 col0\" >25.680000</td>\n",
       "      <td id=\"T_ca12d_row1_col1\" class=\"data row1 col1\" >26.025064</td>\n",
       "      <td id=\"T_ca12d_row1_col2\" class=\"data row1 col2\" >-0.345064</td>\n",
       "      <td id=\"T_ca12d_row1_col3\" class=\"data row1 col3\" >0.119069</td>\n",
       "      <td id=\"T_ca12d_row1_col4\" class=\"data row1 col4\" >1.343707</td>\n",
       "      <td id=\"T_ca12d_row1_col5\" class=\"data row1 col5\" >26.025064</td>\n",
       "    </tr>\n",
       "    <tr>\n",
       "      <th id=\"T_ca12d_level0_row2\" class=\"row_heading level0 row2\" >2</th>\n",
       "      <td id=\"T_ca12d_row2_col0\" class=\"data row2 col0\" >14.280000</td>\n",
       "      <td id=\"T_ca12d_row2_col1\" class=\"data row2 col1\" >13.766342</td>\n",
       "      <td id=\"T_ca12d_row2_col2\" class=\"data row2 col2\" >0.513658</td>\n",
       "      <td id=\"T_ca12d_row2_col3\" class=\"data row2 col3\" >0.263845</td>\n",
       "      <td id=\"T_ca12d_row2_col4\" class=\"data row2 col4\" >3.597047</td>\n",
       "      <td id=\"T_ca12d_row2_col5\" class=\"data row2 col5\" >13.766342</td>\n",
       "    </tr>\n",
       "    <tr>\n",
       "      <th id=\"T_ca12d_level0_row3\" class=\"row_heading level0 row3\" >3</th>\n",
       "      <td id=\"T_ca12d_row3_col0\" class=\"data row3 col0\" >11.520000</td>\n",
       "      <td id=\"T_ca12d_row3_col1\" class=\"data row3 col1\" >9.275311</td>\n",
       "      <td id=\"T_ca12d_row3_col2\" class=\"data row3 col2\" >2.244689</td>\n",
       "      <td id=\"T_ca12d_row3_col3\" class=\"data row3 col3\" >5.038629</td>\n",
       "      <td id=\"T_ca12d_row3_col4\" class=\"data row3 col4\" >19.485147</td>\n",
       "      <td id=\"T_ca12d_row3_col5\" class=\"data row3 col5\" >9.275311</td>\n",
       "    </tr>\n",
       "    <tr>\n",
       "      <th id=\"T_ca12d_level0_row4\" class=\"row_heading level0 row4\" >4</th>\n",
       "      <td id=\"T_ca12d_row4_col0\" class=\"data row4 col0\" >20.880000</td>\n",
       "      <td id=\"T_ca12d_row4_col1\" class=\"data row4 col1\" >22.446400</td>\n",
       "      <td id=\"T_ca12d_row4_col2\" class=\"data row4 col2\" >-1.566400</td>\n",
       "      <td id=\"T_ca12d_row4_col3\" class=\"data row4 col3\" >2.453610</td>\n",
       "      <td id=\"T_ca12d_row4_col4\" class=\"data row4 col4\" >7.501917</td>\n",
       "      <td id=\"T_ca12d_row4_col5\" class=\"data row4 col5\" >22.446400</td>\n",
       "    </tr>\n",
       "  </tbody>\n",
       "</table>\n"
      ],
      "text/plain": [
       "<pandas.io.formats.style.Styler at 0x26b15588350>"
      ]
     },
     "execution_count": 18,
     "metadata": {},
     "output_type": "execute_result"
    }
   ],
   "source": [
    "df_hata.head().style"
   ]
  },
  {
   "cell_type": "markdown",
   "id": "a60e086d",
   "metadata": {},
   "source": [
    "###### _ _ _ _ _ _ _ _ _ _ _ _ _ _ _ _ _ _ _ _ __ _ _ _ _ _ _ _ _ _ _ _ _ _ _ _ _ _ _ _ _ _ _ _ _ _ _ _ _ _ _ _ _ _ _ _ _ _ _ _ _ _ _ _ _ _ _ _ _ _ _ _ _ _ _ _ _ _ _ \n"
   ]
  },
  {
   "cell_type": "markdown",
   "id": "550eefb0",
   "metadata": {},
   "source": [
    "<h1 style=\"background-color:#FF00F7;font-family:newtimeroman;font-size:150%;text-align:left;color:#FFFFFF\">MSE\n",
    "</h1>"
   ]
  },
  {
   "cell_type": "code",
   "execution_count": 19,
   "id": "7455aca9",
   "metadata": {},
   "outputs": [],
   "source": [
    "df_hata['MSE'] = ((df_hata['Gercek_Degerler'] - df_hata['Tahmin']) ** 2).mean()\n"
   ]
  },
  {
   "cell_type": "code",
   "execution_count": 20,
   "id": "978e92b5",
   "metadata": {
    "scrolled": true
   },
   "outputs": [
    {
     "data": {
      "text/html": [
       "<div>\n",
       "<style scoped>\n",
       "    .dataframe tbody tr th:only-of-type {\n",
       "        vertical-align: middle;\n",
       "    }\n",
       "\n",
       "    .dataframe tbody tr th {\n",
       "        vertical-align: top;\n",
       "    }\n",
       "\n",
       "    .dataframe thead th {\n",
       "        text-align: right;\n",
       "    }\n",
       "</style>\n",
       "<table border=\"1\" class=\"dataframe\">\n",
       "  <thead>\n",
       "    <tr style=\"text-align: right;\">\n",
       "      <th></th>\n",
       "      <th>Gercek_Degerler</th>\n",
       "      <th>Tahmin</th>\n",
       "      <th>Hata</th>\n",
       "      <th>SSE</th>\n",
       "      <th>MAPE</th>\n",
       "      <th>MAE</th>\n",
       "      <th>MSE</th>\n",
       "    </tr>\n",
       "  </thead>\n",
       "  <tbody>\n",
       "    <tr>\n",
       "      <th>0</th>\n",
       "      <td>12.60</td>\n",
       "      <td>11.164980</td>\n",
       "      <td>1.435020</td>\n",
       "      <td>2.059282</td>\n",
       "      <td>11.389048</td>\n",
       "      <td>11.164980</td>\n",
       "      <td>3.94527</td>\n",
       "    </tr>\n",
       "    <tr>\n",
       "      <th>1</th>\n",
       "      <td>25.68</td>\n",
       "      <td>26.025064</td>\n",
       "      <td>-0.345064</td>\n",
       "      <td>0.119069</td>\n",
       "      <td>1.343707</td>\n",
       "      <td>26.025064</td>\n",
       "      <td>3.94527</td>\n",
       "    </tr>\n",
       "    <tr>\n",
       "      <th>2</th>\n",
       "      <td>14.28</td>\n",
       "      <td>13.766342</td>\n",
       "      <td>0.513658</td>\n",
       "      <td>0.263845</td>\n",
       "      <td>3.597047</td>\n",
       "      <td>13.766342</td>\n",
       "      <td>3.94527</td>\n",
       "    </tr>\n",
       "    <tr>\n",
       "      <th>3</th>\n",
       "      <td>11.52</td>\n",
       "      <td>9.275311</td>\n",
       "      <td>2.244689</td>\n",
       "      <td>5.038629</td>\n",
       "      <td>19.485147</td>\n",
       "      <td>9.275311</td>\n",
       "      <td>3.94527</td>\n",
       "    </tr>\n",
       "    <tr>\n",
       "      <th>4</th>\n",
       "      <td>20.88</td>\n",
       "      <td>22.446400</td>\n",
       "      <td>-1.566400</td>\n",
       "      <td>2.453610</td>\n",
       "      <td>7.501917</td>\n",
       "      <td>22.446400</td>\n",
       "      <td>3.94527</td>\n",
       "    </tr>\n",
       "    <tr>\n",
       "      <th>...</th>\n",
       "      <td>...</td>\n",
       "      <td>...</td>\n",
       "      <td>...</td>\n",
       "      <td>...</td>\n",
       "      <td>...</td>\n",
       "      <td>...</td>\n",
       "      <td>...</td>\n",
       "    </tr>\n",
       "    <tr>\n",
       "      <th>166</th>\n",
       "      <td>9.12</td>\n",
       "      <td>6.486818</td>\n",
       "      <td>2.633182</td>\n",
       "      <td>6.933645</td>\n",
       "      <td>28.872604</td>\n",
       "      <td>6.486818</td>\n",
       "      <td>3.94527</td>\n",
       "    </tr>\n",
       "    <tr>\n",
       "      <th>167</th>\n",
       "      <td>11.64</td>\n",
       "      <td>9.768662</td>\n",
       "      <td>1.871338</td>\n",
       "      <td>3.501908</td>\n",
       "      <td>16.076791</td>\n",
       "      <td>9.768662</td>\n",
       "      <td>3.94527</td>\n",
       "    </tr>\n",
       "    <tr>\n",
       "      <th>168</th>\n",
       "      <td>15.36</td>\n",
       "      <td>15.249266</td>\n",
       "      <td>0.110734</td>\n",
       "      <td>0.012262</td>\n",
       "      <td>0.720927</td>\n",
       "      <td>15.249266</td>\n",
       "      <td>3.94527</td>\n",
       "    </tr>\n",
       "    <tr>\n",
       "      <th>169</th>\n",
       "      <td>30.60</td>\n",
       "      <td>28.735611</td>\n",
       "      <td>1.864389</td>\n",
       "      <td>3.475948</td>\n",
       "      <td>6.092776</td>\n",
       "      <td>28.735611</td>\n",
       "      <td>3.94527</td>\n",
       "    </tr>\n",
       "    <tr>\n",
       "      <th>170</th>\n",
       "      <td>16.08</td>\n",
       "      <td>18.093790</td>\n",
       "      <td>-2.013790</td>\n",
       "      <td>4.055352</td>\n",
       "      <td>12.523572</td>\n",
       "      <td>18.093790</td>\n",
       "      <td>3.94527</td>\n",
       "    </tr>\n",
       "  </tbody>\n",
       "</table>\n",
       "<p>171 rows × 7 columns</p>\n",
       "</div>"
      ],
      "text/plain": [
       "     Gercek_Degerler     Tahmin      Hata       SSE       MAPE        MAE  \\\n",
       "0              12.60  11.164980  1.435020  2.059282  11.389048  11.164980   \n",
       "1              25.68  26.025064 -0.345064  0.119069   1.343707  26.025064   \n",
       "2              14.28  13.766342  0.513658  0.263845   3.597047  13.766342   \n",
       "3              11.52   9.275311  2.244689  5.038629  19.485147   9.275311   \n",
       "4              20.88  22.446400 -1.566400  2.453610   7.501917  22.446400   \n",
       "..               ...        ...       ...       ...        ...        ...   \n",
       "166             9.12   6.486818  2.633182  6.933645  28.872604   6.486818   \n",
       "167            11.64   9.768662  1.871338  3.501908  16.076791   9.768662   \n",
       "168            15.36  15.249266  0.110734  0.012262   0.720927  15.249266   \n",
       "169            30.60  28.735611  1.864389  3.475948   6.092776  28.735611   \n",
       "170            16.08  18.093790 -2.013790  4.055352  12.523572  18.093790   \n",
       "\n",
       "         MSE  \n",
       "0    3.94527  \n",
       "1    3.94527  \n",
       "2    3.94527  \n",
       "3    3.94527  \n",
       "4    3.94527  \n",
       "..       ...  \n",
       "166  3.94527  \n",
       "167  3.94527  \n",
       "168  3.94527  \n",
       "169  3.94527  \n",
       "170  3.94527  \n",
       "\n",
       "[171 rows x 7 columns]"
      ]
     },
     "execution_count": 20,
     "metadata": {},
     "output_type": "execute_result"
    }
   ],
   "source": [
    "df_hata"
   ]
  },
  {
   "cell_type": "markdown",
   "id": "125e5aa0",
   "metadata": {},
   "source": [
    "###### _ _ _ _ _ _ _ _ _ _ _ _ _ _ _ _ _ _ _ _ __ _ _ _ _ _ _ _ _ _ _ _ _ _ _ _ _ _ _ _ _ _ _ _ _ _ _ _ _ _ _ _ _ _ _ _ _ _ _ _ _ _ _ _ _ _ _ _ _ _ _ _ _ _ _ _ _ _ _ \n"
   ]
  },
  {
   "cell_type": "markdown",
   "id": "ef5bc9a1",
   "metadata": {},
   "source": [
    "<h1 style=\"background-color:#FF00F7;font-family:newtimeroman;font-size:150%;text-align:left;color:#FFFFFF\">RMSE\n",
    "</h1>"
   ]
  },
  {
   "cell_type": "code",
   "execution_count": 21,
   "id": "8faf7999",
   "metadata": {},
   "outputs": [],
   "source": [
    "df_hata['RMSE'] = np.sqrt(df_hata['MSE'])\n"
   ]
  },
  {
   "cell_type": "code",
   "execution_count": 22,
   "id": "91b4dbb5",
   "metadata": {
    "scrolled": true
   },
   "outputs": [
    {
     "data": {
      "text/html": [
       "<style type=\"text/css\">\n",
       "</style>\n",
       "<table id=\"T_f2904\">\n",
       "  <thead>\n",
       "    <tr>\n",
       "      <th class=\"blank level0\" >&nbsp;</th>\n",
       "      <th id=\"T_f2904_level0_col0\" class=\"col_heading level0 col0\" >Gercek_Degerler</th>\n",
       "      <th id=\"T_f2904_level0_col1\" class=\"col_heading level0 col1\" >Tahmin</th>\n",
       "      <th id=\"T_f2904_level0_col2\" class=\"col_heading level0 col2\" >Hata</th>\n",
       "      <th id=\"T_f2904_level0_col3\" class=\"col_heading level0 col3\" >SSE</th>\n",
       "      <th id=\"T_f2904_level0_col4\" class=\"col_heading level0 col4\" >MAPE</th>\n",
       "      <th id=\"T_f2904_level0_col5\" class=\"col_heading level0 col5\" >MAE</th>\n",
       "      <th id=\"T_f2904_level0_col6\" class=\"col_heading level0 col6\" >MSE</th>\n",
       "      <th id=\"T_f2904_level0_col7\" class=\"col_heading level0 col7\" >RMSE</th>\n",
       "    </tr>\n",
       "  </thead>\n",
       "  <tbody>\n",
       "    <tr>\n",
       "      <th id=\"T_f2904_level0_row0\" class=\"row_heading level0 row0\" >0</th>\n",
       "      <td id=\"T_f2904_row0_col0\" class=\"data row0 col0\" >12.600000</td>\n",
       "      <td id=\"T_f2904_row0_col1\" class=\"data row0 col1\" >11.164980</td>\n",
       "      <td id=\"T_f2904_row0_col2\" class=\"data row0 col2\" >1.435020</td>\n",
       "      <td id=\"T_f2904_row0_col3\" class=\"data row0 col3\" >2.059282</td>\n",
       "      <td id=\"T_f2904_row0_col4\" class=\"data row0 col4\" >11.389048</td>\n",
       "      <td id=\"T_f2904_row0_col5\" class=\"data row0 col5\" >11.164980</td>\n",
       "      <td id=\"T_f2904_row0_col6\" class=\"data row0 col6\" >3.945270</td>\n",
       "      <td id=\"T_f2904_row0_col7\" class=\"data row0 col7\" >1.986270</td>\n",
       "    </tr>\n",
       "    <tr>\n",
       "      <th id=\"T_f2904_level0_row1\" class=\"row_heading level0 row1\" >1</th>\n",
       "      <td id=\"T_f2904_row1_col0\" class=\"data row1 col0\" >25.680000</td>\n",
       "      <td id=\"T_f2904_row1_col1\" class=\"data row1 col1\" >26.025064</td>\n",
       "      <td id=\"T_f2904_row1_col2\" class=\"data row1 col2\" >-0.345064</td>\n",
       "      <td id=\"T_f2904_row1_col3\" class=\"data row1 col3\" >0.119069</td>\n",
       "      <td id=\"T_f2904_row1_col4\" class=\"data row1 col4\" >1.343707</td>\n",
       "      <td id=\"T_f2904_row1_col5\" class=\"data row1 col5\" >26.025064</td>\n",
       "      <td id=\"T_f2904_row1_col6\" class=\"data row1 col6\" >3.945270</td>\n",
       "      <td id=\"T_f2904_row1_col7\" class=\"data row1 col7\" >1.986270</td>\n",
       "    </tr>\n",
       "    <tr>\n",
       "      <th id=\"T_f2904_level0_row2\" class=\"row_heading level0 row2\" >2</th>\n",
       "      <td id=\"T_f2904_row2_col0\" class=\"data row2 col0\" >14.280000</td>\n",
       "      <td id=\"T_f2904_row2_col1\" class=\"data row2 col1\" >13.766342</td>\n",
       "      <td id=\"T_f2904_row2_col2\" class=\"data row2 col2\" >0.513658</td>\n",
       "      <td id=\"T_f2904_row2_col3\" class=\"data row2 col3\" >0.263845</td>\n",
       "      <td id=\"T_f2904_row2_col4\" class=\"data row2 col4\" >3.597047</td>\n",
       "      <td id=\"T_f2904_row2_col5\" class=\"data row2 col5\" >13.766342</td>\n",
       "      <td id=\"T_f2904_row2_col6\" class=\"data row2 col6\" >3.945270</td>\n",
       "      <td id=\"T_f2904_row2_col7\" class=\"data row2 col7\" >1.986270</td>\n",
       "    </tr>\n",
       "    <tr>\n",
       "      <th id=\"T_f2904_level0_row3\" class=\"row_heading level0 row3\" >3</th>\n",
       "      <td id=\"T_f2904_row3_col0\" class=\"data row3 col0\" >11.520000</td>\n",
       "      <td id=\"T_f2904_row3_col1\" class=\"data row3 col1\" >9.275311</td>\n",
       "      <td id=\"T_f2904_row3_col2\" class=\"data row3 col2\" >2.244689</td>\n",
       "      <td id=\"T_f2904_row3_col3\" class=\"data row3 col3\" >5.038629</td>\n",
       "      <td id=\"T_f2904_row3_col4\" class=\"data row3 col4\" >19.485147</td>\n",
       "      <td id=\"T_f2904_row3_col5\" class=\"data row3 col5\" >9.275311</td>\n",
       "      <td id=\"T_f2904_row3_col6\" class=\"data row3 col6\" >3.945270</td>\n",
       "      <td id=\"T_f2904_row3_col7\" class=\"data row3 col7\" >1.986270</td>\n",
       "    </tr>\n",
       "    <tr>\n",
       "      <th id=\"T_f2904_level0_row4\" class=\"row_heading level0 row4\" >4</th>\n",
       "      <td id=\"T_f2904_row4_col0\" class=\"data row4 col0\" >20.880000</td>\n",
       "      <td id=\"T_f2904_row4_col1\" class=\"data row4 col1\" >22.446400</td>\n",
       "      <td id=\"T_f2904_row4_col2\" class=\"data row4 col2\" >-1.566400</td>\n",
       "      <td id=\"T_f2904_row4_col3\" class=\"data row4 col3\" >2.453610</td>\n",
       "      <td id=\"T_f2904_row4_col4\" class=\"data row4 col4\" >7.501917</td>\n",
       "      <td id=\"T_f2904_row4_col5\" class=\"data row4 col5\" >22.446400</td>\n",
       "      <td id=\"T_f2904_row4_col6\" class=\"data row4 col6\" >3.945270</td>\n",
       "      <td id=\"T_f2904_row4_col7\" class=\"data row4 col7\" >1.986270</td>\n",
       "    </tr>\n",
       "  </tbody>\n",
       "</table>\n"
      ],
      "text/plain": [
       "<pandas.io.formats.style.Styler at 0x26b17ccf250>"
      ]
     },
     "execution_count": 22,
     "metadata": {},
     "output_type": "execute_result"
    }
   ],
   "source": [
    "df_hata.head().style"
   ]
  },
  {
   "cell_type": "markdown",
   "id": "4100b222",
   "metadata": {},
   "source": [
    "###### _ _ _ _ _ _ _ _ _ _ _ _ _ _ _ _ _ _ _ _ __ _ _ _ _ _ _ _ _ _ _ _ _ _ _ _ _ _ _ _ _ _ _ _ _ _ _ _ _ _ _ _ _ _ _ _ _ _ _ _ _ _ _ _ _ _ _ _ _ _ _ _ _ _ _ _ _ _ _ \n"
   ]
  },
  {
   "cell_type": "markdown",
   "id": "4ed41fa1",
   "metadata": {},
   "source": [
    "<h1 style=\"background-color:#FFA500;font-family:newtimeroman;font-size:200%;text-align:center;color:#FFFFFF\">ANOVA\n",
    "</h1>\n"
   ]
  },
  {
   "cell_type": "code",
   "execution_count": 23,
   "id": "d77ef448",
   "metadata": {},
   "outputs": [
    {
     "data": {
      "text/html": [
       "<div>\n",
       "<style scoped>\n",
       "    .dataframe tbody tr th:only-of-type {\n",
       "        vertical-align: middle;\n",
       "    }\n",
       "\n",
       "    .dataframe tbody tr th {\n",
       "        vertical-align: top;\n",
       "    }\n",
       "\n",
       "    .dataframe thead th {\n",
       "        text-align: right;\n",
       "    }\n",
       "</style>\n",
       "<table border=\"1\" class=\"dataframe\">\n",
       "  <thead>\n",
       "    <tr style=\"text-align: right;\">\n",
       "      <th></th>\n",
       "      <th>df</th>\n",
       "      <th>sum_sq</th>\n",
       "      <th>mean_sq</th>\n",
       "      <th>F</th>\n",
       "      <th>PR(&gt;F)</th>\n",
       "    </tr>\n",
       "  </thead>\n",
       "  <tbody>\n",
       "    <tr>\n",
       "      <th>X</th>\n",
       "      <td>3.0</td>\n",
       "      <td>6103.984713</td>\n",
       "      <td>2034.661571</td>\n",
       "      <td>503.658112</td>\n",
       "      <td>2.089355e-83</td>\n",
       "    </tr>\n",
       "    <tr>\n",
       "      <th>Residual</th>\n",
       "      <td>167.0</td>\n",
       "      <td>674.641139</td>\n",
       "      <td>4.039767</td>\n",
       "      <td>NaN</td>\n",
       "      <td>NaN</td>\n",
       "    </tr>\n",
       "  </tbody>\n",
       "</table>\n",
       "</div>"
      ],
      "text/plain": [
       "             df       sum_sq      mean_sq           F        PR(>F)\n",
       "X           3.0  6103.984713  2034.661571  503.658112  2.089355e-83\n",
       "Residual  167.0   674.641139     4.039767         NaN           NaN"
      ]
     },
     "execution_count": 23,
     "metadata": {},
     "output_type": "execute_result"
    }
   ],
   "source": [
    "model = ols(\"y ~ X\", data).fit()\n",
    "anova_results = anova_lm(model)\n",
    "anova_results"
   ]
  },
  {
   "cell_type": "markdown",
   "id": "7de1781a",
   "metadata": {},
   "source": [
    "<h1 style=\"background-color:#FF00F7;font-family:newtimeroman;font-size:150%;text-align:left;color:#FFFFFF\">Youtube Değişkeni:\n",
    "\n",
    "</h1>"
   ]
  },
  {
   "cell_type": "markdown",
   "id": "5b079a7b",
   "metadata": {},
   "source": [
    "$H_0$: youtube değişkenin bağımlı değişken üzerinde bir etkisi yoktur. (β1 = 0)\n",
    "\n",
    "$H_1$ : youtube değişkeni, bağımlı değişken üzerinde anlamlı bir etkiye sahiptir. (β1 ≠ 0)\n",
    "\n",
    "Tablodaki p-değeri (PR(>F)) oldukça küçüktür (3.262222e-73), bu da H0'ı reddetmemize olanak tanır. Bu nedenle, Youtube faktörü bağımlı değişken üzerinde anlamlı bir etkiye sahiptir."
   ]
  },
  {
   "cell_type": "markdown",
   "id": "4014d70f",
   "metadata": {},
   "source": [
    "###### _ _ _ _ _ _ _ _ _ _ _ _ _ _ _ _ _ _ _ _ __ _ _ _ _ _ _ _ _ _ _ _ _ _ _ _ _ _ _ _ _ _ _ _ _ _ _ _ _ _ _ _ _ _ _ _ _ _ _ _ _ _ _ _ _ _ _ _ _ _ _ _ _ _ _ _ _ _ _ \n"
   ]
  },
  {
   "cell_type": "markdown",
   "id": "1bb607f5",
   "metadata": {},
   "source": [
    "<h1 style=\"background-color:#FF00F7;font-family:newtimeroman;font-size:150%;text-align:left;color:#FFFFFF\">Facebook Değişkeni:\n",
    "\n",
    "</h1>"
   ]
  },
  {
   "cell_type": "markdown",
   "id": "515a202b",
   "metadata": {},
   "source": [
    "$H_0$: facebook değişkenin bağımlı değişken üzerinde bir etkisi yoktur. (β2 = 0)\n",
    "\n",
    "$H_1$ : facebook değişkeni, bağımlı değişken üzerinde anlamlı bir etkiye sahiptir. (β2 ≠ 0)\n",
    "\n",
    "Tablodaki p-değeri (PR(>F)) oldukça küçüktür (3.142090e-51), bu da H0'ı reddetmemize olanak tanır. Bu nedenle, facebook değişkeni bağımlı değişken üzerinde anlamlı bir etkiye sahiptir."
   ]
  },
  {
   "cell_type": "markdown",
   "id": "5559f73c",
   "metadata": {},
   "source": [
    "###### _ _ _ _ _ _ _ _ _ _ _ _ _ _ _ _ _ _ _ _ __ _ _ _ _ _ _ _ _ _ _ _ _ _ _ _ _ _ _ _ _ _ _ _ _ _ _ _ _ _ _ _ _ _ _ _ _ _ _ _ _ _ _ _ _ _ _ _ _ _ _ _ _ _ _ _ _ _ _ \n"
   ]
  },
  {
   "cell_type": "markdown",
   "id": "babfecf9",
   "metadata": {},
   "source": [
    "<h1 style=\"background-color:#FF00F7;font-family:newtimeroman;font-size:150%;text-align:left;color:#FFFFFF\">Newspaper Değişkeni:\n",
    "\n",
    "</h1>"
   ]
  },
  {
   "cell_type": "markdown",
   "id": "502b2fb3",
   "metadata": {},
   "source": [
    "$H_0$: newspaper değişkenin bağımlı değişken üzerinde bir etkisi yoktur. (β3 = 0)\n",
    "\n",
    "$H_1$ : newspaper değişkeni, bağımlı değişken üzerinde anlamlı bir etkiye sahiptir. (β3 ≠ 0)\n",
    "\n",
    "Tablodaki p-değeri (PR(>F)) büyük olduğu için H0'ı reddedemeyiz. Bu nedenle, newspaper değişkeni bağımlı değişken üzerinde anlamlı bir bir etkiye sahip değildir."
   ]
  },
  {
   "cell_type": "markdown",
   "id": "aa2f31ef",
   "metadata": {},
   "source": [
    "<h1 style=\"background-color:#FFA500;font-family:newtimeroman;font-size:200%;text-align:center;color:#FFFFFF\">Gruplar Arasındaki Farkı Test Etmek İçin İstatistiksel Testler\n",
    "</h1>\n"
   ]
  },
  {
   "cell_type": "markdown",
   "id": "c7a9608c",
   "metadata": {},
   "source": [
    "<h1 style=\"background-color:#FF00F7;font-family:newtimeroman;font-size:150%;text-align:left;color:#FFFFFF\">Mann-Whitney U Testi (Wilcoxon Rank Sum Test):\n",
    "</h1>"
   ]
  },
  {
   "cell_type": "markdown",
   "id": "814cda1b",
   "metadata": {},
   "source": [
    "###### $H_0$ : İki grup arasında medyan farklılığı yoktur.\n",
    "###### $H_1$ : İki grup arasında medyan farklılığı vardır."
   ]
  },
  {
   "cell_type": "code",
   "execution_count": 24,
   "id": "22b6b543",
   "metadata": {},
   "outputs": [
    {
     "name": "stdout",
     "output_type": "stream",
     "text": [
      "Mann-Whitney U Test İstatistiği: 26749.0\n",
      "P-değeri: 3.647283428087433e-40\n",
      "İki grup arasında anlamlı bir medyan farklılığı vardır. (H0 reddedildi)\n"
     ]
    }
   ],
   "source": [
    "statistic, p_value = stats.mannwhitneyu(df[\"youtube\"], df[\"facebook\"], alternative='two-sided')\n",
    "\n",
    "print(\"Mann-Whitney U Test İstatistiği:\", statistic)\n",
    "print(\"P-değeri:\", p_value)\n",
    "\n",
    "alpha = 0.05\n",
    "if p_value < alpha:\n",
    "    print(\"İki grup arasında anlamlı bir medyan farklılığı vardır. (H0 reddedildi)\")\n",
    "else:\n",
    "    print(\"İki grup arasında anlamlı bir medyan farklılığı yoktur. (H0 kabul edildi)\")"
   ]
  },
  {
   "cell_type": "code",
   "execution_count": 25,
   "id": "0bcea39e",
   "metadata": {},
   "outputs": [
    {
     "name": "stdout",
     "output_type": "stream",
     "text": [
      "Mann-Whitney U Test İstatistiği: 26176.5\n",
      "P-değeri: 1.2748361032419896e-36\n",
      "İki grup arasında anlamlı bir medyan farklılığı vardır. (H0 reddedildi)\n"
     ]
    }
   ],
   "source": [
    "statistic, p_value = stats.mannwhitneyu(df[\"youtube\"], df[\"newspaper\"], alternative='two-sided')\n",
    "\n",
    "print(\"Mann-Whitney U Test İstatistiği:\", statistic)\n",
    "print(\"P-değeri:\", p_value)\n",
    "\n",
    "alpha = 0.05\n",
    "if p_value < alpha:\n",
    "    print(\"İki grup arasında anlamlı bir medyan farklılığı vardır. (H0 reddedildi)\")\n",
    "else:\n",
    "    print(\"İki grup arasında anlamlı bir medyan farklılığı yoktur. (H0 kabul edildi)\")"
   ]
  },
  {
   "cell_type": "code",
   "execution_count": 26,
   "id": "8235e32d",
   "metadata": {},
   "outputs": [
    {
     "name": "stdout",
     "output_type": "stream",
     "text": [
      "Mann-Whitney U Test İstatistiği: 16827.0\n",
      "P-değeri: 0.01582186589532613\n",
      "İki grup arasında anlamlı bir medyan farklılığı vardır. (H0 reddedildi)\n"
     ]
    }
   ],
   "source": [
    "statistic, p_value = stats.mannwhitneyu(df[\"newspaper\"], df[\"facebook\"], alternative='two-sided')\n",
    "\n",
    "print(\"Mann-Whitney U Test İstatistiği:\", statistic)\n",
    "print(\"P-değeri:\", p_value)\n",
    "\n",
    "alpha = 0.05\n",
    "if p_value < alpha:\n",
    "    print(\"İki grup arasında anlamlı bir medyan farklılığı vardır. (H0 reddedildi)\")\n",
    "else:\n",
    "    print(\"İki grup arasında anlamlı bir medyan farklılığı yoktur. (H0 kabul edildi)\")"
   ]
  },
  {
   "cell_type": "markdown",
   "id": "ae90c926",
   "metadata": {},
   "source": [
    "###### _ _ _ _ _ _ _ _ _ _ _ _ _ _ _ _ _ _ _ _ __ _ _ _ _ _ _ _ _ _ _ _ _ _ _ _ _ _ _ _ _ _ _ _ _ _ _ _ _ _ _ _ _ _ _ _ _ _ _ _ _ _ _ _ _ _ _ _ _ _ _ _ _ _ _ _ _ _ _ \n"
   ]
  },
  {
   "cell_type": "markdown",
   "id": "ba4aa9b3",
   "metadata": {},
   "source": [
    "<h1 style=\"background-color:#FF00F7;font-family:newtimeroman;font-size:150%;text-align:left;color:#FFFFFF\">Kruskal-Wallis Test İstatistiği ve Wilcoxon Testi\n",
    "</h1>"
   ]
  },
  {
   "cell_type": "code",
   "execution_count": 27,
   "id": "cde5e382",
   "metadata": {},
   "outputs": [
    {
     "name": "stdout",
     "output_type": "stream",
     "text": [
      "Kruskal-Wallis Test İstatistiği: 227.24553404036075\n",
      "Kruskal-Wallis Test P-değeri: 4.510859128612107e-50\n",
      "\n",
      "Facebook vs. Newspaper:\n",
      "Test İstatistiği: 4999.0\n",
      "P-değeri: 0.0002825355563991798\n",
      "\n",
      "Facebook vs. Youtube:\n",
      "Test İstatistiği: 264.0\n",
      "P-değeri: 7.92213213450897e-28\n",
      "\n",
      "Newspaper vs. Youtube:\n",
      "Test İstatistiği: 325.0\n",
      "P-değeri: 2.2253500690099148e-27\n"
     ]
    }
   ],
   "source": [
    "import pandas as pd\n",
    "from scipy.stats import kruskal, wilcoxon\n",
    "\n",
    "kruskal_stat, kruskal_p = kruskal(df['facebook'], df['newspaper'], df['youtube'])\n",
    "\n",
    "print(\"Kruskal-Wallis Test İstatistiği:\", kruskal_stat)\n",
    "print(\"Kruskal-Wallis Test P-değeri:\", kruskal_p)\n",
    "\n",
    "if kruskal_p < 0.05:  \n",
    "    stat_facebook_newspaper, p_facebook_newspaper = wilcoxon(df['facebook'], df['newspaper'])\n",
    "    print(\"\\nFacebook vs. Newspaper:\")\n",
    "    print(\"Test İstatistiği:\", stat_facebook_newspaper)\n",
    "    print(\"P-değeri:\", p_facebook_newspaper)\n",
    "    \n",
    "    stat_facebook_youtube, p_facebook_youtube = wilcoxon(df['facebook'], df['youtube'])\n",
    "    print(\"\\nFacebook vs. Youtube:\")\n",
    "    print(\"Test İstatistiği:\", stat_facebook_youtube)\n",
    "    print(\"P-değeri:\", p_facebook_youtube)\n",
    "\n",
    "    stat_newspaper_youtube, p_newspaper_youtube = wilcoxon(df['newspaper'], df['youtube'])\n",
    "    print(\"\\nNewspaper vs. Youtube:\")\n",
    "    print(\"Test İstatistiği:\", stat_newspaper_youtube)\n",
    "    print(\"P-değeri:\", p_newspaper_youtube)\n",
    "else:\n",
    "    print(\"\\nGruplar arasında anlamlı bir farklılık bulunmamaktadır.\")\n"
   ]
  },
  {
   "cell_type": "markdown",
   "id": "bb1a2bc7",
   "metadata": {},
   "source": [
    "###### Facebook ve Newspaper grupları arasında anlamlı bir fark vardır. P-değeri, bu farkın tesadüfi olmadığını gösterir.\n",
    "\n",
    "###### Facebook ve Youtube grupları arasında anlamlı bir fark vardır. P-değeri, bu farkın tesadüfi olmadığını gösterir.\n",
    "\n",
    "######  Newspaper ve Youtube grupları arasında anlamlı bir fark vardır. P-değeri, bu farkın tesadüfi olmadığını gösterir."
   ]
  },
  {
   "cell_type": "markdown",
   "id": "fe585f23",
   "metadata": {},
   "source": [
    "###### _ _ _ _ _ _ _ _ _ _ _ _ _ _ _ _ _ _ _ _ __ _ _ _ _ _ _ _ _ _ _ _ _ _ _ _ _ _ _ _ _ _ _ _ _ _ _ _ _ _ _ _ _ _ _ _ _ _ _ _ _ _ _ _ _ _ _ _ _ _ _ _ _ _ _ _ _ _ _ \n"
   ]
  },
  {
   "cell_type": "markdown",
   "id": "6ba4ce71",
   "metadata": {},
   "source": [
    "<h1 style=\"background-color:#FFA500;font-family:newtimeroman;font-size:200%;text-align:center;color:#FFFFFF\">Regresyon Analizi Özeti\n",
    "</h1>\n"
   ]
  },
  {
   "cell_type": "code",
   "execution_count": 28,
   "id": "865ec944",
   "metadata": {},
   "outputs": [
    {
     "data": {
      "text/html": [
       "<table class=\"simpletable\">\n",
       "<caption>OLS Regression Results</caption>\n",
       "<tr>\n",
       "  <th>Dep. Variable:</th>          <td>sales</td>      <th>  R-squared:         </th> <td>   0.900</td>\n",
       "</tr>\n",
       "<tr>\n",
       "  <th>Model:</th>                   <td>OLS</td>       <th>  Adj. R-squared:    </th> <td>   0.899</td>\n",
       "</tr>\n",
       "<tr>\n",
       "  <th>Method:</th>             <td>Least Squares</td>  <th>  F-statistic:       </th> <td>   503.7</td>\n",
       "</tr>\n",
       "<tr>\n",
       "  <th>Date:</th>             <td>Wed, 24 Jan 2024</td> <th>  Prob (F-statistic):</th> <td>2.09e-83</td>\n",
       "</tr>\n",
       "<tr>\n",
       "  <th>Time:</th>                 <td>16:40:45</td>     <th>  Log-Likelihood:    </th> <td> -359.99</td>\n",
       "</tr>\n",
       "<tr>\n",
       "  <th>No. Observations:</th>      <td>   171</td>      <th>  AIC:               </th> <td>   728.0</td>\n",
       "</tr>\n",
       "<tr>\n",
       "  <th>Df Residuals:</th>          <td>   167</td>      <th>  BIC:               </th> <td>   740.5</td>\n",
       "</tr>\n",
       "<tr>\n",
       "  <th>Df Model:</th>              <td>     3</td>      <th>                     </th>     <td> </td>   \n",
       "</tr>\n",
       "<tr>\n",
       "  <th>Covariance Type:</th>      <td>nonrobust</td>    <th>                     </th>     <td> </td>   \n",
       "</tr>\n",
       "</table>\n",
       "<table class=\"simpletable\">\n",
       "<tr>\n",
       "      <td></td>         <th>coef</th>     <th>std err</th>      <th>t</th>      <th>P>|t|</th>  <th>[0.025</th>    <th>0.975]</th>  \n",
       "</tr>\n",
       "<tr>\n",
       "  <th>const</th>     <td>    3.5059</td> <td>    0.400</td> <td>    8.772</td> <td> 0.000</td> <td>    2.717</td> <td>    4.295</td>\n",
       "</tr>\n",
       "<tr>\n",
       "  <th>youtube</th>   <td>    0.0452</td> <td>    0.002</td> <td>   29.830</td> <td> 0.000</td> <td>    0.042</td> <td>    0.048</td>\n",
       "</tr>\n",
       "<tr>\n",
       "  <th>facebook</th>  <td>    0.1884</td> <td>    0.009</td> <td>   20.895</td> <td> 0.000</td> <td>    0.171</td> <td>    0.206</td>\n",
       "</tr>\n",
       "<tr>\n",
       "  <th>newspaper</th> <td>    0.0043</td> <td>    0.007</td> <td>    0.658</td> <td> 0.511</td> <td>   -0.009</td> <td>    0.017</td>\n",
       "</tr>\n",
       "</table>\n",
       "<table class=\"simpletable\">\n",
       "<tr>\n",
       "  <th>Omnibus:</th>       <td>57.934</td> <th>  Durbin-Watson:     </th> <td>   2.065</td>\n",
       "</tr>\n",
       "<tr>\n",
       "  <th>Prob(Omnibus):</th> <td> 0.000</td> <th>  Jarque-Bera (JB):  </th> <td> 162.792</td>\n",
       "</tr>\n",
       "<tr>\n",
       "  <th>Skew:</th>          <td>-1.388</td> <th>  Prob(JB):          </th> <td>4.47e-36</td>\n",
       "</tr>\n",
       "<tr>\n",
       "  <th>Kurtosis:</th>      <td> 6.891</td> <th>  Cond. No.          </th> <td>    544.</td>\n",
       "</tr>\n",
       "</table><br/><br/>Notes:<br/>[1] Standard Errors assume that the covariance matrix of the errors is correctly specified."
      ],
      "text/latex": [
       "\\begin{center}\n",
       "\\begin{tabular}{lclc}\n",
       "\\toprule\n",
       "\\textbf{Dep. Variable:}    &      sales       & \\textbf{  R-squared:         } &     0.900   \\\\\n",
       "\\textbf{Model:}            &       OLS        & \\textbf{  Adj. R-squared:    } &     0.899   \\\\\n",
       "\\textbf{Method:}           &  Least Squares   & \\textbf{  F-statistic:       } &     503.7   \\\\\n",
       "\\textbf{Date:}             & Wed, 24 Jan 2024 & \\textbf{  Prob (F-statistic):} &  2.09e-83   \\\\\n",
       "\\textbf{Time:}             &     16:40:45     & \\textbf{  Log-Likelihood:    } &   -359.99   \\\\\n",
       "\\textbf{No. Observations:} &         171      & \\textbf{  AIC:               } &     728.0   \\\\\n",
       "\\textbf{Df Residuals:}     &         167      & \\textbf{  BIC:               } &     740.5   \\\\\n",
       "\\textbf{Df Model:}         &           3      & \\textbf{                     } &             \\\\\n",
       "\\textbf{Covariance Type:}  &    nonrobust     & \\textbf{                     } &             \\\\\n",
       "\\bottomrule\n",
       "\\end{tabular}\n",
       "\\begin{tabular}{lcccccc}\n",
       "                   & \\textbf{coef} & \\textbf{std err} & \\textbf{t} & \\textbf{P$> |$t$|$} & \\textbf{[0.025} & \\textbf{0.975]}  \\\\\n",
       "\\midrule\n",
       "\\textbf{const}     &       3.5059  &        0.400     &     8.772  &         0.000        &        2.717    &        4.295     \\\\\n",
       "\\textbf{youtube}   &       0.0452  &        0.002     &    29.830  &         0.000        &        0.042    &        0.048     \\\\\n",
       "\\textbf{facebook}  &       0.1884  &        0.009     &    20.895  &         0.000        &        0.171    &        0.206     \\\\\n",
       "\\textbf{newspaper} &       0.0043  &        0.007     &     0.658  &         0.511        &       -0.009    &        0.017     \\\\\n",
       "\\bottomrule\n",
       "\\end{tabular}\n",
       "\\begin{tabular}{lclc}\n",
       "\\textbf{Omnibus:}       & 57.934 & \\textbf{  Durbin-Watson:     } &    2.065  \\\\\n",
       "\\textbf{Prob(Omnibus):} &  0.000 & \\textbf{  Jarque-Bera (JB):  } &  162.792  \\\\\n",
       "\\textbf{Skew:}          & -1.388 & \\textbf{  Prob(JB):          } & 4.47e-36  \\\\\n",
       "\\textbf{Kurtosis:}      &  6.891 & \\textbf{  Cond. No.          } &     544.  \\\\\n",
       "\\bottomrule\n",
       "\\end{tabular}\n",
       "%\\caption{OLS Regression Results}\n",
       "\\end{center}\n",
       "\n",
       "Notes: \\newline\n",
       " [1] Standard Errors assume that the covariance matrix of the errors is correctly specified."
      ],
      "text/plain": [
       "<class 'statsmodels.iolib.summary.Summary'>\n",
       "\"\"\"\n",
       "                            OLS Regression Results                            \n",
       "==============================================================================\n",
       "Dep. Variable:                  sales   R-squared:                       0.900\n",
       "Model:                            OLS   Adj. R-squared:                  0.899\n",
       "Method:                 Least Squares   F-statistic:                     503.7\n",
       "Date:                Wed, 24 Jan 2024   Prob (F-statistic):           2.09e-83\n",
       "Time:                        16:40:45   Log-Likelihood:                -359.99\n",
       "No. Observations:                 171   AIC:                             728.0\n",
       "Df Residuals:                     167   BIC:                             740.5\n",
       "Df Model:                           3                                         \n",
       "Covariance Type:            nonrobust                                         \n",
       "==============================================================================\n",
       "                 coef    std err          t      P>|t|      [0.025      0.975]\n",
       "------------------------------------------------------------------------------\n",
       "const          3.5059      0.400      8.772      0.000       2.717       4.295\n",
       "youtube        0.0452      0.002     29.830      0.000       0.042       0.048\n",
       "facebook       0.1884      0.009     20.895      0.000       0.171       0.206\n",
       "newspaper      0.0043      0.007      0.658      0.511      -0.009       0.017\n",
       "==============================================================================\n",
       "Omnibus:                       57.934   Durbin-Watson:                   2.065\n",
       "Prob(Omnibus):                  0.000   Jarque-Bera (JB):              162.792\n",
       "Skew:                          -1.388   Prob(JB):                     4.47e-36\n",
       "Kurtosis:                       6.891   Cond. No.                         544.\n",
       "==============================================================================\n",
       "\n",
       "Notes:\n",
       "[1] Standard Errors assume that the covariance matrix of the errors is correctly specified.\n",
       "\"\"\""
      ]
     },
     "execution_count": 28,
     "metadata": {},
     "output_type": "execute_result"
    }
   ],
   "source": [
    "import statsmodels.api as sm\n",
    "X_c = sm.add_constant(X) \n",
    "LR_OLS = sm.OLS(y,X_c)\n",
    "LR_OLS_results = LR_OLS.fit()\n",
    "LR_OLS_results.summary()"
   ]
  },
  {
   "cell_type": "markdown",
   "id": "6a945a74",
   "metadata": {},
   "source": [
    "###### _ _ _ _ _ _ _ _ _ _ _ _ _ _ _ _ _ _ _ _ __ _ _ _ _ _ _ _ _ _ _ _ _ _ _ _ _ _ _ _ _ _ _ _ _ _ _ _ _ _ _ _ _ _ _ _ _ _ _ _ _ _ _ _ _ _ _ _ _ _ _ _ _ _ _ _ _ _ _ \n"
   ]
  },
  {
   "cell_type": "markdown",
   "id": "ea6126ba",
   "metadata": {},
   "source": [
    "###### Sabit Terim \n",
    "\n",
    "$H_0$: Sabit terim 0'a eşittir. (β0 = 0)\n",
    "\n",
    "$H_1$ : Sabit terim 0'a eşit değildir. (β0 ≠ 0)\n",
    "\n",
    "Tablodaki p-değeri (PR(|t|)) 0.05'den küçük olduğu için H0'ı red ederiz. Sabit terim model için anlamlıdır"
   ]
  },
  {
   "cell_type": "markdown",
   "id": "cf9b26c8",
   "metadata": {},
   "source": [
    "###### _ _ _ _ _ _ _ _ _ _ _ _ _ _ _ _ _ _ _ _ __ _ _ _ _ _ _ _ _ _ _ _ _ _ _ _ _ _ _ _ _ _ _ _ _ _ _ _ _ _ _ _ _ _ _ _ _ _ _ _ _ _ _ _ _ _ _ _ _ _ _ _ _ _ _ _ _ _ _ \n"
   ]
  },
  {
   "cell_type": "markdown",
   "id": "0b039dc0",
   "metadata": {},
   "source": [
    "###### Youtube Değişkeni\n",
    "\n",
    "$H_0$: youtube değişkeninin katsayısı 0'a eşittir. (β1 = 0)\n",
    "\n",
    "$H_1$ : youtube değişkeninin katsayısı (β1 ≠ 0)\n",
    "\n",
    "Tablodaki p-değeri (PR(|t|)) 0.05'den küçük olduğu için H0'ı red ederiz. Youtube değişkeni model için anlamlıdır"
   ]
  },
  {
   "cell_type": "markdown",
   "id": "36af5377",
   "metadata": {},
   "source": [
    "###### _ _ _ _ _ _ _ _ _ _ _ _ _ _ _ _ _ _ _ _ __ _ _ _ _ _ _ _ _ _ _ _ _ _ _ _ _ _ _ _ _ _ _ _ _ _ _ _ _ _ _ _ _ _ _ _ _ _ _ _ _ _ _ _ _ _ _ _ _ _ _ _ _ _ _ _ _ _ _ \n"
   ]
  },
  {
   "cell_type": "markdown",
   "id": "978286d7",
   "metadata": {},
   "source": [
    "###### Facebook Değişkeni\n",
    "\n",
    "$H_0$: Facebook değişkeninin katsayısı 0'a eşittir. (β2 = 0)\n",
    "\n",
    "$H_1$ : Facebook değişkeninin katsayısı (β2 ≠ 0)\n",
    "\n",
    "Tablodaki p-değeri (PR(|t|)) 0.05'den küçük olduğu için H0'ı red ederiz. Youtube değişkeni model için anlamlıdır"
   ]
  },
  {
   "cell_type": "markdown",
   "id": "f6e20357",
   "metadata": {},
   "source": [
    "###### _ _ _ _ _ _ _ _ _ _ _ _ _ _ _ _ _ _ _ _ __ _ _ _ _ _ _ _ _ _ _ _ _ _ _ _ _ _ _ _ _ _ _ _ _ _ _ _ _ _ _ _ _ _ _ _ _ _ _ _ _ _ _ _ _ _ _ _ _ _ _ _ _ _ _ _ _ _ _ \n"
   ]
  },
  {
   "cell_type": "markdown",
   "id": "c0c44663",
   "metadata": {},
   "source": [
    "###### Newspaper Değişkeni\n",
    "\n",
    "$H_0$: Newspaper değişkeninin katsayısı 0'a eşittir. (β3 = 0)\n",
    "\n",
    "$H_1$ : Newspaper değişkeninin katsayısı (β3 ≠ 0)\n",
    "\n",
    "Tablodaki p-değeri (PR(|t|)) 0.05'den büyük olduğu için H0'ı red edemeyiz. Newspaper değişkeni model için anlamlı değildir"
   ]
  },
  {
   "cell_type": "markdown",
   "id": "cc25cc88",
   "metadata": {},
   "source": [
    "###### _ _ _ _ _ _ _ _ _ _ _ _ _ _ _ _ _ _ _ _ __ _ _ _ _ _ _ _ _ _ _ _ _ _ _ _ _ _ _ _ _ _ _ _ _ _ _ _ _ _ _ _ _ _ _ _ _ _ _ _ _ _ _ _ _ _ _ _ _ _ _ _ _ _ _ _ _ _ _ \n"
   ]
  },
  {
   "cell_type": "markdown",
   "id": "8e79de14",
   "metadata": {},
   "source": [
    "###### R-kare (R-squared):\n",
    "\n",
    "R-kare, bağımsız değişkenlerin bağımlı değişkenin değişkenliğini ne kadar açıkladığını gösteren bir ölçüdür. Bu durumda, R-kare değeri 0.900, satıştaki değişkenliğin yaklaşık %90'ının modeldeki bağımsız değişkenler tarafından açıklanabildiğini gösterir."
   ]
  },
  {
   "cell_type": "markdown",
   "id": "406835da",
   "metadata": {},
   "source": [
    "###### _ _ _ _ _ _ _ _ _ _ _ _ _ _ _ _ _ _ _ _ __ _ _ _ _ _ _ _ _ _ _ _ _ _ _ _ _ _ _ _ _ _ _ _ _ _ _ _ _ _ _ _ _ _ _ _ _ _ _ _ _ _ _ _ _ _ _ _ _ _ _ _ _ _ _ _ _ _ _ \n"
   ]
  },
  {
   "cell_type": "markdown",
   "id": "82d47c16",
   "metadata": {},
   "source": [
    "###### Model:\n",
    "\n",
    "OLS, Ordinary Least Squares'ın kısaltmasıdır ve bir lineer regresyon modelindeki parametreleri tahmin etmek için kullanılan bir yöntemdir. Bu yöntem, hataların karelerinin toplamını minimize eder."
   ]
  },
  {
   "cell_type": "markdown",
   "id": "9b469d8a",
   "metadata": {},
   "source": [
    "###### _ _ _ _ _ _ _ _ _ _ _ _ _ _ _ _ _ _ _ _ __ _ _ _ _ _ _ _ _ _ _ _ _ _ _ _ _ _ _ _ _ _ _ _ _ _ _ _ _ _ _ _ _ _ _ _ _ _ _ _ _ _ _ _ _ _ _ _ _ _ _ _ _ _ _ _ _ _ _ \n"
   ]
  },
  {
   "cell_type": "markdown",
   "id": "8f0c074b",
   "metadata": {},
   "source": [
    "###### Düzeltilmiş R-kare (Adjusted R-squared):\n",
    "\n",
    "Düzeltilmiş R-kare, modeldeki tahmincilerin sayısını düzelttikten sonra R-kare'nin modifiye edilmiş bir versiyonudur. Bu, çoklu tahminciler olduğunda modelin uygunluğunu daha doğru bir şekilde ölçer. Bu durumda, 0.899 değerindedir."
   ]
  },
  {
   "cell_type": "markdown",
   "id": "afca2ead",
   "metadata": {},
   "source": [
    "###### _ _ _ _ _ _ _ _ _ _ _ _ _ _ _ _ _ _ _ _ __ _ _ _ _ _ _ _ _ _ _ _ _ _ _ _ _ _ _ _ _ _ _ _ _ _ _ _ _ _ _ _ _ _ _ _ _ _ _ _ _ _ _ _ _ _ _ _ _ _ _ _ _ _ _ _ _ _ _ \n"
   ]
  },
  {
   "cell_type": "markdown",
   "id": "312bfdee",
   "metadata": {},
   "source": [
    "###### Yöntem (Method):\n",
    "\n",
    "Least Squares, modelin katsayılarını tahmin etmek için kullanılan yöntemdir. Gözlemlenen ve tahmin edilen değerler arasındaki karelerin toplamını en aza indirir."
   ]
  },
  {
   "cell_type": "markdown",
   "id": "da31fbe6",
   "metadata": {},
   "source": [
    "###### _ _ _ _ _ _ _ _ _ _ _ _ _ _ _ _ _ _ _ _ __ _ _ _ _ _ _ _ _ _ _ _ _ _ _ _ _ _ _ _ _ _ _ _ _ _ _ _ _ _ _ _ _ _ _ _ _ _ _ _ _ _ _ _ _ _ _ _ _ _ _ _ _ _ _ _ _ _ _ \n"
   ]
  },
  {
   "cell_type": "markdown",
   "id": "94ced5da",
   "metadata": {},
   "source": [
    "###### F-istatistiği (F-statistic):\n",
    "\n",
    "F-istatistiği, modelin genel anlamda anlamlılığını test eder. Bu durumda, 503.7 değerindedir ve ilişkili olasılık (Prob (F-statistic)) sıfıra çok yakındır (2.09e-83), bu da genel modelin istatistiksel olarak anlamlı olduğunu gösterir."
   ]
  },
  {
   "cell_type": "markdown",
   "id": "4b0c180a",
   "metadata": {},
   "source": [
    "###### _ _ _ _ _ _ _ _ _ _ _ _ _ _ _ _ _ _ _ _ __ _ _ _ _ _ _ _ _ _ _ _ _ _ _ _ _ _ _ _ _ _ _ _ _ _ _ _ _ _ _ _ _ _ _ _ _ _ _ _ _ _ _ _ _ _ _ _ _ _ _ _ _ _ _ _ _ _ _ \n"
   ]
  },
  {
   "cell_type": "markdown",
   "id": "2b4f2d0f",
   "metadata": {},
   "source": [
    "###### Log-likelihood:\n",
    "\n",
    "Log-likelihood, modelin gözlemlenen veriyi ne kadar iyi açıkladığını ölçen bir değerdir. Bu durumda, -359.99 değerindedir."
   ]
  },
  {
   "cell_type": "markdown",
   "id": "4f1a2a8c",
   "metadata": {},
   "source": [
    "###### _ _ _ _ _ _ _ _ _ _ _ _ _ _ _ _ _ _ _ _ __ _ _ _ _ _ _ _ _ _ _ _ _ _ _ _ _ _ _ _ _ _ _ _ _ _ _ _ _ _ _ _ _ _ _ _ _ _ _ _ _ _ _ _ _ _ _ _ _ _ _ _ _ _ _ _ _ _ _ \n"
   ]
  },
  {
   "cell_type": "markdown",
   "id": "0952f41d",
   "metadata": {},
   "source": [
    "###### AIC (Akaike Bilgi Kriteri) ve BIC (Bayesyen Bilgi Kriteri):\n",
    "\n",
    "Bunlar istatistiksel modellerin göreli kalitesini ölçen değerlerdir. Düşük AIC ve BIC değerleri, daha iyi uyan bir modeli gösterir. Bu durumda, AIC 728.0 ve BIC 740.5 değerindedir."
   ]
  },
  {
   "cell_type": "markdown",
   "id": "8ba7ae35",
   "metadata": {},
   "source": [
    "###### _ _ _ _ _ _ _ _ _ _ _ _ _ _ _ _ _ _ _ _ __ _ _ _ _ _ _ _ _ _ _ _ _ _ _ _ _ _ _ _ _ _ _ _ _ _ _ _ _ _ _ _ _ _ _ _ _ _ _ _ _ _ _ _ _ _ _ _ _ _ _ _ _ _ _ _ _ _ _ \n"
   ]
  },
  {
   "cell_type": "markdown",
   "id": "6cb04129",
   "metadata": {},
   "source": [
    "###### Serbestlik Dereceleri (Degrees of Freedom):\n",
    "\n",
    "Df Residuals, kalıntılar için serbestlik dereceleri ve Df Model, model için serbestlik dereceleridir. Bu durumda, kalıntılar için 167, model için ise 3 serbestlik derecesi bulunmaktadır."
   ]
  },
  {
   "cell_type": "markdown",
   "id": "b5404634",
   "metadata": {},
   "source": [
    "###### _ _ _ _ _ _ _ _ _ _ _ _ _ _ _ _ _ _ _ _ __ _ _ _ _ _ _ _ _ _ _ _ _ _ _ _ _ _ _ _ _ _ _ _ _ _ _ _ _ _ _ _ _ _ _ _ _ _ _ _ _ _ _ _ _ _ _ _ _ _ _ _ _ _ _ _ _ _ _ \n"
   ]
  },
  {
   "cell_type": "markdown",
   "id": "0492c11c",
   "metadata": {},
   "source": [
    "###### Kovaryans Türü (Covariance Type):\n",
    "\n",
    "Bu, tahminde kullanılan kovaryans matrisinin türünü belirtir. Bu durumda \"nonrobust\" olarak belirtilmiştir, yani homoscedasticity ve kalıntılar arasında korelasyon olmadığını varsayar."
   ]
  },
  {
   "cell_type": "markdown",
   "id": "3c5c3309",
   "metadata": {},
   "source": [
    "###### _ _ _ _ _ _ _ _ _ _ _ _ _ _ _ _ _ _ _ _ __ _ _ _ _ _ _ _ _ _ _ _ _ _ _ _ _ _ _ _ _ _ _ _ _ _ _ _ _ _ _ _ _ _ _ _ _ _ _ _ _ _ _ _ _ _ _ _ _ _ _ _ _ _ _ _ _ _ _ \n"
   ]
  },
  {
   "cell_type": "markdown",
   "id": "e69fa69a",
   "metadata": {},
   "source": [
    "###### Omnibus Test:\n",
    "\n",
    "H0 (Null Hypothesis): Modelin hata terimleri normal olarak dağılmıştır.\n",
    "\n",
    "H1 (Alternative Hypothesis): Modelin hata terimleri normal olarak dağılmamaktadır.\n",
    "\n",
    "Omnibus testi p-değeri 0.000 olarak verilmiş. Bu durumda, H0 hipotezi reddedilir. Yani, modelin hata terimleri normal olarak dağılmamaktadır."
   ]
  },
  {
   "cell_type": "markdown",
   "id": "5e24f81d",
   "metadata": {},
   "source": [
    "###### _ _ _ _ _ _ _ _ _ _ _ _ _ _ _ _ _ _ _ _ __ _ _ _ _ _ _ _ _ _ _ _ _ _ _ _ _ _ _ _ _ _ _ _ _ _ _ _ _ _ _ _ _ _ _ _ _ _ _ _ _ _ _ _ _ _ _ _ _ _ _ _ _ _ _ _ _ _ _ \n"
   ]
  },
  {
   "cell_type": "markdown",
   "id": "a369fb45",
   "metadata": {},
   "source": [
    "###### Durbin-Watson İstatistiği:\n",
    "\n",
    "Durbin-Watson istatistiği 2.065 olarak verilmiş. 2'ye yakın olması, otokorelasyon olup olmadığını belirlemede kullanılır. Bu durumda, otokorelasyon belirgin değil gibi görünüyor."
   ]
  },
  {
   "cell_type": "markdown",
   "id": "50ad2cc7",
   "metadata": {},
   "source": [
    "###### _ _ _ _ _ _ _ _ _ _ _ _ _ _ _ _ _ _ _ _ __ _ _ _ _ _ _ _ _ _ _ _ _ _ _ _ _ _ _ _ _ _ _ _ _ _ _ _ _ _ _ _ _ _ _ _ _ _ _ _ _ _ _ _ _ _ _ _ _ _ _ _ _ _ _ _ _ _ _ \n"
   ]
  },
  {
   "cell_type": "markdown",
   "id": "2f801fa3",
   "metadata": {},
   "source": [
    "###### Jarque-Bera (JB) Testi:\n",
    "\n",
    "H0: Hata terimleri normal olarak dağılmıştır.\n",
    "\n",
    "H1: Hata terimleri normal olarak dağılmamaktadır.\n",
    "\n",
    "Yorum: JB testi p-değeri 4.47e-36 (çok küçük) olarak verilmiş. Bu, H0 hipotezinin güçlü bir şekilde reddedildiğini gösterir. Yani, modelin hata terimleri normal olarak dağılmamaktadır."
   ]
  },
  {
   "cell_type": "markdown",
   "id": "e060fa6c",
   "metadata": {},
   "source": [
    "###### _ _ _ _ _ _ _ _ _ _ _ _ _ _ _ _ _ _ _ _ __ _ _ _ _ _ _ _ _ _ _ _ _ _ _ _ _ _ _ _ _ _ _ _ _ _ _ _ _ _ _ _ _ _ _ _ _ _ _ _ _ _ _ _ _ _ _ _ _ _ _ _ _ _ _ _ _ _ _ \n"
   ]
  },
  {
   "cell_type": "markdown",
   "id": "792a42a3",
   "metadata": {},
   "source": [
    "###### Skewness( Çarpıklık )\n",
    "\n",
    "0'dan küçükse: Dağılım sola çarpıktır .\n",
    "\n",
    "0'a yakınsa: Dağılım simetriktir.\n",
    "\n",
    "0'dan büyükse: Dağılım sağa çarpıktır .\n",
    "\n",
    "Skew değeri -1.388\t olduğu için veri kümesi simetrik değildir. Sola çarpıktır"
   ]
  },
  {
   "cell_type": "markdown",
   "id": "2fe558fd",
   "metadata": {},
   "source": [
    "###### _ _ _ _ _ _ _ _ _ _ _ _ _ _ _ _ _ _ _ _ __ _ _ _ _ _ _ _ _ _ _ _ _ _ _ _ _ _ _ _ _ _ _ _ _ _ _ _ _ _ _ _ _ _ _ _ _ _ _ _ _ _ _ _ _ _ _ _ _ _ _ _ _ _ _ _ _ _ _ \n"
   ]
  },
  {
   "cell_type": "markdown",
   "id": "aed73fc1",
   "metadata": {},
   "source": [
    "###### Kurtosis (Basıklık)\n",
    "Basıklık = 0: Dağılım normal dağılıma yakındır.\n",
    " \n",
    "Basıklık < 0: Negatif bir değer, normal dağılıma göre daha düz bir dağılımı gösterir .\n",
    " \n",
    "Basıklık > 0: Pozitif bir değer, normal dağılıma göre daha sivri bir dağılımı gösterir .\n",
    " \n",
    "Basıklık değerimiz 6.891 olduğu için normal dağılıma göre daha sivri bir dağılımı gösterir."
   ]
  },
  {
   "cell_type": "markdown",
   "id": "3c52c6d6",
   "metadata": {},
   "source": [
    "###### _ _ _ _ _ _ _ _ _ _ _ _ _ _ _ _ _ _ _ _ __ _ _ _ _ _ _ _ _ _ _ _ _ _ _ _ _ _ _ _ _ _ _ _ _ _ _ _ _ _ _ _ _ _ _ _ _ _ _ _ _ _ _ _ _ _ _ _ _ _ _ _ _ _ _ _ _ _ _ \n"
   ]
  },
  {
   "cell_type": "markdown",
   "id": "696ac58e",
   "metadata": {},
   "source": [
    "###### Condition Number\n",
    "\n",
    "30'dan büyük bir değere sahip olduğunda multicollinearity yani çoklu bağlantı problemi ihtimali olduğunu söyleyebiliriz."
   ]
  }
 ],
 "metadata": {
  "kernelspec": {
   "display_name": "Python 3 (ipykernel)",
   "language": "python",
   "name": "python3"
  },
  "language_info": {
   "codemirror_mode": {
    "name": "ipython",
    "version": 3
   },
   "file_extension": ".py",
   "mimetype": "text/x-python",
   "name": "python",
   "nbconvert_exporter": "python",
   "pygments_lexer": "ipython3",
   "version": "3.11.5"
  }
 },
 "nbformat": 4,
 "nbformat_minor": 5
}
